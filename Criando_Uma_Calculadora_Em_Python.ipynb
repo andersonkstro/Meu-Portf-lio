{
  "nbformat": 4,
  "nbformat_minor": 0,
  "metadata": {
    "colab": {
      "provenance": [],
      "authorship_tag": "ABX9TyPJ7Ks0T7c9hYKKgnwzYeVD",
      "include_colab_link": true
    },
    "kernelspec": {
      "name": "python3",
      "display_name": "Python 3"
    },
    "language_info": {
      "name": "python"
    }
  },
  "cells": [
    {
      "cell_type": "markdown",
      "metadata": {
        "id": "view-in-github",
        "colab_type": "text"
      },
      "source": [
        "<a href=\"https://colab.research.google.com/github/andersonkstro/Meu-Portfolio/blob/master/Criando_Uma_Calculadora_Em_Python.ipynb\" target=\"_parent\"><img src=\"https://colab.research.google.com/assets/colab-badge.svg\" alt=\"Open In Colab\"/></a>"
      ]
    },
    {
      "cell_type": "markdown",
      "source": [
        "# Calculadora Para Iniciantes"
      ],
      "metadata": {
        "id": "IIqKxIPXkhJF"
      }
    },
    {
      "cell_type": "code",
      "execution_count": null,
      "metadata": {
        "id": "bjW_P1CYdIRs"
      },
      "outputs": [],
      "source": [
        "# Inserindo os dados ( Fiz no VS CODE)\n",
        "\n",
        "\n",
        "\n",
        "print(\"\\n******************* Python Calculator *******************\")\n",
        "\n",
        "def add(x, y):\n",
        "    return x + y\n",
        "\n",
        "def subtract(x, y):\n",
        "    return x - y\n",
        "\n",
        "def multiply(x, y):\n",
        "    return x * y\n",
        "\n",
        "def divide(x, y):\n",
        "    return x / y\n",
        "\n",
        "print(\"\\nSelecione o número da operação desejada: \\n\")\n",
        "print(\"1 - Soma\")\n",
        "print(\"2 - Subtração\")\n",
        "print(\"3 - Multiplicação\")\n",
        "print(\"4 - Divisão\")\n",
        "\n",
        "escolha = input(\"\\nDigite sua opção (1/2/3/4): \")\n",
        "\n",
        "num1 = int(input(\"\\nDigite o primeiro número: \"))\n",
        "num2 = int(input(\"\\nDigite o segundo número: \"))\n",
        "\n",
        "if escolha == '1':\n",
        "    print(\"\\n\")\n",
        "    print(num1, \"+\", num2, \"=\", add(num1, num2))\n",
        "    print(\"\\n\")\n",
        "\n",
        "elif escolha == '2':\n",
        "    print(\"\\n\")\n",
        "    print(num1, \"-\", num2, \"=\", subtract(num1, num2))\n",
        "    print(\"\\n\")\n",
        "\n",
        "elif escolha == '3':\n",
        "    print(\"\\n\")\n",
        "    print(num1, \"*\", num2, \"=\", multiply(num1, num2))\n",
        "    print(\"\\n\")\n",
        "\n",
        "elif escolha == '4':\n",
        "    print(\"\\n\")\n",
        "    print(num1, \"/\", num2, \"=\", divide(num1, num2))\n",
        "    print(\"\\n\")\n",
        "\n",
        "else:\n",
        "    print(\"\\nOpção Inválida!\")"
      ]
    }
  ]
}