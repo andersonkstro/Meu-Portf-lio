{
  "nbformat": 4,
  "nbformat_minor": 0,
  "metadata": {
    "colab": {
      "name": "Cópia de Untitled0.ipynb",
      "provenance": [],
      "collapsed_sections": [],
      "include_colab_link": true
    },
    "kernelspec": {
      "name": "python3",
      "display_name": "Python 3"
    }
  },
  "cells": [
    {
      "cell_type": "markdown",
      "metadata": {
        "id": "view-in-github",
        "colab_type": "text"
      },
      "source": [
        "<a href=\"https://colab.research.google.com/github/andersonkstro/Meu-Portfolio/blob/master/ProjetoHamburgueria.ipynb\" target=\"_parent\"><img src=\"https://colab.research.google.com/assets/colab-badge.svg\" alt=\"Open In Colab\"/></a>"
      ]
    },
    {
      "cell_type": "markdown",
      "metadata": {
        "id": "UjLoK72nJQqt"
      },
      "source": [
        "Dataset da Hamburgueria2047 do município de Marabá-PA.\n",
        "\n",
        "Vamos analisar as vendas por dias da semana, meses do ano e suas categorias.\n",
        "\n",
        "---\n",
        "\n"
      ]
    },
    {
      "cell_type": "code",
      "metadata": {
        "id": "l2kbLRfLB6RD"
      },
      "source": [
        "import pandas as pd\n",
        "import matplotlib.pyplot as plt\n",
        "%matplotlib inline\n",
        "import numpy as np\n",
        "import seaborn as sns\n",
        "from datetime import datetime, timedelta\n",
        "from datetime import date\n",
        "import datetime as dt\n",
        "\n",
        "sns.set_style()"
      ],
      "execution_count": null,
      "outputs": []
    },
    {
      "cell_type": "code",
      "metadata": {
        "id": "vuSlrySZeYgG",
        "outputId": "883e5f40-f0d1-44b3-acca-dc9a31c94538",
        "colab": {
          "base_uri": "https://localhost:8080/"
        }
      },
      "source": [
        "from google.colab import drive\n",
        "drive.mount('/content/drive')"
      ],
      "execution_count": null,
      "outputs": [
        {
          "output_type": "stream",
          "name": "stdout",
          "text": [
            "Mounted at /content/drive\n"
          ]
        }
      ]
    },
    {
      "cell_type": "markdown",
      "metadata": {
        "id": "iXgnKfhrEDDj"
      },
      "source": [
        "# New Section"
      ]
    },
    {
      "cell_type": "code",
      "metadata": {
        "id": "EhSkWuwuCH6v"
      },
      "source": [
        "# Importando o dataset\n",
        "\n",
        "df = pd.read_excel('/content/Cópia de Historico_Itens_Vendidos de 01-01-18 à 31-12-18.xlsx')"
      ],
      "execution_count": null,
      "outputs": []
    },
    {
      "cell_type": "code",
      "metadata": {
        "id": "MwDBujxAChuO",
        "outputId": "5bdae4ad-c729-458b-dc73-64d05f846ecd",
        "colab": {
          "base_uri": "https://localhost:8080/",
          "height": 354
        }
      },
      "source": [
        "# Verificando as primeiras linhas do dataset\n",
        "df.head()"
      ],
      "execution_count": null,
      "outputs": [
        {
          "output_type": "execute_result",
          "data": {
            "text/plain": [
              "           Data/Hora Item  Qtd.  Valor Un. Item  Valor. Tot. Item  \\\n",
              "0 2018-03-05 19:03:29.296     1            17.0              17.0   \n",
              "1 2018-03-05 19:06:18.572     1            22.0              22.0   \n",
              "2 2018-03-05 19:06:24.578     1             3.0               3.0   \n",
              "3 2018-03-05 19:10:04.523     1            15.0              15.0   \n",
              "4 2018-03-05 19:10:04.523     1             1.5               1.5   \n",
              "\n",
              "  Tipo de Item        Nome Prod.   Tipo Prod.     Cat. Prod.  Valor Prod.  \\\n",
              "0      Produto        207 +BACON      Produto   Hambúrgueres         17.0   \n",
              "1      Produto         207 PRIME      Produto   Hambúrgueres         22.0   \n",
              "2      Produto    COCA COLA LATA      Produto  Refrigerantes          4.0   \n",
              "3      Produto      207 CLÁSSICO      Produto   Hambúrgueres         15.0   \n",
              "4  Complemento  QUEIJO ADICIONAL  Complemento    Complemento          1.5   \n",
              "\n",
              "   Cod. Ped.  Núm. Mesa/Com.           Data Ab. Ped.          Data Fec. Ped.  \\\n",
              "0     6187.0             NaN 2018-03-05 19:02:22.138 2018-03-05 19:58:54.006   \n",
              "1     6188.0             NaN 2018-03-05 19:06:00.273 2018-03-05 19:59:16.501   \n",
              "2     6188.0             NaN 2018-03-05 19:06:00.273 2018-03-05 19:59:16.501   \n",
              "3     6189.0             NaN 2018-03-05 19:09:11.997 2018-03-05 19:58:35.722   \n",
              "4     6189.0             NaN 2018-03-05 19:09:11.997 2018-03-05 19:58:35.722   \n",
              "\n",
              "      Tipo Ped.        Stat. Ped.  \n",
              "0  Delivery      Finalizado Pago   \n",
              "1  Delivery      Finalizado Pago   \n",
              "2  Delivery      Finalizado Pago   \n",
              "3  Delivery      Finalizado Pago   \n",
              "4  Delivery      Finalizado Pago   "
            ],
            "text/html": [
              "\n",
              "  <div id=\"df-c13297a8-ed65-4385-9b7b-8cc16e78afa4\">\n",
              "    <div class=\"colab-df-container\">\n",
              "      <div>\n",
              "<style scoped>\n",
              "    .dataframe tbody tr th:only-of-type {\n",
              "        vertical-align: middle;\n",
              "    }\n",
              "\n",
              "    .dataframe tbody tr th {\n",
              "        vertical-align: top;\n",
              "    }\n",
              "\n",
              "    .dataframe thead th {\n",
              "        text-align: right;\n",
              "    }\n",
              "</style>\n",
              "<table border=\"1\" class=\"dataframe\">\n",
              "  <thead>\n",
              "    <tr style=\"text-align: right;\">\n",
              "      <th></th>\n",
              "      <th>Data/Hora Item</th>\n",
              "      <th>Qtd.</th>\n",
              "      <th>Valor Un. Item</th>\n",
              "      <th>Valor. Tot. Item</th>\n",
              "      <th>Tipo de Item</th>\n",
              "      <th>Nome Prod.</th>\n",
              "      <th>Tipo Prod.</th>\n",
              "      <th>Cat. Prod.</th>\n",
              "      <th>Valor Prod.</th>\n",
              "      <th>Cod. Ped.</th>\n",
              "      <th>Núm. Mesa/Com.</th>\n",
              "      <th>Data Ab. Ped.</th>\n",
              "      <th>Data Fec. Ped.</th>\n",
              "      <th>Tipo Ped.</th>\n",
              "      <th>Stat. Ped.</th>\n",
              "    </tr>\n",
              "  </thead>\n",
              "  <tbody>\n",
              "    <tr>\n",
              "      <th>0</th>\n",
              "      <td>2018-03-05 19:03:29.296</td>\n",
              "      <td>1</td>\n",
              "      <td>17.0</td>\n",
              "      <td>17.0</td>\n",
              "      <td>Produto</td>\n",
              "      <td>207 +BACON</td>\n",
              "      <td>Produto</td>\n",
              "      <td>Hambúrgueres</td>\n",
              "      <td>17.0</td>\n",
              "      <td>6187.0</td>\n",
              "      <td>NaN</td>\n",
              "      <td>2018-03-05 19:02:22.138</td>\n",
              "      <td>2018-03-05 19:58:54.006</td>\n",
              "      <td>Delivery</td>\n",
              "      <td>Finalizado Pago</td>\n",
              "    </tr>\n",
              "    <tr>\n",
              "      <th>1</th>\n",
              "      <td>2018-03-05 19:06:18.572</td>\n",
              "      <td>1</td>\n",
              "      <td>22.0</td>\n",
              "      <td>22.0</td>\n",
              "      <td>Produto</td>\n",
              "      <td>207 PRIME</td>\n",
              "      <td>Produto</td>\n",
              "      <td>Hambúrgueres</td>\n",
              "      <td>22.0</td>\n",
              "      <td>6188.0</td>\n",
              "      <td>NaN</td>\n",
              "      <td>2018-03-05 19:06:00.273</td>\n",
              "      <td>2018-03-05 19:59:16.501</td>\n",
              "      <td>Delivery</td>\n",
              "      <td>Finalizado Pago</td>\n",
              "    </tr>\n",
              "    <tr>\n",
              "      <th>2</th>\n",
              "      <td>2018-03-05 19:06:24.578</td>\n",
              "      <td>1</td>\n",
              "      <td>3.0</td>\n",
              "      <td>3.0</td>\n",
              "      <td>Produto</td>\n",
              "      <td>COCA COLA LATA</td>\n",
              "      <td>Produto</td>\n",
              "      <td>Refrigerantes</td>\n",
              "      <td>4.0</td>\n",
              "      <td>6188.0</td>\n",
              "      <td>NaN</td>\n",
              "      <td>2018-03-05 19:06:00.273</td>\n",
              "      <td>2018-03-05 19:59:16.501</td>\n",
              "      <td>Delivery</td>\n",
              "      <td>Finalizado Pago</td>\n",
              "    </tr>\n",
              "    <tr>\n",
              "      <th>3</th>\n",
              "      <td>2018-03-05 19:10:04.523</td>\n",
              "      <td>1</td>\n",
              "      <td>15.0</td>\n",
              "      <td>15.0</td>\n",
              "      <td>Produto</td>\n",
              "      <td>207 CLÁSSICO</td>\n",
              "      <td>Produto</td>\n",
              "      <td>Hambúrgueres</td>\n",
              "      <td>15.0</td>\n",
              "      <td>6189.0</td>\n",
              "      <td>NaN</td>\n",
              "      <td>2018-03-05 19:09:11.997</td>\n",
              "      <td>2018-03-05 19:58:35.722</td>\n",
              "      <td>Delivery</td>\n",
              "      <td>Finalizado Pago</td>\n",
              "    </tr>\n",
              "    <tr>\n",
              "      <th>4</th>\n",
              "      <td>2018-03-05 19:10:04.523</td>\n",
              "      <td>1</td>\n",
              "      <td>1.5</td>\n",
              "      <td>1.5</td>\n",
              "      <td>Complemento</td>\n",
              "      <td>QUEIJO ADICIONAL</td>\n",
              "      <td>Complemento</td>\n",
              "      <td>Complemento</td>\n",
              "      <td>1.5</td>\n",
              "      <td>6189.0</td>\n",
              "      <td>NaN</td>\n",
              "      <td>2018-03-05 19:09:11.997</td>\n",
              "      <td>2018-03-05 19:58:35.722</td>\n",
              "      <td>Delivery</td>\n",
              "      <td>Finalizado Pago</td>\n",
              "    </tr>\n",
              "  </tbody>\n",
              "</table>\n",
              "</div>\n",
              "      <button class=\"colab-df-convert\" onclick=\"convertToInteractive('df-c13297a8-ed65-4385-9b7b-8cc16e78afa4')\"\n",
              "              title=\"Convert this dataframe to an interactive table.\"\n",
              "              style=\"display:none;\">\n",
              "        \n",
              "  <svg xmlns=\"http://www.w3.org/2000/svg\" height=\"24px\"viewBox=\"0 0 24 24\"\n",
              "       width=\"24px\">\n",
              "    <path d=\"M0 0h24v24H0V0z\" fill=\"none\"/>\n",
              "    <path d=\"M18.56 5.44l.94 2.06.94-2.06 2.06-.94-2.06-.94-.94-2.06-.94 2.06-2.06.94zm-11 1L8.5 8.5l.94-2.06 2.06-.94-2.06-.94L8.5 2.5l-.94 2.06-2.06.94zm10 10l.94 2.06.94-2.06 2.06-.94-2.06-.94-.94-2.06-.94 2.06-2.06.94z\"/><path d=\"M17.41 7.96l-1.37-1.37c-.4-.4-.92-.59-1.43-.59-.52 0-1.04.2-1.43.59L10.3 9.45l-7.72 7.72c-.78.78-.78 2.05 0 2.83L4 21.41c.39.39.9.59 1.41.59.51 0 1.02-.2 1.41-.59l7.78-7.78 2.81-2.81c.8-.78.8-2.07 0-2.86zM5.41 20L4 18.59l7.72-7.72 1.47 1.35L5.41 20z\"/>\n",
              "  </svg>\n",
              "      </button>\n",
              "      \n",
              "  <style>\n",
              "    .colab-df-container {\n",
              "      display:flex;\n",
              "      flex-wrap:wrap;\n",
              "      gap: 12px;\n",
              "    }\n",
              "\n",
              "    .colab-df-convert {\n",
              "      background-color: #E8F0FE;\n",
              "      border: none;\n",
              "      border-radius: 50%;\n",
              "      cursor: pointer;\n",
              "      display: none;\n",
              "      fill: #1967D2;\n",
              "      height: 32px;\n",
              "      padding: 0 0 0 0;\n",
              "      width: 32px;\n",
              "    }\n",
              "\n",
              "    .colab-df-convert:hover {\n",
              "      background-color: #E2EBFA;\n",
              "      box-shadow: 0px 1px 2px rgba(60, 64, 67, 0.3), 0px 1px 3px 1px rgba(60, 64, 67, 0.15);\n",
              "      fill: #174EA6;\n",
              "    }\n",
              "\n",
              "    [theme=dark] .colab-df-convert {\n",
              "      background-color: #3B4455;\n",
              "      fill: #D2E3FC;\n",
              "    }\n",
              "\n",
              "    [theme=dark] .colab-df-convert:hover {\n",
              "      background-color: #434B5C;\n",
              "      box-shadow: 0px 1px 3px 1px rgba(0, 0, 0, 0.15);\n",
              "      filter: drop-shadow(0px 1px 2px rgba(0, 0, 0, 0.3));\n",
              "      fill: #FFFFFF;\n",
              "    }\n",
              "  </style>\n",
              "\n",
              "      <script>\n",
              "        const buttonEl =\n",
              "          document.querySelector('#df-c13297a8-ed65-4385-9b7b-8cc16e78afa4 button.colab-df-convert');\n",
              "        buttonEl.style.display =\n",
              "          google.colab.kernel.accessAllowed ? 'block' : 'none';\n",
              "\n",
              "        async function convertToInteractive(key) {\n",
              "          const element = document.querySelector('#df-c13297a8-ed65-4385-9b7b-8cc16e78afa4');\n",
              "          const dataTable =\n",
              "            await google.colab.kernel.invokeFunction('convertToInteractive',\n",
              "                                                     [key], {});\n",
              "          if (!dataTable) return;\n",
              "\n",
              "          const docLinkHtml = 'Like what you see? Visit the ' +\n",
              "            '<a target=\"_blank\" href=https://colab.research.google.com/notebooks/data_table.ipynb>data table notebook</a>'\n",
              "            + ' to learn more about interactive tables.';\n",
              "          element.innerHTML = '';\n",
              "          dataTable['output_type'] = 'display_data';\n",
              "          await google.colab.output.renderOutput(dataTable, element);\n",
              "          const docLink = document.createElement('div');\n",
              "          docLink.innerHTML = docLinkHtml;\n",
              "          element.appendChild(docLink);\n",
              "        }\n",
              "      </script>\n",
              "    </div>\n",
              "  </div>\n",
              "  "
            ]
          },
          "metadata": {},
          "execution_count": 4
        }
      ]
    },
    {
      "cell_type": "code",
      "metadata": {
        "id": "lBGYpLNoEkG8",
        "outputId": "386e936f-1de6-49a1-df64-203e8016b4ab",
        "colab": {
          "base_uri": "https://localhost:8080/"
        }
      },
      "source": [
        "# Informações adicionais do nosso conjunto de dados\n",
        "\n",
        "df.info()"
      ],
      "execution_count": null,
      "outputs": [
        {
          "output_type": "stream",
          "name": "stdout",
          "text": [
            "<class 'pandas.core.frame.DataFrame'>\n",
            "RangeIndex: 10533 entries, 0 to 10532\n",
            "Data columns (total 15 columns):\n",
            " #   Column            Non-Null Count  Dtype         \n",
            "---  ------            --------------  -----         \n",
            " 0   Data/Hora Item    10532 non-null  datetime64[ns]\n",
            " 1   Qtd.              10533 non-null  int64         \n",
            " 2   Valor Un. Item    10532 non-null  float64       \n",
            " 3   Valor. Tot. Item  10533 non-null  float64       \n",
            " 4   Tipo de Item      10532 non-null  object        \n",
            " 5   Nome Prod.        10532 non-null  object        \n",
            " 6   Tipo Prod.        10532 non-null  object        \n",
            " 7   Cat. Prod.        10532 non-null  object        \n",
            " 8   Valor Prod.       10532 non-null  float64       \n",
            " 9   Cod. Ped.         10532 non-null  float64       \n",
            " 10  Núm. Mesa/Com.    2267 non-null   float64       \n",
            " 11  Data Ab. Ped.     10532 non-null  datetime64[ns]\n",
            " 12  Data Fec. Ped.    10532 non-null  datetime64[ns]\n",
            " 13  Tipo Ped.         10532 non-null  object        \n",
            " 14  Stat. Ped.        10532 non-null  object        \n",
            "dtypes: datetime64[ns](3), float64(5), int64(1), object(6)\n",
            "memory usage: 1.2+ MB\n"
          ]
        }
      ]
    },
    {
      "cell_type": "markdown",
      "metadata": {
        "id": "lcaBx0X6K-Vv"
      },
      "source": [
        "**Tamanho do Dataset.**\n",
        "\n",
        "---\n",
        "\n",
        "\n",
        "\n",
        "---\n",
        "\n"
      ]
    },
    {
      "cell_type": "code",
      "metadata": {
        "id": "10djxKL-EnEQ",
        "outputId": "c874907e-7582-4391-bdbe-d3c6ff872cde",
        "colab": {
          "base_uri": "https://localhost:8080/"
        }
      },
      "source": [
        "df.shape"
      ],
      "execution_count": null,
      "outputs": [
        {
          "output_type": "execute_result",
          "data": {
            "text/plain": [
              "(10533, 15)"
            ]
          },
          "metadata": {},
          "execution_count": 6
        }
      ]
    },
    {
      "cell_type": "markdown",
      "metadata": {
        "id": "9SCpci-RLFhM"
      },
      "source": [
        "Verificando os valores ausentes\n",
        "\n",
        "---\n",
        "\n",
        "\n",
        "\n",
        "---\n",
        "\n"
      ]
    },
    {
      "cell_type": "code",
      "metadata": {
        "id": "E86mdgq3EsUi",
        "outputId": "7d71806a-633c-47c4-909b-a83e4b2c08a7",
        "colab": {
          "base_uri": "https://localhost:8080/"
        }
      },
      "source": [
        "df.isnull().sum()"
      ],
      "execution_count": null,
      "outputs": [
        {
          "output_type": "execute_result",
          "data": {
            "text/plain": [
              "Data/Hora Item         1\n",
              "Qtd.                   0\n",
              "Valor Un. Item         1\n",
              "Valor. Tot. Item       0\n",
              "Tipo de Item           1\n",
              "Nome Prod.             1\n",
              "Tipo Prod.             1\n",
              "Cat. Prod.             1\n",
              "Valor Prod.            1\n",
              "Cod. Ped.              1\n",
              "Núm. Mesa/Com.      8266\n",
              "Data Ab. Ped.          1\n",
              "Data Fec. Ped.         1\n",
              "Tipo Ped.              1\n",
              "Stat. Ped.             1\n",
              "dtype: int64"
            ]
          },
          "metadata": {},
          "execution_count": 7
        }
      ]
    },
    {
      "cell_type": "markdown",
      "metadata": {
        "id": "C0pv5mckLPkJ"
      },
      "source": [
        "% de Colunas nulas\n",
        "---\n",
        "\n",
        "\n",
        "\n",
        "---\n",
        "\n"
      ]
    },
    {
      "cell_type": "code",
      "metadata": {
        "id": "WAut8o6p9EfN",
        "outputId": "8b5d4c47-993e-42db-d631-c3b6056cfc69",
        "colab": {
          "base_uri": "https://localhost:8080/"
        }
      },
      "source": [
        "df.isnull().sum() / df.shape[0] * 100"
      ],
      "execution_count": null,
      "outputs": [
        {
          "output_type": "execute_result",
          "data": {
            "text/plain": [
              "Data/Hora Item       0.009494\n",
              "Qtd.                 0.000000\n",
              "Valor Un. Item       0.009494\n",
              "Valor. Tot. Item     0.000000\n",
              "Tipo de Item         0.009494\n",
              "Nome Prod.           0.009494\n",
              "Tipo Prod.           0.009494\n",
              "Cat. Prod.           0.009494\n",
              "Valor Prod.          0.009494\n",
              "Cod. Ped.            0.009494\n",
              "Núm. Mesa/Com.      78.477167\n",
              "Data Ab. Ped.        0.009494\n",
              "Data Fec. Ped.       0.009494\n",
              "Tipo Ped.            0.009494\n",
              "Stat. Ped.           0.009494\n",
              "dtype: float64"
            ]
          },
          "metadata": {},
          "execution_count": 8
        }
      ]
    },
    {
      "cell_type": "markdown",
      "metadata": {
        "id": "TnYZwuizLngB"
      },
      "source": [
        "Dados estatísticos\n",
        "\n",
        "---\n",
        "\n",
        "\n",
        "\n",
        "---\n",
        "\n"
      ]
    },
    {
      "cell_type": "code",
      "metadata": {
        "id": "VnuKA1UbROiz",
        "outputId": "1d138ad0-0219-4b6e-d699-e6c6db8f5f4d",
        "colab": {
          "base_uri": "https://localhost:8080/",
          "height": 300
        }
      },
      "source": [
        "df.describe()"
      ],
      "execution_count": null,
      "outputs": [
        {
          "output_type": "execute_result",
          "data": {
            "text/plain": [
              "               Qtd.  Valor Un. Item  Valor. Tot. Item   Valor Prod.  \\\n",
              "count  10533.000000    10532.000000      10533.000000  10532.000000   \n",
              "mean       2.179816       13.239271         29.048894     13.475978   \n",
              "std      111.847651        7.106302       1490.539012      6.910087   \n",
              "min        1.000000        1.000000          1.000000      1.000000   \n",
              "25%        1.000000        5.000000          5.500000      6.000000   \n",
              "50%        1.000000       15.000000         15.000000     16.000000   \n",
              "75%        1.000000       20.000000         20.000000     20.000000   \n",
              "max    11480.000000       30.000000     152986.000000     22.000000   \n",
              "\n",
              "          Cod. Ped.  Núm. Mesa/Com.  \n",
              "count  10532.000000     2267.000000  \n",
              "mean    8922.573111        7.341420  \n",
              "std     1503.848371       18.970337  \n",
              "min     6187.000000        1.000000  \n",
              "25%     7636.000000        1.000000  \n",
              "50%     8943.500000        2.000000  \n",
              "75%    10287.250000        7.000000  \n",
              "max    11369.000000      102.000000  "
            ],
            "text/html": [
              "\n",
              "  <div id=\"df-7b15c153-61c9-468a-9292-9af07a128975\">\n",
              "    <div class=\"colab-df-container\">\n",
              "      <div>\n",
              "<style scoped>\n",
              "    .dataframe tbody tr th:only-of-type {\n",
              "        vertical-align: middle;\n",
              "    }\n",
              "\n",
              "    .dataframe tbody tr th {\n",
              "        vertical-align: top;\n",
              "    }\n",
              "\n",
              "    .dataframe thead th {\n",
              "        text-align: right;\n",
              "    }\n",
              "</style>\n",
              "<table border=\"1\" class=\"dataframe\">\n",
              "  <thead>\n",
              "    <tr style=\"text-align: right;\">\n",
              "      <th></th>\n",
              "      <th>Qtd.</th>\n",
              "      <th>Valor Un. Item</th>\n",
              "      <th>Valor. Tot. Item</th>\n",
              "      <th>Valor Prod.</th>\n",
              "      <th>Cod. Ped.</th>\n",
              "      <th>Núm. Mesa/Com.</th>\n",
              "    </tr>\n",
              "  </thead>\n",
              "  <tbody>\n",
              "    <tr>\n",
              "      <th>count</th>\n",
              "      <td>10533.000000</td>\n",
              "      <td>10532.000000</td>\n",
              "      <td>10533.000000</td>\n",
              "      <td>10532.000000</td>\n",
              "      <td>10532.000000</td>\n",
              "      <td>2267.000000</td>\n",
              "    </tr>\n",
              "    <tr>\n",
              "      <th>mean</th>\n",
              "      <td>2.179816</td>\n",
              "      <td>13.239271</td>\n",
              "      <td>29.048894</td>\n",
              "      <td>13.475978</td>\n",
              "      <td>8922.573111</td>\n",
              "      <td>7.341420</td>\n",
              "    </tr>\n",
              "    <tr>\n",
              "      <th>std</th>\n",
              "      <td>111.847651</td>\n",
              "      <td>7.106302</td>\n",
              "      <td>1490.539012</td>\n",
              "      <td>6.910087</td>\n",
              "      <td>1503.848371</td>\n",
              "      <td>18.970337</td>\n",
              "    </tr>\n",
              "    <tr>\n",
              "      <th>min</th>\n",
              "      <td>1.000000</td>\n",
              "      <td>1.000000</td>\n",
              "      <td>1.000000</td>\n",
              "      <td>1.000000</td>\n",
              "      <td>6187.000000</td>\n",
              "      <td>1.000000</td>\n",
              "    </tr>\n",
              "    <tr>\n",
              "      <th>25%</th>\n",
              "      <td>1.000000</td>\n",
              "      <td>5.000000</td>\n",
              "      <td>5.500000</td>\n",
              "      <td>6.000000</td>\n",
              "      <td>7636.000000</td>\n",
              "      <td>1.000000</td>\n",
              "    </tr>\n",
              "    <tr>\n",
              "      <th>50%</th>\n",
              "      <td>1.000000</td>\n",
              "      <td>15.000000</td>\n",
              "      <td>15.000000</td>\n",
              "      <td>16.000000</td>\n",
              "      <td>8943.500000</td>\n",
              "      <td>2.000000</td>\n",
              "    </tr>\n",
              "    <tr>\n",
              "      <th>75%</th>\n",
              "      <td>1.000000</td>\n",
              "      <td>20.000000</td>\n",
              "      <td>20.000000</td>\n",
              "      <td>20.000000</td>\n",
              "      <td>10287.250000</td>\n",
              "      <td>7.000000</td>\n",
              "    </tr>\n",
              "    <tr>\n",
              "      <th>max</th>\n",
              "      <td>11480.000000</td>\n",
              "      <td>30.000000</td>\n",
              "      <td>152986.000000</td>\n",
              "      <td>22.000000</td>\n",
              "      <td>11369.000000</td>\n",
              "      <td>102.000000</td>\n",
              "    </tr>\n",
              "  </tbody>\n",
              "</table>\n",
              "</div>\n",
              "      <button class=\"colab-df-convert\" onclick=\"convertToInteractive('df-7b15c153-61c9-468a-9292-9af07a128975')\"\n",
              "              title=\"Convert this dataframe to an interactive table.\"\n",
              "              style=\"display:none;\">\n",
              "        \n",
              "  <svg xmlns=\"http://www.w3.org/2000/svg\" height=\"24px\"viewBox=\"0 0 24 24\"\n",
              "       width=\"24px\">\n",
              "    <path d=\"M0 0h24v24H0V0z\" fill=\"none\"/>\n",
              "    <path d=\"M18.56 5.44l.94 2.06.94-2.06 2.06-.94-2.06-.94-.94-2.06-.94 2.06-2.06.94zm-11 1L8.5 8.5l.94-2.06 2.06-.94-2.06-.94L8.5 2.5l-.94 2.06-2.06.94zm10 10l.94 2.06.94-2.06 2.06-.94-2.06-.94-.94-2.06-.94 2.06-2.06.94z\"/><path d=\"M17.41 7.96l-1.37-1.37c-.4-.4-.92-.59-1.43-.59-.52 0-1.04.2-1.43.59L10.3 9.45l-7.72 7.72c-.78.78-.78 2.05 0 2.83L4 21.41c.39.39.9.59 1.41.59.51 0 1.02-.2 1.41-.59l7.78-7.78 2.81-2.81c.8-.78.8-2.07 0-2.86zM5.41 20L4 18.59l7.72-7.72 1.47 1.35L5.41 20z\"/>\n",
              "  </svg>\n",
              "      </button>\n",
              "      \n",
              "  <style>\n",
              "    .colab-df-container {\n",
              "      display:flex;\n",
              "      flex-wrap:wrap;\n",
              "      gap: 12px;\n",
              "    }\n",
              "\n",
              "    .colab-df-convert {\n",
              "      background-color: #E8F0FE;\n",
              "      border: none;\n",
              "      border-radius: 50%;\n",
              "      cursor: pointer;\n",
              "      display: none;\n",
              "      fill: #1967D2;\n",
              "      height: 32px;\n",
              "      padding: 0 0 0 0;\n",
              "      width: 32px;\n",
              "    }\n",
              "\n",
              "    .colab-df-convert:hover {\n",
              "      background-color: #E2EBFA;\n",
              "      box-shadow: 0px 1px 2px rgba(60, 64, 67, 0.3), 0px 1px 3px 1px rgba(60, 64, 67, 0.15);\n",
              "      fill: #174EA6;\n",
              "    }\n",
              "\n",
              "    [theme=dark] .colab-df-convert {\n",
              "      background-color: #3B4455;\n",
              "      fill: #D2E3FC;\n",
              "    }\n",
              "\n",
              "    [theme=dark] .colab-df-convert:hover {\n",
              "      background-color: #434B5C;\n",
              "      box-shadow: 0px 1px 3px 1px rgba(0, 0, 0, 0.15);\n",
              "      filter: drop-shadow(0px 1px 2px rgba(0, 0, 0, 0.3));\n",
              "      fill: #FFFFFF;\n",
              "    }\n",
              "  </style>\n",
              "\n",
              "      <script>\n",
              "        const buttonEl =\n",
              "          document.querySelector('#df-7b15c153-61c9-468a-9292-9af07a128975 button.colab-df-convert');\n",
              "        buttonEl.style.display =\n",
              "          google.colab.kernel.accessAllowed ? 'block' : 'none';\n",
              "\n",
              "        async function convertToInteractive(key) {\n",
              "          const element = document.querySelector('#df-7b15c153-61c9-468a-9292-9af07a128975');\n",
              "          const dataTable =\n",
              "            await google.colab.kernel.invokeFunction('convertToInteractive',\n",
              "                                                     [key], {});\n",
              "          if (!dataTable) return;\n",
              "\n",
              "          const docLinkHtml = 'Like what you see? Visit the ' +\n",
              "            '<a target=\"_blank\" href=https://colab.research.google.com/notebooks/data_table.ipynb>data table notebook</a>'\n",
              "            + ' to learn more about interactive tables.';\n",
              "          element.innerHTML = '';\n",
              "          dataTable['output_type'] = 'display_data';\n",
              "          await google.colab.output.renderOutput(dataTable, element);\n",
              "          const docLink = document.createElement('div');\n",
              "          docLink.innerHTML = docLinkHtml;\n",
              "          element.appendChild(docLink);\n",
              "        }\n",
              "      </script>\n",
              "    </div>\n",
              "  </div>\n",
              "  "
            ]
          },
          "metadata": {},
          "execution_count": 9
        }
      ]
    },
    {
      "cell_type": "markdown",
      "metadata": {
        "id": "f_M9V2hbMN3D"
      },
      "source": [
        "Análise exploratória dos dados\n",
        "---\n",
        "\n",
        "\n",
        "\n",
        "---\n",
        "\n",
        "\n",
        "\n",
        "---\n",
        "\n"
      ]
    },
    {
      "cell_type": "markdown",
      "metadata": {
        "id": "lAEomBIdM_J3"
      },
      "source": [
        "Removendo as colunas com valores em branco"
      ]
    },
    {
      "cell_type": "code",
      "source": [
        "df.isnull().sum()"
      ],
      "metadata": {
        "id": "NZ80wnBLt6MI",
        "outputId": "e0051dc6-4444-4be1-972d-b5178398c8b7",
        "colab": {
          "base_uri": "https://localhost:8080/"
        }
      },
      "execution_count": null,
      "outputs": [
        {
          "output_type": "execute_result",
          "data": {
            "text/plain": [
              "Data/Hora Item         1\n",
              "Qtd.                   0\n",
              "Valor Un. Item         1\n",
              "Valor. Tot. Item       0\n",
              "Tipo de Item           1\n",
              "Nome Prod.             1\n",
              "Tipo Prod.             1\n",
              "Cat. Prod.             1\n",
              "Valor Prod.            1\n",
              "Cod. Ped.              1\n",
              "Núm. Mesa/Com.      8266\n",
              "Data Ab. Ped.          1\n",
              "Data Fec. Ped.         1\n",
              "Tipo Ped.              1\n",
              "Stat. Ped.             1\n",
              "dtype: int64"
            ]
          },
          "metadata": {},
          "execution_count": 10
        }
      ]
    },
    {
      "cell_type": "code",
      "metadata": {
        "id": "SwGB43F5SAc1"
      },
      "source": [
        "df.drop([\"Cod. Ped.\"], axis=1, inplace=True)\n",
        "df.drop([\"Núm. Mesa/Com.\"], axis=1, inplace=True)"
      ],
      "execution_count": null,
      "outputs": []
    },
    {
      "cell_type": "markdown",
      "source": [
        "Verificando o resultado"
      ],
      "metadata": {
        "id": "S4sioWhauC7-"
      }
    },
    {
      "cell_type": "code",
      "source": [
        "df.isnull().sum()"
      ],
      "metadata": {
        "id": "USN6Qg82uFhX",
        "outputId": "f7847847-87df-49cb-9572-0a97379ed44a",
        "colab": {
          "base_uri": "https://localhost:8080/"
        }
      },
      "execution_count": null,
      "outputs": [
        {
          "output_type": "execute_result",
          "data": {
            "text/plain": [
              "Data/Hora Item      1\n",
              "Qtd.                0\n",
              "Valor Un. Item      1\n",
              "Valor. Tot. Item    0\n",
              "Tipo de Item        1\n",
              "Nome Prod.          1\n",
              "Tipo Prod.          1\n",
              "Cat. Prod.          1\n",
              "Valor Prod.         1\n",
              "Data Ab. Ped.       1\n",
              "Data Fec. Ped.      1\n",
              "Tipo Ped.           1\n",
              "Stat. Ped.          1\n",
              "dtype: int64"
            ]
          },
          "metadata": {},
          "execution_count": 12
        }
      ]
    },
    {
      "cell_type": "markdown",
      "metadata": {
        "id": "_0G90giXMlKH"
      },
      "source": [
        "Analisando as colunas\n",
        "\n",
        "---\n",
        "\n",
        "\n",
        "\n",
        "---\n",
        "\n",
        "\n",
        "\n",
        "---\n",
        "\n"
      ]
    },
    {
      "cell_type": "code",
      "metadata": {
        "id": "ndGwJM7wTBoY",
        "outputId": "97aa4be3-3440-4e73-918d-83d3d36062d9",
        "colab": {
          "base_uri": "https://localhost:8080/"
        }
      },
      "source": [
        "df.columns"
      ],
      "execution_count": null,
      "outputs": [
        {
          "output_type": "execute_result",
          "data": {
            "text/plain": [
              "Index(['Data/Hora Item', 'Qtd.', 'Valor Un. Item', 'Valor. Tot. Item',\n",
              "       'Tipo de Item', 'Nome Prod.', 'Tipo Prod.', 'Cat. Prod.', 'Valor Prod.',\n",
              "       'Data Ab. Ped.', 'Data Fec. Ped.', 'Tipo Ped.', 'Stat. Ped.'],\n",
              "      dtype='object')"
            ]
          },
          "metadata": {},
          "execution_count": 13
        }
      ]
    },
    {
      "cell_type": "markdown",
      "source": [
        "Renomeando para melhor entendimento"
      ],
      "metadata": {
        "id": "YFDo6yUDuZAw"
      }
    },
    {
      "cell_type": "code",
      "metadata": {
        "id": "KE7qAk1DTRmD"
      },
      "source": [
        "colunaNova = ['Data', 'Qtd', 'ValorUnidade', 'TotalUnidade',\n",
        "       'TipoItem', 'Produto', 'TipoProduto', 'Categoria', 'ValorProduto',\n",
        "       'HoraAbertPed', 'HoraFechPed', 'TipoPedido', 'StatuSPedido']\n",
        "# Aplicando ao dataset\n",
        "df.columns = colunaNova"
      ],
      "execution_count": null,
      "outputs": []
    },
    {
      "cell_type": "markdown",
      "source": [
        "Verificando o resultado"
      ],
      "metadata": {
        "id": "AmiNvJ71unGq"
      }
    },
    {
      "cell_type": "code",
      "metadata": {
        "id": "1gtn7X6yUIoU",
        "outputId": "d267e6ad-c936-415b-aef6-32fd840fda53",
        "colab": {
          "base_uri": "https://localhost:8080/"
        }
      },
      "source": [
        "df.columns"
      ],
      "execution_count": null,
      "outputs": [
        {
          "output_type": "execute_result",
          "data": {
            "text/plain": [
              "Index(['Data', 'Qtd', 'ValorUnidade', 'TotalUnidade', 'TipoItem', 'Produto',\n",
              "       'TipoProduto', 'Categoria', 'ValorProduto', 'HoraAbertPed',\n",
              "       'HoraFechPed', 'TipoPedido', 'StatuSPedido'],\n",
              "      dtype='object')"
            ]
          },
          "metadata": {},
          "execution_count": 15
        }
      ]
    },
    {
      "cell_type": "code",
      "source": [
        "df.head()"
      ],
      "metadata": {
        "id": "xCE5JYZxvnlZ",
        "outputId": "905ee693-e641-400e-d9e0-978a426973ca",
        "colab": {
          "base_uri": "https://localhost:8080/",
          "height": 337
        }
      },
      "execution_count": null,
      "outputs": [
        {
          "output_type": "execute_result",
          "data": {
            "text/plain": [
              "                     Data  Qtd  ValorUnidade  TotalUnidade     TipoItem  \\\n",
              "0 2018-03-05 19:03:29.296    1          17.0          17.0      Produto   \n",
              "1 2018-03-05 19:06:18.572    1          22.0          22.0      Produto   \n",
              "2 2018-03-05 19:06:24.578    1           3.0           3.0      Produto   \n",
              "3 2018-03-05 19:10:04.523    1          15.0          15.0      Produto   \n",
              "4 2018-03-05 19:10:04.523    1           1.5           1.5  Complemento   \n",
              "\n",
              "            Produto  TipoProduto      Categoria  ValorProduto  \\\n",
              "0        207 +BACON      Produto   Hambúrgueres          17.0   \n",
              "1         207 PRIME      Produto   Hambúrgueres          22.0   \n",
              "2    COCA COLA LATA      Produto  Refrigerantes           4.0   \n",
              "3      207 CLÁSSICO      Produto   Hambúrgueres          15.0   \n",
              "4  QUEIJO ADICIONAL  Complemento    Complemento           1.5   \n",
              "\n",
              "             HoraAbertPed             HoraFechPed    TipoPedido  \\\n",
              "0 2018-03-05 19:02:22.138 2018-03-05 19:58:54.006  Delivery       \n",
              "1 2018-03-05 19:06:00.273 2018-03-05 19:59:16.501  Delivery       \n",
              "2 2018-03-05 19:06:00.273 2018-03-05 19:59:16.501  Delivery       \n",
              "3 2018-03-05 19:09:11.997 2018-03-05 19:58:35.722  Delivery       \n",
              "4 2018-03-05 19:09:11.997 2018-03-05 19:58:35.722  Delivery       \n",
              "\n",
              "       StatuSPedido  \n",
              "0  Finalizado Pago   \n",
              "1  Finalizado Pago   \n",
              "2  Finalizado Pago   \n",
              "3  Finalizado Pago   \n",
              "4  Finalizado Pago   "
            ],
            "text/html": [
              "\n",
              "  <div id=\"df-749c8622-5bb6-4cb5-8405-ddc7e2af41b3\">\n",
              "    <div class=\"colab-df-container\">\n",
              "      <div>\n",
              "<style scoped>\n",
              "    .dataframe tbody tr th:only-of-type {\n",
              "        vertical-align: middle;\n",
              "    }\n",
              "\n",
              "    .dataframe tbody tr th {\n",
              "        vertical-align: top;\n",
              "    }\n",
              "\n",
              "    .dataframe thead th {\n",
              "        text-align: right;\n",
              "    }\n",
              "</style>\n",
              "<table border=\"1\" class=\"dataframe\">\n",
              "  <thead>\n",
              "    <tr style=\"text-align: right;\">\n",
              "      <th></th>\n",
              "      <th>Data</th>\n",
              "      <th>Qtd</th>\n",
              "      <th>ValorUnidade</th>\n",
              "      <th>TotalUnidade</th>\n",
              "      <th>TipoItem</th>\n",
              "      <th>Produto</th>\n",
              "      <th>TipoProduto</th>\n",
              "      <th>Categoria</th>\n",
              "      <th>ValorProduto</th>\n",
              "      <th>HoraAbertPed</th>\n",
              "      <th>HoraFechPed</th>\n",
              "      <th>TipoPedido</th>\n",
              "      <th>StatuSPedido</th>\n",
              "    </tr>\n",
              "  </thead>\n",
              "  <tbody>\n",
              "    <tr>\n",
              "      <th>0</th>\n",
              "      <td>2018-03-05 19:03:29.296</td>\n",
              "      <td>1</td>\n",
              "      <td>17.0</td>\n",
              "      <td>17.0</td>\n",
              "      <td>Produto</td>\n",
              "      <td>207 +BACON</td>\n",
              "      <td>Produto</td>\n",
              "      <td>Hambúrgueres</td>\n",
              "      <td>17.0</td>\n",
              "      <td>2018-03-05 19:02:22.138</td>\n",
              "      <td>2018-03-05 19:58:54.006</td>\n",
              "      <td>Delivery</td>\n",
              "      <td>Finalizado Pago</td>\n",
              "    </tr>\n",
              "    <tr>\n",
              "      <th>1</th>\n",
              "      <td>2018-03-05 19:06:18.572</td>\n",
              "      <td>1</td>\n",
              "      <td>22.0</td>\n",
              "      <td>22.0</td>\n",
              "      <td>Produto</td>\n",
              "      <td>207 PRIME</td>\n",
              "      <td>Produto</td>\n",
              "      <td>Hambúrgueres</td>\n",
              "      <td>22.0</td>\n",
              "      <td>2018-03-05 19:06:00.273</td>\n",
              "      <td>2018-03-05 19:59:16.501</td>\n",
              "      <td>Delivery</td>\n",
              "      <td>Finalizado Pago</td>\n",
              "    </tr>\n",
              "    <tr>\n",
              "      <th>2</th>\n",
              "      <td>2018-03-05 19:06:24.578</td>\n",
              "      <td>1</td>\n",
              "      <td>3.0</td>\n",
              "      <td>3.0</td>\n",
              "      <td>Produto</td>\n",
              "      <td>COCA COLA LATA</td>\n",
              "      <td>Produto</td>\n",
              "      <td>Refrigerantes</td>\n",
              "      <td>4.0</td>\n",
              "      <td>2018-03-05 19:06:00.273</td>\n",
              "      <td>2018-03-05 19:59:16.501</td>\n",
              "      <td>Delivery</td>\n",
              "      <td>Finalizado Pago</td>\n",
              "    </tr>\n",
              "    <tr>\n",
              "      <th>3</th>\n",
              "      <td>2018-03-05 19:10:04.523</td>\n",
              "      <td>1</td>\n",
              "      <td>15.0</td>\n",
              "      <td>15.0</td>\n",
              "      <td>Produto</td>\n",
              "      <td>207 CLÁSSICO</td>\n",
              "      <td>Produto</td>\n",
              "      <td>Hambúrgueres</td>\n",
              "      <td>15.0</td>\n",
              "      <td>2018-03-05 19:09:11.997</td>\n",
              "      <td>2018-03-05 19:58:35.722</td>\n",
              "      <td>Delivery</td>\n",
              "      <td>Finalizado Pago</td>\n",
              "    </tr>\n",
              "    <tr>\n",
              "      <th>4</th>\n",
              "      <td>2018-03-05 19:10:04.523</td>\n",
              "      <td>1</td>\n",
              "      <td>1.5</td>\n",
              "      <td>1.5</td>\n",
              "      <td>Complemento</td>\n",
              "      <td>QUEIJO ADICIONAL</td>\n",
              "      <td>Complemento</td>\n",
              "      <td>Complemento</td>\n",
              "      <td>1.5</td>\n",
              "      <td>2018-03-05 19:09:11.997</td>\n",
              "      <td>2018-03-05 19:58:35.722</td>\n",
              "      <td>Delivery</td>\n",
              "      <td>Finalizado Pago</td>\n",
              "    </tr>\n",
              "  </tbody>\n",
              "</table>\n",
              "</div>\n",
              "      <button class=\"colab-df-convert\" onclick=\"convertToInteractive('df-749c8622-5bb6-4cb5-8405-ddc7e2af41b3')\"\n",
              "              title=\"Convert this dataframe to an interactive table.\"\n",
              "              style=\"display:none;\">\n",
              "        \n",
              "  <svg xmlns=\"http://www.w3.org/2000/svg\" height=\"24px\"viewBox=\"0 0 24 24\"\n",
              "       width=\"24px\">\n",
              "    <path d=\"M0 0h24v24H0V0z\" fill=\"none\"/>\n",
              "    <path d=\"M18.56 5.44l.94 2.06.94-2.06 2.06-.94-2.06-.94-.94-2.06-.94 2.06-2.06.94zm-11 1L8.5 8.5l.94-2.06 2.06-.94-2.06-.94L8.5 2.5l-.94 2.06-2.06.94zm10 10l.94 2.06.94-2.06 2.06-.94-2.06-.94-.94-2.06-.94 2.06-2.06.94z\"/><path d=\"M17.41 7.96l-1.37-1.37c-.4-.4-.92-.59-1.43-.59-.52 0-1.04.2-1.43.59L10.3 9.45l-7.72 7.72c-.78.78-.78 2.05 0 2.83L4 21.41c.39.39.9.59 1.41.59.51 0 1.02-.2 1.41-.59l7.78-7.78 2.81-2.81c.8-.78.8-2.07 0-2.86zM5.41 20L4 18.59l7.72-7.72 1.47 1.35L5.41 20z\"/>\n",
              "  </svg>\n",
              "      </button>\n",
              "      \n",
              "  <style>\n",
              "    .colab-df-container {\n",
              "      display:flex;\n",
              "      flex-wrap:wrap;\n",
              "      gap: 12px;\n",
              "    }\n",
              "\n",
              "    .colab-df-convert {\n",
              "      background-color: #E8F0FE;\n",
              "      border: none;\n",
              "      border-radius: 50%;\n",
              "      cursor: pointer;\n",
              "      display: none;\n",
              "      fill: #1967D2;\n",
              "      height: 32px;\n",
              "      padding: 0 0 0 0;\n",
              "      width: 32px;\n",
              "    }\n",
              "\n",
              "    .colab-df-convert:hover {\n",
              "      background-color: #E2EBFA;\n",
              "      box-shadow: 0px 1px 2px rgba(60, 64, 67, 0.3), 0px 1px 3px 1px rgba(60, 64, 67, 0.15);\n",
              "      fill: #174EA6;\n",
              "    }\n",
              "\n",
              "    [theme=dark] .colab-df-convert {\n",
              "      background-color: #3B4455;\n",
              "      fill: #D2E3FC;\n",
              "    }\n",
              "\n",
              "    [theme=dark] .colab-df-convert:hover {\n",
              "      background-color: #434B5C;\n",
              "      box-shadow: 0px 1px 3px 1px rgba(0, 0, 0, 0.15);\n",
              "      filter: drop-shadow(0px 1px 2px rgba(0, 0, 0, 0.3));\n",
              "      fill: #FFFFFF;\n",
              "    }\n",
              "  </style>\n",
              "\n",
              "      <script>\n",
              "        const buttonEl =\n",
              "          document.querySelector('#df-749c8622-5bb6-4cb5-8405-ddc7e2af41b3 button.colab-df-convert');\n",
              "        buttonEl.style.display =\n",
              "          google.colab.kernel.accessAllowed ? 'block' : 'none';\n",
              "\n",
              "        async function convertToInteractive(key) {\n",
              "          const element = document.querySelector('#df-749c8622-5bb6-4cb5-8405-ddc7e2af41b3');\n",
              "          const dataTable =\n",
              "            await google.colab.kernel.invokeFunction('convertToInteractive',\n",
              "                                                     [key], {});\n",
              "          if (!dataTable) return;\n",
              "\n",
              "          const docLinkHtml = 'Like what you see? Visit the ' +\n",
              "            '<a target=\"_blank\" href=https://colab.research.google.com/notebooks/data_table.ipynb>data table notebook</a>'\n",
              "            + ' to learn more about interactive tables.';\n",
              "          element.innerHTML = '';\n",
              "          dataTable['output_type'] = 'display_data';\n",
              "          await google.colab.output.renderOutput(dataTable, element);\n",
              "          const docLink = document.createElement('div');\n",
              "          docLink.innerHTML = docLinkHtml;\n",
              "          element.appendChild(docLink);\n",
              "        }\n",
              "      </script>\n",
              "    </div>\n",
              "  </div>\n",
              "  "
            ]
          },
          "metadata": {},
          "execution_count": 16
        }
      ]
    },
    {
      "cell_type": "markdown",
      "metadata": {
        "id": "CCXDf5RBNSJ1"
      },
      "source": [
        "Removendo as colunas TipoItem e StatuSPedido por não servirem para nosso projeto\n",
        "\n",
        "---\n",
        "\n",
        "\n",
        "\n",
        "---\n",
        "\n"
      ]
    },
    {
      "cell_type": "code",
      "metadata": {
        "id": "x5nJqRFdUMez"
      },
      "source": [
        "df.drop([\"TipoItem\"], axis=1, inplace=True)\n",
        "df.drop([\"StatuSPedido\"], axis=1, inplace=True)"
      ],
      "execution_count": null,
      "outputs": []
    },
    {
      "cell_type": "markdown",
      "source": [
        "Verificando resultado"
      ],
      "metadata": {
        "id": "sbbAl77VwAUI"
      }
    },
    {
      "cell_type": "code",
      "source": [
        "df.head()"
      ],
      "metadata": {
        "id": "fD_t3xKwwC5I",
        "outputId": "42a707f2-96c2-4526-9df4-380612e4a84f",
        "colab": {
          "base_uri": "https://localhost:8080/",
          "height": 206
        }
      },
      "execution_count": null,
      "outputs": [
        {
          "output_type": "execute_result",
          "data": {
            "text/plain": [
              "                     Data  Qtd  ValorUnidade  TotalUnidade           Produto  \\\n",
              "0 2018-03-05 19:03:29.296    1          17.0          17.0        207 +BACON   \n",
              "1 2018-03-05 19:06:18.572    1          22.0          22.0         207 PRIME   \n",
              "2 2018-03-05 19:06:24.578    1           3.0           3.0    COCA COLA LATA   \n",
              "3 2018-03-05 19:10:04.523    1          15.0          15.0      207 CLÁSSICO   \n",
              "4 2018-03-05 19:10:04.523    1           1.5           1.5  QUEIJO ADICIONAL   \n",
              "\n",
              "   TipoProduto      Categoria  ValorProduto            HoraAbertPed  \\\n",
              "0      Produto   Hambúrgueres          17.0 2018-03-05 19:02:22.138   \n",
              "1      Produto   Hambúrgueres          22.0 2018-03-05 19:06:00.273   \n",
              "2      Produto  Refrigerantes           4.0 2018-03-05 19:06:00.273   \n",
              "3      Produto   Hambúrgueres          15.0 2018-03-05 19:09:11.997   \n",
              "4  Complemento    Complemento           1.5 2018-03-05 19:09:11.997   \n",
              "\n",
              "              HoraFechPed    TipoPedido  \n",
              "0 2018-03-05 19:58:54.006  Delivery      \n",
              "1 2018-03-05 19:59:16.501  Delivery      \n",
              "2 2018-03-05 19:59:16.501  Delivery      \n",
              "3 2018-03-05 19:58:35.722  Delivery      \n",
              "4 2018-03-05 19:58:35.722  Delivery      "
            ],
            "text/html": [
              "\n",
              "  <div id=\"df-fd8c1607-e41b-4ab1-a5f5-c5331662fa9f\">\n",
              "    <div class=\"colab-df-container\">\n",
              "      <div>\n",
              "<style scoped>\n",
              "    .dataframe tbody tr th:only-of-type {\n",
              "        vertical-align: middle;\n",
              "    }\n",
              "\n",
              "    .dataframe tbody tr th {\n",
              "        vertical-align: top;\n",
              "    }\n",
              "\n",
              "    .dataframe thead th {\n",
              "        text-align: right;\n",
              "    }\n",
              "</style>\n",
              "<table border=\"1\" class=\"dataframe\">\n",
              "  <thead>\n",
              "    <tr style=\"text-align: right;\">\n",
              "      <th></th>\n",
              "      <th>Data</th>\n",
              "      <th>Qtd</th>\n",
              "      <th>ValorUnidade</th>\n",
              "      <th>TotalUnidade</th>\n",
              "      <th>Produto</th>\n",
              "      <th>TipoProduto</th>\n",
              "      <th>Categoria</th>\n",
              "      <th>ValorProduto</th>\n",
              "      <th>HoraAbertPed</th>\n",
              "      <th>HoraFechPed</th>\n",
              "      <th>TipoPedido</th>\n",
              "    </tr>\n",
              "  </thead>\n",
              "  <tbody>\n",
              "    <tr>\n",
              "      <th>0</th>\n",
              "      <td>2018-03-05 19:03:29.296</td>\n",
              "      <td>1</td>\n",
              "      <td>17.0</td>\n",
              "      <td>17.0</td>\n",
              "      <td>207 +BACON</td>\n",
              "      <td>Produto</td>\n",
              "      <td>Hambúrgueres</td>\n",
              "      <td>17.0</td>\n",
              "      <td>2018-03-05 19:02:22.138</td>\n",
              "      <td>2018-03-05 19:58:54.006</td>\n",
              "      <td>Delivery</td>\n",
              "    </tr>\n",
              "    <tr>\n",
              "      <th>1</th>\n",
              "      <td>2018-03-05 19:06:18.572</td>\n",
              "      <td>1</td>\n",
              "      <td>22.0</td>\n",
              "      <td>22.0</td>\n",
              "      <td>207 PRIME</td>\n",
              "      <td>Produto</td>\n",
              "      <td>Hambúrgueres</td>\n",
              "      <td>22.0</td>\n",
              "      <td>2018-03-05 19:06:00.273</td>\n",
              "      <td>2018-03-05 19:59:16.501</td>\n",
              "      <td>Delivery</td>\n",
              "    </tr>\n",
              "    <tr>\n",
              "      <th>2</th>\n",
              "      <td>2018-03-05 19:06:24.578</td>\n",
              "      <td>1</td>\n",
              "      <td>3.0</td>\n",
              "      <td>3.0</td>\n",
              "      <td>COCA COLA LATA</td>\n",
              "      <td>Produto</td>\n",
              "      <td>Refrigerantes</td>\n",
              "      <td>4.0</td>\n",
              "      <td>2018-03-05 19:06:00.273</td>\n",
              "      <td>2018-03-05 19:59:16.501</td>\n",
              "      <td>Delivery</td>\n",
              "    </tr>\n",
              "    <tr>\n",
              "      <th>3</th>\n",
              "      <td>2018-03-05 19:10:04.523</td>\n",
              "      <td>1</td>\n",
              "      <td>15.0</td>\n",
              "      <td>15.0</td>\n",
              "      <td>207 CLÁSSICO</td>\n",
              "      <td>Produto</td>\n",
              "      <td>Hambúrgueres</td>\n",
              "      <td>15.0</td>\n",
              "      <td>2018-03-05 19:09:11.997</td>\n",
              "      <td>2018-03-05 19:58:35.722</td>\n",
              "      <td>Delivery</td>\n",
              "    </tr>\n",
              "    <tr>\n",
              "      <th>4</th>\n",
              "      <td>2018-03-05 19:10:04.523</td>\n",
              "      <td>1</td>\n",
              "      <td>1.5</td>\n",
              "      <td>1.5</td>\n",
              "      <td>QUEIJO ADICIONAL</td>\n",
              "      <td>Complemento</td>\n",
              "      <td>Complemento</td>\n",
              "      <td>1.5</td>\n",
              "      <td>2018-03-05 19:09:11.997</td>\n",
              "      <td>2018-03-05 19:58:35.722</td>\n",
              "      <td>Delivery</td>\n",
              "    </tr>\n",
              "  </tbody>\n",
              "</table>\n",
              "</div>\n",
              "      <button class=\"colab-df-convert\" onclick=\"convertToInteractive('df-fd8c1607-e41b-4ab1-a5f5-c5331662fa9f')\"\n",
              "              title=\"Convert this dataframe to an interactive table.\"\n",
              "              style=\"display:none;\">\n",
              "        \n",
              "  <svg xmlns=\"http://www.w3.org/2000/svg\" height=\"24px\"viewBox=\"0 0 24 24\"\n",
              "       width=\"24px\">\n",
              "    <path d=\"M0 0h24v24H0V0z\" fill=\"none\"/>\n",
              "    <path d=\"M18.56 5.44l.94 2.06.94-2.06 2.06-.94-2.06-.94-.94-2.06-.94 2.06-2.06.94zm-11 1L8.5 8.5l.94-2.06 2.06-.94-2.06-.94L8.5 2.5l-.94 2.06-2.06.94zm10 10l.94 2.06.94-2.06 2.06-.94-2.06-.94-.94-2.06-.94 2.06-2.06.94z\"/><path d=\"M17.41 7.96l-1.37-1.37c-.4-.4-.92-.59-1.43-.59-.52 0-1.04.2-1.43.59L10.3 9.45l-7.72 7.72c-.78.78-.78 2.05 0 2.83L4 21.41c.39.39.9.59 1.41.59.51 0 1.02-.2 1.41-.59l7.78-7.78 2.81-2.81c.8-.78.8-2.07 0-2.86zM5.41 20L4 18.59l7.72-7.72 1.47 1.35L5.41 20z\"/>\n",
              "  </svg>\n",
              "      </button>\n",
              "      \n",
              "  <style>\n",
              "    .colab-df-container {\n",
              "      display:flex;\n",
              "      flex-wrap:wrap;\n",
              "      gap: 12px;\n",
              "    }\n",
              "\n",
              "    .colab-df-convert {\n",
              "      background-color: #E8F0FE;\n",
              "      border: none;\n",
              "      border-radius: 50%;\n",
              "      cursor: pointer;\n",
              "      display: none;\n",
              "      fill: #1967D2;\n",
              "      height: 32px;\n",
              "      padding: 0 0 0 0;\n",
              "      width: 32px;\n",
              "    }\n",
              "\n",
              "    .colab-df-convert:hover {\n",
              "      background-color: #E2EBFA;\n",
              "      box-shadow: 0px 1px 2px rgba(60, 64, 67, 0.3), 0px 1px 3px 1px rgba(60, 64, 67, 0.15);\n",
              "      fill: #174EA6;\n",
              "    }\n",
              "\n",
              "    [theme=dark] .colab-df-convert {\n",
              "      background-color: #3B4455;\n",
              "      fill: #D2E3FC;\n",
              "    }\n",
              "\n",
              "    [theme=dark] .colab-df-convert:hover {\n",
              "      background-color: #434B5C;\n",
              "      box-shadow: 0px 1px 3px 1px rgba(0, 0, 0, 0.15);\n",
              "      filter: drop-shadow(0px 1px 2px rgba(0, 0, 0, 0.3));\n",
              "      fill: #FFFFFF;\n",
              "    }\n",
              "  </style>\n",
              "\n",
              "      <script>\n",
              "        const buttonEl =\n",
              "          document.querySelector('#df-fd8c1607-e41b-4ab1-a5f5-c5331662fa9f button.colab-df-convert');\n",
              "        buttonEl.style.display =\n",
              "          google.colab.kernel.accessAllowed ? 'block' : 'none';\n",
              "\n",
              "        async function convertToInteractive(key) {\n",
              "          const element = document.querySelector('#df-fd8c1607-e41b-4ab1-a5f5-c5331662fa9f');\n",
              "          const dataTable =\n",
              "            await google.colab.kernel.invokeFunction('convertToInteractive',\n",
              "                                                     [key], {});\n",
              "          if (!dataTable) return;\n",
              "\n",
              "          const docLinkHtml = 'Like what you see? Visit the ' +\n",
              "            '<a target=\"_blank\" href=https://colab.research.google.com/notebooks/data_table.ipynb>data table notebook</a>'\n",
              "            + ' to learn more about interactive tables.';\n",
              "          element.innerHTML = '';\n",
              "          dataTable['output_type'] = 'display_data';\n",
              "          await google.colab.output.renderOutput(dataTable, element);\n",
              "          const docLink = document.createElement('div');\n",
              "          docLink.innerHTML = docLinkHtml;\n",
              "          element.appendChild(docLink);\n",
              "        }\n",
              "      </script>\n",
              "    </div>\n",
              "  </div>\n",
              "  "
            ]
          },
          "metadata": {},
          "execution_count": 18
        }
      ]
    },
    {
      "cell_type": "markdown",
      "source": [
        "Consultando as útlimas linhas do nosso dataset"
      ],
      "metadata": {
        "id": "GPnn3wO8wJLy"
      }
    },
    {
      "cell_type": "code",
      "metadata": {
        "id": "raQi62yoViga",
        "outputId": "4328528e-b441-4c64-b4af-2a65ac6ee85f",
        "colab": {
          "base_uri": "https://localhost:8080/",
          "height": 319
        }
      },
      "source": [
        "df.tail()"
      ],
      "execution_count": null,
      "outputs": [
        {
          "output_type": "execute_result",
          "data": {
            "text/plain": [
              "                         Data    Qtd  ValorUnidade  TotalUnidade  \\\n",
              "10528 2018-12-30 22:37:39.490      1           5.0           5.0   \n",
              "10529 2018-12-30 22:41:57.277      1           2.5           2.5   \n",
              "10530 2018-12-30 22:41:59.290      1           2.5           2.5   \n",
              "10531 2018-12-30 22:47:23.911      1           6.5           6.5   \n",
              "10532                     NaT  11480           NaN      152986.0   \n",
              "\n",
              "                  Produto TipoProduto      Categoria  ValorProduto  \\\n",
              "10528   * Excluído * SUCO     Produto          Sucos           5.0   \n",
              "10529  AGUA MINERAL 500ML     Produto  Refrigerantes           2.5   \n",
              "10530  AGUA MINERAL 500ML     Produto  Refrigerantes           2.5   \n",
              "10531      COCA COLA 1 LT     Produto  Refrigerantes           6.5   \n",
              "10532                 NaN         NaN            NaN           NaN   \n",
              "\n",
              "                 HoraAbertPed             HoraFechPed    TipoPedido  \n",
              "10528 2018-12-30 22:34:25.351 2018-12-30 23:12:11.181  Mesa/Comanda  \n",
              "10529 2018-12-30 22:34:25.351 2018-12-30 23:12:11.181  Mesa/Comanda  \n",
              "10530 2018-12-30 22:34:25.351 2018-12-30 23:12:11.181  Mesa/Comanda  \n",
              "10531 2018-12-30 22:30:08.793 2018-12-30 23:01:08.671  Mesa/Comanda  \n",
              "10532                     NaT                     NaT           NaN  "
            ],
            "text/html": [
              "\n",
              "  <div id=\"df-276188c5-64f8-463a-a076-6643cad1608b\">\n",
              "    <div class=\"colab-df-container\">\n",
              "      <div>\n",
              "<style scoped>\n",
              "    .dataframe tbody tr th:only-of-type {\n",
              "        vertical-align: middle;\n",
              "    }\n",
              "\n",
              "    .dataframe tbody tr th {\n",
              "        vertical-align: top;\n",
              "    }\n",
              "\n",
              "    .dataframe thead th {\n",
              "        text-align: right;\n",
              "    }\n",
              "</style>\n",
              "<table border=\"1\" class=\"dataframe\">\n",
              "  <thead>\n",
              "    <tr style=\"text-align: right;\">\n",
              "      <th></th>\n",
              "      <th>Data</th>\n",
              "      <th>Qtd</th>\n",
              "      <th>ValorUnidade</th>\n",
              "      <th>TotalUnidade</th>\n",
              "      <th>Produto</th>\n",
              "      <th>TipoProduto</th>\n",
              "      <th>Categoria</th>\n",
              "      <th>ValorProduto</th>\n",
              "      <th>HoraAbertPed</th>\n",
              "      <th>HoraFechPed</th>\n",
              "      <th>TipoPedido</th>\n",
              "    </tr>\n",
              "  </thead>\n",
              "  <tbody>\n",
              "    <tr>\n",
              "      <th>10528</th>\n",
              "      <td>2018-12-30 22:37:39.490</td>\n",
              "      <td>1</td>\n",
              "      <td>5.0</td>\n",
              "      <td>5.0</td>\n",
              "      <td>* Excluído * SUCO</td>\n",
              "      <td>Produto</td>\n",
              "      <td>Sucos</td>\n",
              "      <td>5.0</td>\n",
              "      <td>2018-12-30 22:34:25.351</td>\n",
              "      <td>2018-12-30 23:12:11.181</td>\n",
              "      <td>Mesa/Comanda</td>\n",
              "    </tr>\n",
              "    <tr>\n",
              "      <th>10529</th>\n",
              "      <td>2018-12-30 22:41:57.277</td>\n",
              "      <td>1</td>\n",
              "      <td>2.5</td>\n",
              "      <td>2.5</td>\n",
              "      <td>AGUA MINERAL 500ML</td>\n",
              "      <td>Produto</td>\n",
              "      <td>Refrigerantes</td>\n",
              "      <td>2.5</td>\n",
              "      <td>2018-12-30 22:34:25.351</td>\n",
              "      <td>2018-12-30 23:12:11.181</td>\n",
              "      <td>Mesa/Comanda</td>\n",
              "    </tr>\n",
              "    <tr>\n",
              "      <th>10530</th>\n",
              "      <td>2018-12-30 22:41:59.290</td>\n",
              "      <td>1</td>\n",
              "      <td>2.5</td>\n",
              "      <td>2.5</td>\n",
              "      <td>AGUA MINERAL 500ML</td>\n",
              "      <td>Produto</td>\n",
              "      <td>Refrigerantes</td>\n",
              "      <td>2.5</td>\n",
              "      <td>2018-12-30 22:34:25.351</td>\n",
              "      <td>2018-12-30 23:12:11.181</td>\n",
              "      <td>Mesa/Comanda</td>\n",
              "    </tr>\n",
              "    <tr>\n",
              "      <th>10531</th>\n",
              "      <td>2018-12-30 22:47:23.911</td>\n",
              "      <td>1</td>\n",
              "      <td>6.5</td>\n",
              "      <td>6.5</td>\n",
              "      <td>COCA COLA 1 LT</td>\n",
              "      <td>Produto</td>\n",
              "      <td>Refrigerantes</td>\n",
              "      <td>6.5</td>\n",
              "      <td>2018-12-30 22:30:08.793</td>\n",
              "      <td>2018-12-30 23:01:08.671</td>\n",
              "      <td>Mesa/Comanda</td>\n",
              "    </tr>\n",
              "    <tr>\n",
              "      <th>10532</th>\n",
              "      <td>NaT</td>\n",
              "      <td>11480</td>\n",
              "      <td>NaN</td>\n",
              "      <td>152986.0</td>\n",
              "      <td>NaN</td>\n",
              "      <td>NaN</td>\n",
              "      <td>NaN</td>\n",
              "      <td>NaN</td>\n",
              "      <td>NaT</td>\n",
              "      <td>NaT</td>\n",
              "      <td>NaN</td>\n",
              "    </tr>\n",
              "  </tbody>\n",
              "</table>\n",
              "</div>\n",
              "      <button class=\"colab-df-convert\" onclick=\"convertToInteractive('df-276188c5-64f8-463a-a076-6643cad1608b')\"\n",
              "              title=\"Convert this dataframe to an interactive table.\"\n",
              "              style=\"display:none;\">\n",
              "        \n",
              "  <svg xmlns=\"http://www.w3.org/2000/svg\" height=\"24px\"viewBox=\"0 0 24 24\"\n",
              "       width=\"24px\">\n",
              "    <path d=\"M0 0h24v24H0V0z\" fill=\"none\"/>\n",
              "    <path d=\"M18.56 5.44l.94 2.06.94-2.06 2.06-.94-2.06-.94-.94-2.06-.94 2.06-2.06.94zm-11 1L8.5 8.5l.94-2.06 2.06-.94-2.06-.94L8.5 2.5l-.94 2.06-2.06.94zm10 10l.94 2.06.94-2.06 2.06-.94-2.06-.94-.94-2.06-.94 2.06-2.06.94z\"/><path d=\"M17.41 7.96l-1.37-1.37c-.4-.4-.92-.59-1.43-.59-.52 0-1.04.2-1.43.59L10.3 9.45l-7.72 7.72c-.78.78-.78 2.05 0 2.83L4 21.41c.39.39.9.59 1.41.59.51 0 1.02-.2 1.41-.59l7.78-7.78 2.81-2.81c.8-.78.8-2.07 0-2.86zM5.41 20L4 18.59l7.72-7.72 1.47 1.35L5.41 20z\"/>\n",
              "  </svg>\n",
              "      </button>\n",
              "      \n",
              "  <style>\n",
              "    .colab-df-container {\n",
              "      display:flex;\n",
              "      flex-wrap:wrap;\n",
              "      gap: 12px;\n",
              "    }\n",
              "\n",
              "    .colab-df-convert {\n",
              "      background-color: #E8F0FE;\n",
              "      border: none;\n",
              "      border-radius: 50%;\n",
              "      cursor: pointer;\n",
              "      display: none;\n",
              "      fill: #1967D2;\n",
              "      height: 32px;\n",
              "      padding: 0 0 0 0;\n",
              "      width: 32px;\n",
              "    }\n",
              "\n",
              "    .colab-df-convert:hover {\n",
              "      background-color: #E2EBFA;\n",
              "      box-shadow: 0px 1px 2px rgba(60, 64, 67, 0.3), 0px 1px 3px 1px rgba(60, 64, 67, 0.15);\n",
              "      fill: #174EA6;\n",
              "    }\n",
              "\n",
              "    [theme=dark] .colab-df-convert {\n",
              "      background-color: #3B4455;\n",
              "      fill: #D2E3FC;\n",
              "    }\n",
              "\n",
              "    [theme=dark] .colab-df-convert:hover {\n",
              "      background-color: #434B5C;\n",
              "      box-shadow: 0px 1px 3px 1px rgba(0, 0, 0, 0.15);\n",
              "      filter: drop-shadow(0px 1px 2px rgba(0, 0, 0, 0.3));\n",
              "      fill: #FFFFFF;\n",
              "    }\n",
              "  </style>\n",
              "\n",
              "      <script>\n",
              "        const buttonEl =\n",
              "          document.querySelector('#df-276188c5-64f8-463a-a076-6643cad1608b button.colab-df-convert');\n",
              "        buttonEl.style.display =\n",
              "          google.colab.kernel.accessAllowed ? 'block' : 'none';\n",
              "\n",
              "        async function convertToInteractive(key) {\n",
              "          const element = document.querySelector('#df-276188c5-64f8-463a-a076-6643cad1608b');\n",
              "          const dataTable =\n",
              "            await google.colab.kernel.invokeFunction('convertToInteractive',\n",
              "                                                     [key], {});\n",
              "          if (!dataTable) return;\n",
              "\n",
              "          const docLinkHtml = 'Like what you see? Visit the ' +\n",
              "            '<a target=\"_blank\" href=https://colab.research.google.com/notebooks/data_table.ipynb>data table notebook</a>'\n",
              "            + ' to learn more about interactive tables.';\n",
              "          element.innerHTML = '';\n",
              "          dataTable['output_type'] = 'display_data';\n",
              "          await google.colab.output.renderOutput(dataTable, element);\n",
              "          const docLink = document.createElement('div');\n",
              "          docLink.innerHTML = docLinkHtml;\n",
              "          element.appendChild(docLink);\n",
              "        }\n",
              "      </script>\n",
              "    </div>\n",
              "  </div>\n",
              "  "
            ]
          },
          "metadata": {},
          "execution_count": 19
        }
      ]
    },
    {
      "cell_type": "markdown",
      "source": [
        "Excluindo as informações da última linha do Dataset."
      ],
      "metadata": {
        "id": "w9hrKey0wUB4"
      }
    },
    {
      "cell_type": "code",
      "metadata": {
        "id": "H3WMVUjzVoMp"
      },
      "source": [
        "df.drop([10532], axis=0, inplace=True)"
      ],
      "execution_count": null,
      "outputs": []
    },
    {
      "cell_type": "markdown",
      "source": [
        "Resultado"
      ],
      "metadata": {
        "id": "uIlpjGykwV8Q"
      }
    },
    {
      "cell_type": "code",
      "source": [
        "df.tail()"
      ],
      "metadata": {
        "id": "b5QJRCkuwYhC",
        "outputId": "0a9d3b5e-3e50-461c-fdbb-e6f486cb1db1",
        "colab": {
          "base_uri": "https://localhost:8080/",
          "height": 250
        }
      },
      "execution_count": null,
      "outputs": [
        {
          "output_type": "execute_result",
          "data": {
            "text/plain": [
              "                         Data  Qtd  ValorUnidade  TotalUnidade  \\\n",
              "10527 2018-12-30 22:37:38.913    1           5.0           5.0   \n",
              "10528 2018-12-30 22:37:39.490    1           5.0           5.0   \n",
              "10529 2018-12-30 22:41:57.277    1           2.5           2.5   \n",
              "10530 2018-12-30 22:41:59.290    1           2.5           2.5   \n",
              "10531 2018-12-30 22:47:23.911    1           6.5           6.5   \n",
              "\n",
              "                  Produto TipoProduto      Categoria  ValorProduto  \\\n",
              "10527   * Excluído * SUCO     Produto          Sucos           5.0   \n",
              "10528   * Excluído * SUCO     Produto          Sucos           5.0   \n",
              "10529  AGUA MINERAL 500ML     Produto  Refrigerantes           2.5   \n",
              "10530  AGUA MINERAL 500ML     Produto  Refrigerantes           2.5   \n",
              "10531      COCA COLA 1 LT     Produto  Refrigerantes           6.5   \n",
              "\n",
              "                 HoraAbertPed             HoraFechPed    TipoPedido  \n",
              "10527 2018-12-30 22:34:25.351 2018-12-30 23:12:11.181  Mesa/Comanda  \n",
              "10528 2018-12-30 22:34:25.351 2018-12-30 23:12:11.181  Mesa/Comanda  \n",
              "10529 2018-12-30 22:34:25.351 2018-12-30 23:12:11.181  Mesa/Comanda  \n",
              "10530 2018-12-30 22:34:25.351 2018-12-30 23:12:11.181  Mesa/Comanda  \n",
              "10531 2018-12-30 22:30:08.793 2018-12-30 23:01:08.671  Mesa/Comanda  "
            ],
            "text/html": [
              "\n",
              "  <div id=\"df-2da10a7e-dbe1-4cc6-afd5-096587219f5b\">\n",
              "    <div class=\"colab-df-container\">\n",
              "      <div>\n",
              "<style scoped>\n",
              "    .dataframe tbody tr th:only-of-type {\n",
              "        vertical-align: middle;\n",
              "    }\n",
              "\n",
              "    .dataframe tbody tr th {\n",
              "        vertical-align: top;\n",
              "    }\n",
              "\n",
              "    .dataframe thead th {\n",
              "        text-align: right;\n",
              "    }\n",
              "</style>\n",
              "<table border=\"1\" class=\"dataframe\">\n",
              "  <thead>\n",
              "    <tr style=\"text-align: right;\">\n",
              "      <th></th>\n",
              "      <th>Data</th>\n",
              "      <th>Qtd</th>\n",
              "      <th>ValorUnidade</th>\n",
              "      <th>TotalUnidade</th>\n",
              "      <th>Produto</th>\n",
              "      <th>TipoProduto</th>\n",
              "      <th>Categoria</th>\n",
              "      <th>ValorProduto</th>\n",
              "      <th>HoraAbertPed</th>\n",
              "      <th>HoraFechPed</th>\n",
              "      <th>TipoPedido</th>\n",
              "    </tr>\n",
              "  </thead>\n",
              "  <tbody>\n",
              "    <tr>\n",
              "      <th>10527</th>\n",
              "      <td>2018-12-30 22:37:38.913</td>\n",
              "      <td>1</td>\n",
              "      <td>5.0</td>\n",
              "      <td>5.0</td>\n",
              "      <td>* Excluído * SUCO</td>\n",
              "      <td>Produto</td>\n",
              "      <td>Sucos</td>\n",
              "      <td>5.0</td>\n",
              "      <td>2018-12-30 22:34:25.351</td>\n",
              "      <td>2018-12-30 23:12:11.181</td>\n",
              "      <td>Mesa/Comanda</td>\n",
              "    </tr>\n",
              "    <tr>\n",
              "      <th>10528</th>\n",
              "      <td>2018-12-30 22:37:39.490</td>\n",
              "      <td>1</td>\n",
              "      <td>5.0</td>\n",
              "      <td>5.0</td>\n",
              "      <td>* Excluído * SUCO</td>\n",
              "      <td>Produto</td>\n",
              "      <td>Sucos</td>\n",
              "      <td>5.0</td>\n",
              "      <td>2018-12-30 22:34:25.351</td>\n",
              "      <td>2018-12-30 23:12:11.181</td>\n",
              "      <td>Mesa/Comanda</td>\n",
              "    </tr>\n",
              "    <tr>\n",
              "      <th>10529</th>\n",
              "      <td>2018-12-30 22:41:57.277</td>\n",
              "      <td>1</td>\n",
              "      <td>2.5</td>\n",
              "      <td>2.5</td>\n",
              "      <td>AGUA MINERAL 500ML</td>\n",
              "      <td>Produto</td>\n",
              "      <td>Refrigerantes</td>\n",
              "      <td>2.5</td>\n",
              "      <td>2018-12-30 22:34:25.351</td>\n",
              "      <td>2018-12-30 23:12:11.181</td>\n",
              "      <td>Mesa/Comanda</td>\n",
              "    </tr>\n",
              "    <tr>\n",
              "      <th>10530</th>\n",
              "      <td>2018-12-30 22:41:59.290</td>\n",
              "      <td>1</td>\n",
              "      <td>2.5</td>\n",
              "      <td>2.5</td>\n",
              "      <td>AGUA MINERAL 500ML</td>\n",
              "      <td>Produto</td>\n",
              "      <td>Refrigerantes</td>\n",
              "      <td>2.5</td>\n",
              "      <td>2018-12-30 22:34:25.351</td>\n",
              "      <td>2018-12-30 23:12:11.181</td>\n",
              "      <td>Mesa/Comanda</td>\n",
              "    </tr>\n",
              "    <tr>\n",
              "      <th>10531</th>\n",
              "      <td>2018-12-30 22:47:23.911</td>\n",
              "      <td>1</td>\n",
              "      <td>6.5</td>\n",
              "      <td>6.5</td>\n",
              "      <td>COCA COLA 1 LT</td>\n",
              "      <td>Produto</td>\n",
              "      <td>Refrigerantes</td>\n",
              "      <td>6.5</td>\n",
              "      <td>2018-12-30 22:30:08.793</td>\n",
              "      <td>2018-12-30 23:01:08.671</td>\n",
              "      <td>Mesa/Comanda</td>\n",
              "    </tr>\n",
              "  </tbody>\n",
              "</table>\n",
              "</div>\n",
              "      <button class=\"colab-df-convert\" onclick=\"convertToInteractive('df-2da10a7e-dbe1-4cc6-afd5-096587219f5b')\"\n",
              "              title=\"Convert this dataframe to an interactive table.\"\n",
              "              style=\"display:none;\">\n",
              "        \n",
              "  <svg xmlns=\"http://www.w3.org/2000/svg\" height=\"24px\"viewBox=\"0 0 24 24\"\n",
              "       width=\"24px\">\n",
              "    <path d=\"M0 0h24v24H0V0z\" fill=\"none\"/>\n",
              "    <path d=\"M18.56 5.44l.94 2.06.94-2.06 2.06-.94-2.06-.94-.94-2.06-.94 2.06-2.06.94zm-11 1L8.5 8.5l.94-2.06 2.06-.94-2.06-.94L8.5 2.5l-.94 2.06-2.06.94zm10 10l.94 2.06.94-2.06 2.06-.94-2.06-.94-.94-2.06-.94 2.06-2.06.94z\"/><path d=\"M17.41 7.96l-1.37-1.37c-.4-.4-.92-.59-1.43-.59-.52 0-1.04.2-1.43.59L10.3 9.45l-7.72 7.72c-.78.78-.78 2.05 0 2.83L4 21.41c.39.39.9.59 1.41.59.51 0 1.02-.2 1.41-.59l7.78-7.78 2.81-2.81c.8-.78.8-2.07 0-2.86zM5.41 20L4 18.59l7.72-7.72 1.47 1.35L5.41 20z\"/>\n",
              "  </svg>\n",
              "      </button>\n",
              "      \n",
              "  <style>\n",
              "    .colab-df-container {\n",
              "      display:flex;\n",
              "      flex-wrap:wrap;\n",
              "      gap: 12px;\n",
              "    }\n",
              "\n",
              "    .colab-df-convert {\n",
              "      background-color: #E8F0FE;\n",
              "      border: none;\n",
              "      border-radius: 50%;\n",
              "      cursor: pointer;\n",
              "      display: none;\n",
              "      fill: #1967D2;\n",
              "      height: 32px;\n",
              "      padding: 0 0 0 0;\n",
              "      width: 32px;\n",
              "    }\n",
              "\n",
              "    .colab-df-convert:hover {\n",
              "      background-color: #E2EBFA;\n",
              "      box-shadow: 0px 1px 2px rgba(60, 64, 67, 0.3), 0px 1px 3px 1px rgba(60, 64, 67, 0.15);\n",
              "      fill: #174EA6;\n",
              "    }\n",
              "\n",
              "    [theme=dark] .colab-df-convert {\n",
              "      background-color: #3B4455;\n",
              "      fill: #D2E3FC;\n",
              "    }\n",
              "\n",
              "    [theme=dark] .colab-df-convert:hover {\n",
              "      background-color: #434B5C;\n",
              "      box-shadow: 0px 1px 3px 1px rgba(0, 0, 0, 0.15);\n",
              "      filter: drop-shadow(0px 1px 2px rgba(0, 0, 0, 0.3));\n",
              "      fill: #FFFFFF;\n",
              "    }\n",
              "  </style>\n",
              "\n",
              "      <script>\n",
              "        const buttonEl =\n",
              "          document.querySelector('#df-2da10a7e-dbe1-4cc6-afd5-096587219f5b button.colab-df-convert');\n",
              "        buttonEl.style.display =\n",
              "          google.colab.kernel.accessAllowed ? 'block' : 'none';\n",
              "\n",
              "        async function convertToInteractive(key) {\n",
              "          const element = document.querySelector('#df-2da10a7e-dbe1-4cc6-afd5-096587219f5b');\n",
              "          const dataTable =\n",
              "            await google.colab.kernel.invokeFunction('convertToInteractive',\n",
              "                                                     [key], {});\n",
              "          if (!dataTable) return;\n",
              "\n",
              "          const docLinkHtml = 'Like what you see? Visit the ' +\n",
              "            '<a target=\"_blank\" href=https://colab.research.google.com/notebooks/data_table.ipynb>data table notebook</a>'\n",
              "            + ' to learn more about interactive tables.';\n",
              "          element.innerHTML = '';\n",
              "          dataTable['output_type'] = 'display_data';\n",
              "          await google.colab.output.renderOutput(dataTable, element);\n",
              "          const docLink = document.createElement('div');\n",
              "          docLink.innerHTML = docLinkHtml;\n",
              "          element.appendChild(docLink);\n",
              "        }\n",
              "      </script>\n",
              "    </div>\n",
              "  </div>\n",
              "  "
            ]
          },
          "metadata": {},
          "execution_count": 21
        }
      ]
    },
    {
      "cell_type": "markdown",
      "metadata": {
        "id": "dU63LvIROES_"
      },
      "source": [
        "**Verificar os valores nulos novamente do nosso conjunto de dados.**\n",
        "\n",
        "---\n",
        "\n",
        "\n",
        "\n",
        "---\n",
        "\n"
      ]
    },
    {
      "cell_type": "code",
      "metadata": {
        "id": "mEBl3MUQWT0k",
        "outputId": "7b970a9b-f959-49d5-91ad-49fb2f51252d",
        "colab": {
          "base_uri": "https://localhost:8080/"
        }
      },
      "source": [
        "df.isnull().sum()"
      ],
      "execution_count": null,
      "outputs": [
        {
          "output_type": "execute_result",
          "data": {
            "text/plain": [
              "Data            0\n",
              "Qtd             0\n",
              "ValorUnidade    0\n",
              "TotalUnidade    0\n",
              "Produto         0\n",
              "TipoProduto     0\n",
              "Categoria       0\n",
              "ValorProduto    0\n",
              "HoraAbertPed    0\n",
              "HoraFechPed     0\n",
              "TipoPedido      0\n",
              "dtype: int64"
            ]
          },
          "metadata": {},
          "execution_count": 22
        }
      ]
    },
    {
      "cell_type": "markdown",
      "metadata": {
        "id": "N01Q4R7YOUPy"
      },
      "source": [
        "## Feature engineering\n",
        "\n",
        "---\n",
        "\n",
        "\n",
        "\n",
        "---\n",
        "\n",
        "\n",
        "\n",
        "---\n",
        "\n"
      ]
    },
    {
      "cell_type": "code",
      "metadata": {
        "id": "GLH_ToyAWotd"
      },
      "source": [
        "# colocando a variavel data como date.time\n",
        "\n",
        "df[\"Data\"] = pd.to_datetime(df[\"Data\"])"
      ],
      "execution_count": null,
      "outputs": []
    },
    {
      "cell_type": "code",
      "source": [
        "# Veirficando o tipo de dados da coluna\n",
        "\n",
        "df['Data']"
      ],
      "metadata": {
        "id": "mMAj68eJdety",
        "outputId": "9d4f884f-bd2d-4354-ff04-3e7cdac88fbc",
        "colab": {
          "base_uri": "https://localhost:8080/"
        }
      },
      "execution_count": null,
      "outputs": [
        {
          "output_type": "execute_result",
          "data": {
            "text/plain": [
              "0       2018-03-05 19:03:29.296\n",
              "1       2018-03-05 19:06:18.572\n",
              "2       2018-03-05 19:06:24.578\n",
              "3       2018-03-05 19:10:04.523\n",
              "4       2018-03-05 19:10:04.523\n",
              "                  ...          \n",
              "10527   2018-12-30 22:37:38.913\n",
              "10528   2018-12-30 22:37:39.490\n",
              "10529   2018-12-30 22:41:57.277\n",
              "10530   2018-12-30 22:41:59.290\n",
              "10531   2018-12-30 22:47:23.911\n",
              "Name: Data, Length: 10532, dtype: datetime64[ns]"
            ]
          },
          "metadata": {},
          "execution_count": 33
        }
      ]
    },
    {
      "cell_type": "code",
      "metadata": {
        "id": "5Gv1kuKSn0uC"
      },
      "source": [
        "# Extraindo e criando as horas das colunas aberturaped e fechamentoped.\n",
        "\n",
        "df[\"HoraAbertura\"] = df[\"HoraAbertPed\"].apply(lambda x:dt.time(x.hour, x.minute, x.second))\n",
        "df[\"HoraFechamento\"] = df[\"HoraFechPed\"].apply(lambda x:dt.time(x.hour, x.minute, x.second))"
      ],
      "execution_count": null,
      "outputs": []
    },
    {
      "cell_type": "code",
      "metadata": {
        "id": "Y2vbF2pea_SH"
      },
      "source": [
        "# Extraindo e criando colunas de Dias da Semana, Mês e Hora.\n",
        "\n",
        "df[\"DiaSemana\"] = df[\"Data\"].apply(lambda x: x.dayofweek)\n",
        "df[\"Mes\"] = df[\"Data\"].apply(lambda x: x.month)\n",
        "df[\"Hora\"] = df[\"Data\"].apply(lambda x: x.hour)"
      ],
      "execution_count": null,
      "outputs": []
    },
    {
      "cell_type": "code",
      "metadata": {
        "id": "Fp6xfw-xaIlK"
      },
      "source": [
        "# Criando um dicionário com os nomes dos dias da semana\n",
        "\n",
        "dias = {0:\"Seg\",1:\"Ter\",2:\"Qua\",3:\"Qui\",4:\"Sex\",5:\"Sab\",6:\"Dom\"}\n",
        "\n",
        "#Criando um dicionário com as inicais dos meses do ano.\n",
        "meses = {1:\"Jan\",2:\"Fev\",3:\"Mar\",4:\"Abr\",5:\"Mai\",6:\"Jun\",7:\"Jul\",8:'Ago',9:\"Set\",10:\"Out\",11:\"Nov\",12:\"Dez\"}\n",
        "\n",
        "# Atribuindo os nomes para a coluna DiaSemana\n",
        "\n",
        "df[\"DiaSemana\"] = df[\"DiaSemana\"].map(dias)\n",
        "\n",
        "# Atribuindo os nomes para os meses.\n",
        "\n",
        "df[\"Mes\"] = df[\"Mes\"].map(meses)"
      ],
      "execution_count": null,
      "outputs": []
    },
    {
      "cell_type": "markdown",
      "metadata": {
        "id": "APZht9HCQpN3"
      },
      "source": [
        "**Visulizando o nosso conjunto de dados com as informações novas.**\n",
        "\n",
        "---\n",
        "\n",
        "\n",
        "\n",
        "---\n",
        "\n",
        "\n",
        "\n",
        "---\n",
        "\n"
      ]
    },
    {
      "cell_type": "code",
      "metadata": {
        "id": "-ucRnd2mo7cH",
        "outputId": "e756fc1b-2a3f-45af-a342-7a185e218634",
        "colab": {
          "base_uri": "https://localhost:8080/",
          "height": 374
        }
      },
      "source": [
        "df.head()"
      ],
      "execution_count": null,
      "outputs": [
        {
          "output_type": "execute_result",
          "data": {
            "text/plain": [
              "                     Data  Qtd  ValorUnidade  TotalUnidade           Produto  \\\n",
              "0 2018-03-05 19:03:29.296    1          17.0          17.0        207 +BACON   \n",
              "1 2018-03-05 19:06:18.572    1          22.0          22.0         207 PRIME   \n",
              "2 2018-03-05 19:06:24.578    1           3.0           3.0    COCA COLA LATA   \n",
              "3 2018-03-05 19:10:04.523    1          15.0          15.0      207 CLÁSSICO   \n",
              "4 2018-03-05 19:10:04.523    1           1.5           1.5  QUEIJO ADICIONAL   \n",
              "\n",
              "   TipoProduto      Categoria  ValorProduto            HoraAbertPed  \\\n",
              "0      Produto   Hambúrgueres          17.0 2018-03-05 19:02:22.138   \n",
              "1      Produto   Hambúrgueres          22.0 2018-03-05 19:06:00.273   \n",
              "2      Produto  Refrigerantes           4.0 2018-03-05 19:06:00.273   \n",
              "3      Produto   Hambúrgueres          15.0 2018-03-05 19:09:11.997   \n",
              "4  Complemento    Complemento           1.5 2018-03-05 19:09:11.997   \n",
              "\n",
              "              HoraFechPed    TipoPedido HoraAbertura HoraFechamento DiaSemana  \\\n",
              "0 2018-03-05 19:58:54.006  Delivery         19:02:22       19:58:54       Seg   \n",
              "1 2018-03-05 19:59:16.501  Delivery         19:06:00       19:59:16       Seg   \n",
              "2 2018-03-05 19:59:16.501  Delivery         19:06:00       19:59:16       Seg   \n",
              "3 2018-03-05 19:58:35.722  Delivery         19:09:11       19:58:35       Seg   \n",
              "4 2018-03-05 19:58:35.722  Delivery         19:09:11       19:58:35       Seg   \n",
              "\n",
              "   Mes  Hora  \n",
              "0  Mar    19  \n",
              "1  Mar    19  \n",
              "2  Mar    19  \n",
              "3  Mar    19  \n",
              "4  Mar    19  "
            ],
            "text/html": [
              "\n",
              "  <div id=\"df-08d7f862-0e2c-4cd3-9b7c-2561b158c761\">\n",
              "    <div class=\"colab-df-container\">\n",
              "      <div>\n",
              "<style scoped>\n",
              "    .dataframe tbody tr th:only-of-type {\n",
              "        vertical-align: middle;\n",
              "    }\n",
              "\n",
              "    .dataframe tbody tr th {\n",
              "        vertical-align: top;\n",
              "    }\n",
              "\n",
              "    .dataframe thead th {\n",
              "        text-align: right;\n",
              "    }\n",
              "</style>\n",
              "<table border=\"1\" class=\"dataframe\">\n",
              "  <thead>\n",
              "    <tr style=\"text-align: right;\">\n",
              "      <th></th>\n",
              "      <th>Data</th>\n",
              "      <th>Qtd</th>\n",
              "      <th>ValorUnidade</th>\n",
              "      <th>TotalUnidade</th>\n",
              "      <th>Produto</th>\n",
              "      <th>TipoProduto</th>\n",
              "      <th>Categoria</th>\n",
              "      <th>ValorProduto</th>\n",
              "      <th>HoraAbertPed</th>\n",
              "      <th>HoraFechPed</th>\n",
              "      <th>TipoPedido</th>\n",
              "      <th>HoraAbertura</th>\n",
              "      <th>HoraFechamento</th>\n",
              "      <th>DiaSemana</th>\n",
              "      <th>Mes</th>\n",
              "      <th>Hora</th>\n",
              "    </tr>\n",
              "  </thead>\n",
              "  <tbody>\n",
              "    <tr>\n",
              "      <th>0</th>\n",
              "      <td>2018-03-05 19:03:29.296</td>\n",
              "      <td>1</td>\n",
              "      <td>17.0</td>\n",
              "      <td>17.0</td>\n",
              "      <td>207 +BACON</td>\n",
              "      <td>Produto</td>\n",
              "      <td>Hambúrgueres</td>\n",
              "      <td>17.0</td>\n",
              "      <td>2018-03-05 19:02:22.138</td>\n",
              "      <td>2018-03-05 19:58:54.006</td>\n",
              "      <td>Delivery</td>\n",
              "      <td>19:02:22</td>\n",
              "      <td>19:58:54</td>\n",
              "      <td>Seg</td>\n",
              "      <td>Mar</td>\n",
              "      <td>19</td>\n",
              "    </tr>\n",
              "    <tr>\n",
              "      <th>1</th>\n",
              "      <td>2018-03-05 19:06:18.572</td>\n",
              "      <td>1</td>\n",
              "      <td>22.0</td>\n",
              "      <td>22.0</td>\n",
              "      <td>207 PRIME</td>\n",
              "      <td>Produto</td>\n",
              "      <td>Hambúrgueres</td>\n",
              "      <td>22.0</td>\n",
              "      <td>2018-03-05 19:06:00.273</td>\n",
              "      <td>2018-03-05 19:59:16.501</td>\n",
              "      <td>Delivery</td>\n",
              "      <td>19:06:00</td>\n",
              "      <td>19:59:16</td>\n",
              "      <td>Seg</td>\n",
              "      <td>Mar</td>\n",
              "      <td>19</td>\n",
              "    </tr>\n",
              "    <tr>\n",
              "      <th>2</th>\n",
              "      <td>2018-03-05 19:06:24.578</td>\n",
              "      <td>1</td>\n",
              "      <td>3.0</td>\n",
              "      <td>3.0</td>\n",
              "      <td>COCA COLA LATA</td>\n",
              "      <td>Produto</td>\n",
              "      <td>Refrigerantes</td>\n",
              "      <td>4.0</td>\n",
              "      <td>2018-03-05 19:06:00.273</td>\n",
              "      <td>2018-03-05 19:59:16.501</td>\n",
              "      <td>Delivery</td>\n",
              "      <td>19:06:00</td>\n",
              "      <td>19:59:16</td>\n",
              "      <td>Seg</td>\n",
              "      <td>Mar</td>\n",
              "      <td>19</td>\n",
              "    </tr>\n",
              "    <tr>\n",
              "      <th>3</th>\n",
              "      <td>2018-03-05 19:10:04.523</td>\n",
              "      <td>1</td>\n",
              "      <td>15.0</td>\n",
              "      <td>15.0</td>\n",
              "      <td>207 CLÁSSICO</td>\n",
              "      <td>Produto</td>\n",
              "      <td>Hambúrgueres</td>\n",
              "      <td>15.0</td>\n",
              "      <td>2018-03-05 19:09:11.997</td>\n",
              "      <td>2018-03-05 19:58:35.722</td>\n",
              "      <td>Delivery</td>\n",
              "      <td>19:09:11</td>\n",
              "      <td>19:58:35</td>\n",
              "      <td>Seg</td>\n",
              "      <td>Mar</td>\n",
              "      <td>19</td>\n",
              "    </tr>\n",
              "    <tr>\n",
              "      <th>4</th>\n",
              "      <td>2018-03-05 19:10:04.523</td>\n",
              "      <td>1</td>\n",
              "      <td>1.5</td>\n",
              "      <td>1.5</td>\n",
              "      <td>QUEIJO ADICIONAL</td>\n",
              "      <td>Complemento</td>\n",
              "      <td>Complemento</td>\n",
              "      <td>1.5</td>\n",
              "      <td>2018-03-05 19:09:11.997</td>\n",
              "      <td>2018-03-05 19:58:35.722</td>\n",
              "      <td>Delivery</td>\n",
              "      <td>19:09:11</td>\n",
              "      <td>19:58:35</td>\n",
              "      <td>Seg</td>\n",
              "      <td>Mar</td>\n",
              "      <td>19</td>\n",
              "    </tr>\n",
              "  </tbody>\n",
              "</table>\n",
              "</div>\n",
              "      <button class=\"colab-df-convert\" onclick=\"convertToInteractive('df-08d7f862-0e2c-4cd3-9b7c-2561b158c761')\"\n",
              "              title=\"Convert this dataframe to an interactive table.\"\n",
              "              style=\"display:none;\">\n",
              "        \n",
              "  <svg xmlns=\"http://www.w3.org/2000/svg\" height=\"24px\"viewBox=\"0 0 24 24\"\n",
              "       width=\"24px\">\n",
              "    <path d=\"M0 0h24v24H0V0z\" fill=\"none\"/>\n",
              "    <path d=\"M18.56 5.44l.94 2.06.94-2.06 2.06-.94-2.06-.94-.94-2.06-.94 2.06-2.06.94zm-11 1L8.5 8.5l.94-2.06 2.06-.94-2.06-.94L8.5 2.5l-.94 2.06-2.06.94zm10 10l.94 2.06.94-2.06 2.06-.94-2.06-.94-.94-2.06-.94 2.06-2.06.94z\"/><path d=\"M17.41 7.96l-1.37-1.37c-.4-.4-.92-.59-1.43-.59-.52 0-1.04.2-1.43.59L10.3 9.45l-7.72 7.72c-.78.78-.78 2.05 0 2.83L4 21.41c.39.39.9.59 1.41.59.51 0 1.02-.2 1.41-.59l7.78-7.78 2.81-2.81c.8-.78.8-2.07 0-2.86zM5.41 20L4 18.59l7.72-7.72 1.47 1.35L5.41 20z\"/>\n",
              "  </svg>\n",
              "      </button>\n",
              "      \n",
              "  <style>\n",
              "    .colab-df-container {\n",
              "      display:flex;\n",
              "      flex-wrap:wrap;\n",
              "      gap: 12px;\n",
              "    }\n",
              "\n",
              "    .colab-df-convert {\n",
              "      background-color: #E8F0FE;\n",
              "      border: none;\n",
              "      border-radius: 50%;\n",
              "      cursor: pointer;\n",
              "      display: none;\n",
              "      fill: #1967D2;\n",
              "      height: 32px;\n",
              "      padding: 0 0 0 0;\n",
              "      width: 32px;\n",
              "    }\n",
              "\n",
              "    .colab-df-convert:hover {\n",
              "      background-color: #E2EBFA;\n",
              "      box-shadow: 0px 1px 2px rgba(60, 64, 67, 0.3), 0px 1px 3px 1px rgba(60, 64, 67, 0.15);\n",
              "      fill: #174EA6;\n",
              "    }\n",
              "\n",
              "    [theme=dark] .colab-df-convert {\n",
              "      background-color: #3B4455;\n",
              "      fill: #D2E3FC;\n",
              "    }\n",
              "\n",
              "    [theme=dark] .colab-df-convert:hover {\n",
              "      background-color: #434B5C;\n",
              "      box-shadow: 0px 1px 3px 1px rgba(0, 0, 0, 0.15);\n",
              "      filter: drop-shadow(0px 1px 2px rgba(0, 0, 0, 0.3));\n",
              "      fill: #FFFFFF;\n",
              "    }\n",
              "  </style>\n",
              "\n",
              "      <script>\n",
              "        const buttonEl =\n",
              "          document.querySelector('#df-08d7f862-0e2c-4cd3-9b7c-2561b158c761 button.colab-df-convert');\n",
              "        buttonEl.style.display =\n",
              "          google.colab.kernel.accessAllowed ? 'block' : 'none';\n",
              "\n",
              "        async function convertToInteractive(key) {\n",
              "          const element = document.querySelector('#df-08d7f862-0e2c-4cd3-9b7c-2561b158c761');\n",
              "          const dataTable =\n",
              "            await google.colab.kernel.invokeFunction('convertToInteractive',\n",
              "                                                     [key], {});\n",
              "          if (!dataTable) return;\n",
              "\n",
              "          const docLinkHtml = 'Like what you see? Visit the ' +\n",
              "            '<a target=\"_blank\" href=https://colab.research.google.com/notebooks/data_table.ipynb>data table notebook</a>'\n",
              "            + ' to learn more about interactive tables.';\n",
              "          element.innerHTML = '';\n",
              "          dataTable['output_type'] = 'display_data';\n",
              "          await google.colab.output.renderOutput(dataTable, element);\n",
              "          const docLink = document.createElement('div');\n",
              "          docLink.innerHTML = docLinkHtml;\n",
              "          element.appendChild(docLink);\n",
              "        }\n",
              "      </script>\n",
              "    </div>\n",
              "  </div>\n",
              "  "
            ]
          },
          "metadata": {},
          "execution_count": 39
        }
      ]
    },
    {
      "cell_type": "markdown",
      "metadata": {
        "id": "qNhkWLxKREYm"
      },
      "source": [
        "**Visualizando um pairplot para identificar algum comportamento entre as variáveis.**\n",
        "\n",
        "---\n",
        "\n",
        "\n",
        "\n",
        "---\n",
        "\n",
        "\n",
        "\n",
        "---\n",
        "\n"
      ]
    },
    {
      "cell_type": "code",
      "metadata": {
        "id": "djX1BpiL_NCS",
        "outputId": "e8d5ddb9-e012-4070-e9fa-cdffb30aefbb",
        "colab": {
          "base_uri": "https://localhost:8080/",
          "height": 920
        }
      },
      "source": [
        "sns.pairplot(df)"
      ],
      "execution_count": null,
      "outputs": [
        {
          "output_type": "execute_result",
          "data": {
            "text/plain": [
              "<seaborn.axisgrid.PairGrid at 0x7fb2161eedd0>"
            ]
          },
          "metadata": {},
          "execution_count": 40
        },
        {
          "output_type": "display_data",
          "data": {
            "text/plain": [
              "<Figure size 900x900 with 30 Axes>"
            ],
            "image/png": "[encoded data removed]"
          },
          "metadata": {
            "needs_background": "light"
          }
        }
      ]
    },
    {
      "cell_type": "markdown",
      "metadata": {
        "id": "OaApaHNmRS4S"
      },
      "source": [
        "## **Visulização dos dados.**"
      ]
    },
    {
      "cell_type": "code",
      "metadata": {
        "id": "dzqxAsI_hm2M",
        "outputId": "d57e83ed-627c-4dda-8868-3d963139a951",
        "colab": {
          "base_uri": "https://localhost:8080/",
          "height": 421
        }
      },
      "source": [
        "# Gráfico de barras com pedidos por horários\n",
        "\n",
        "plt.figure(figsize=(12,6))\n",
        "sns.countplot(x = \"Hora\", data=df, palette=None)\n",
        "plt.title(\"Pedidos por Horario\")"
      ],
      "execution_count": null,
      "outputs": [
        {
          "output_type": "execute_result",
          "data": {
            "text/plain": [
              "Text(0.5, 1.0, 'Pedidos por Horario')"
            ]
          },
          "metadata": {},
          "execution_count": 43
        },
        {
          "output_type": "display_data",
          "data": {
            "text/plain": [
              "<Figure size 864x432 with 1 Axes>"
            ],
            "image/png": "[encoded data removed]"
          },
          "metadata": {
            "needs_background": "light"
          }
        }
      ]
    },
    {
      "cell_type": "markdown",
      "metadata": {
        "id": "6LW0uMOjsZCv"
      },
      "source": [
        "Maior fluxo de pedidos entre 19:00 até as 21:00"
      ]
    },
    {
      "cell_type": "code",
      "metadata": {
        "id": "arZ1inABhyCD",
        "outputId": "69b8d829-fe2e-4b0f-cbf8-58d752deb31f",
        "colab": {
          "base_uri": "https://localhost:8080/",
          "height": 421
        }
      },
      "source": [
        "plt.figure(figsize=(12,6))\n",
        "sns.countplot(x=\"Mes\", data=df, palette=None, order=None)\n",
        "plt.title(\"Pedidos por Mês\")"
      ],
      "execution_count": null,
      "outputs": [
        {
          "output_type": "execute_result",
          "data": {
            "text/plain": [
              "Text(0.5, 1.0, 'Pedidos por Mês')"
            ]
          },
          "metadata": {},
          "execution_count": 50
        },
        {
          "output_type": "display_data",
          "data": {
            "text/plain": [
              "<Figure size 864x432 with 1 Axes>"
            ],
            "image/png": "[encoded data removed]"
          },
          "metadata": {
            "needs_background": "light"
          }
        }
      ]
    },
    {
      "cell_type": "markdown",
      "metadata": {
        "id": "_bp7e87Ctd8k"
      },
      "source": [
        "O gráfico pmostra que a maior concentração de pedidos está no mês de Dezembro. Em Abril houve um volume diferente em relação aos demais e Novembro disparou.\n"
      ]
    },
    {
      "cell_type": "code",
      "metadata": {
        "id": "k1eJZHSfnLCr",
        "outputId": "8b5ab698-9515-465c-b99f-3b96b0886166",
        "colab": {
          "base_uri": "https://localhost:8080/",
          "height": 421
        }
      },
      "source": [
        "plt.figure(figsize=(12,6))\n",
        "sns.countplot(x= \"DiaSemana\", data=df, palette=None)\n",
        "plt.title(\"Por dia de Semana\")"
      ],
      "execution_count": null,
      "outputs": [
        {
          "output_type": "execute_result",
          "data": {
            "text/plain": [
              "Text(0.5, 1.0, 'Por dia de Semana')"
            ]
          },
          "metadata": {},
          "execution_count": 51
        },
        {
          "output_type": "display_data",
          "data": {
            "text/plain": [
              "<Figure size 864x432 with 1 Axes>"
            ],
            "image/png": "[encoded data removed]"
          },
          "metadata": {
            "needs_background": "light"
          }
        }
      ]
    },
    {
      "cell_type": "markdown",
      "metadata": {
        "id": "xmec7DDKDzr9"
      },
      "source": [
        "**Domingo é lider de pedidos.**\n",
        "\n",
        "---\n",
        "\n"
      ]
    },
    {
      "cell_type": "code",
      "metadata": {
        "id": "R0EOnE9ku9n3",
        "outputId": "759326ea-5524-45fe-8cdc-8c079d093658",
        "colab": {
          "base_uri": "https://localhost:8080/",
          "height": 297
        }
      },
      "source": [
        "sns.catplot(x=\"Qtd\", col=\"TipoPedido\",\n",
        "                data=df, kind=\"count\",\n",
        "                height=4, aspect=.7);"
      ],
      "execution_count": null,
      "outputs": [
        {
          "output_type": "display_data",
          "data": {
            "image/png": "[encoded data removed]",
            "text/plain": [
              "<Figure size 806.4x288 with 4 Axes>"
            ]
          },
          "metadata": {
            "tags": []
          }
        }
      ]
    },
    {
      "cell_type": "markdown",
      "metadata": {
        "id": "ibyeGE10D-02"
      },
      "source": [
        "**A maioria dos pedidos, ou seja, 81.77% são feitos por telefone/aplicativo(Delivery), sem a necessidade de loja física.**\n",
        "\n",
        "---\n",
        "\n"
      ]
    },
    {
      "cell_type": "code",
      "metadata": {
        "id": "i8hVaDOuEXZh",
        "outputId": "827e7ee3-2f77-4fdb-e2a0-f59bebf3bab5",
        "colab": {
          "base_uri": "https://localhost:8080/",
          "height": 102
        }
      },
      "source": [
        "df[\"TipoPedido\"].value_counts() / 100"
      ],
      "execution_count": null,
      "outputs": [
        {
          "output_type": "execute_result",
          "data": {
            "text/plain": [
              "Delivery        81.77\n",
              "Mesa/Comanda    22.67\n",
              "Balcão           0.80\n",
              "Caixa            0.08\n",
              "Name: TipoPedido, dtype: float64"
            ]
          },
          "metadata": {
            "tags": []
          },
          "execution_count": 47
        }
      ]
    },
    {
      "cell_type": "code",
      "metadata": {
        "id": "xZRLC3Eev-qt",
        "outputId": "b0e44dee-f5df-402c-8429-b5ef02247d00",
        "colab": {
          "base_uri": "https://localhost:8080/",
          "height": 422
        }
      },
      "source": [
        "plt.figure(figsize=(12,6))\n",
        "sns.countplot(x=\"Categoria\", data=df, palette=None)\n",
        "plt.title(\"Por Categoria\")"
      ],
      "execution_count": null,
      "outputs": [
        {
          "output_type": "execute_result",
          "data": {
            "text/plain": [
              "Text(0.5, 1.0, 'Por Categoria')"
            ]
          },
          "metadata": {},
          "execution_count": 52
        },
        {
          "output_type": "display_data",
          "data": {
            "text/plain": [
              "<Figure size 864x432 with 1 Axes>"
            ],
            "image/png": "[encoded data removed]"
          },
          "metadata": {
            "needs_background": "light"
          }
        }
      ]
    },
    {
      "cell_type": "markdown",
      "metadata": {
        "id": "CSnfTlX8DYFQ"
      },
      "source": [
        "**Podemos notar que não existe uma relação de pedidos com refrigerantes significativa. As pessoas compram mais hamburgueres do que um pedido \"casado\", ou seja, hamburguer + refrigerante.**\n",
        "\n",
        "---\n",
        "\n",
        "\n",
        "\n",
        "---\n",
        "\n"
      ]
    },
    {
      "cell_type": "code",
      "metadata": {
        "id": "Mu8LUUJV9yNX",
        "outputId": "8596cbe6-b8be-41e4-f868-8fff9afd8e8f",
        "colab": {
          "base_uri": "https://localhost:8080/",
          "height": 405
        }
      },
      "source": [
        "plt.figure(figsize=(12,6))\n",
        "df[df['Produto']=='207 +BACON'].groupby('DiaSemana').count()['Categoria'].plot()\n",
        "df[df['Produto']=='207 PRIME'].groupby('DiaSemana').count()['Categoria'].plot()\n",
        "df[df['Produto']=='207 MAXX'].groupby('DiaSemana').count()['Categoria'].plot()\n",
        "df[df['Produto']==\"207 GAROTO\"].groupby(\"DiaSemana\").count()[\"Categoria\"].plot()\n",
        "df[df['Produto']==\"207 CLÁSSICO\"].groupby(\"DiaSemana\").count()[\"Categoria\"].plot()\n",
        "df[df['Produto']==\"207 CHICKEN\"].groupby(\"DiaSemana\").count()[\"Categoria\"].plot()\n",
        "df[df['Produto']==\"207 SUPREMO\"].groupby(\"DiaSemana\").count()[\"Categoria\"].plot()\n",
        "plt.legend([\"Bacon\", \"Prime\", \"Maxx\",\"Garoto\",\"Classico\",\"Chicken\",\"Supremo\"], loc = 0, borderaxespad=1)"
      ],
      "execution_count": null,
      "outputs": [
        {
          "output_type": "execute_result",
          "data": {
            "text/plain": [
              "<matplotlib.legend.Legend at 0x7f2681440b70>"
            ]
          },
          "metadata": {
            "tags": []
          },
          "execution_count": 50
        },
        {
          "output_type": "display_data",
          "data": {
            "image/png": "[encoded data removed]",
            "text/plain": [
              "<Figure size 864x432 with 1 Axes>"
            ]
          },
          "metadata": {
            "tags": []
          }
        }
      ]
    },
    {
      "cell_type": "markdown",
      "metadata": {
        "id": "CafVTGVwDAOH"
      },
      "source": [
        "**Ranking dos Hamburgueres.** \n",
        "\n",
        "---\n",
        "\n",
        "\n",
        "\n",
        "---\n",
        "\n"
      ]
    },
    {
      "cell_type": "code",
      "metadata": {
        "id": "x4H7vC6lFcHl",
        "outputId": "d458730a-cf38-495b-fbfc-83e6a5865d11",
        "colab": {
          "base_uri": "https://localhost:8080/",
          "height": 405
        }
      },
      "source": [
        "plt.figure(figsize=(12,6))\n",
        "df[df['Produto']=='COCA COLA LATA'].groupby('DiaSemana').count()['Categoria'].plot()\n",
        "df[df['Produto']==\"GUARANÁ ANTÁRTICA LATA\"].groupby(\"DiaSemana\").count()[\"Categoria\"].plot()\n",
        "df[df['Produto']==\"COCA COLA 600ML\"].groupby(\"DiaSemana\").count()[\"Categoria\"].plot()\n",
        "plt.legend([\"Coca Cola Lata\", \"Guaraná Lata\",\"Coca 600ml\"], loc = 0, borderaxespad=1)"
      ],
      "execution_count": null,
      "outputs": [
        {
          "output_type": "execute_result",
          "data": {
            "text/plain": [
              "<matplotlib.legend.Legend at 0x7f26815a0a90>"
            ]
          },
          "metadata": {
            "tags": []
          },
          "execution_count": 51
        },
        {
          "output_type": "display_data",
          "data": {
            "image/png": "[encoded data removed]",
            "text/plain": [
              "<Figure size 864x432 with 1 Axes>"
            ]
          },
          "metadata": {
            "tags": []
          }
        }
      ]
    },
    {
      "cell_type": "markdown",
      "metadata": {
        "id": "gkGYpDl1G3Wn"
      },
      "source": [
        "**Ranking dos refrigerantes.**\n",
        "\n",
        "---\n",
        "\n"
      ]
    },
    {
      "cell_type": "code",
      "metadata": {
        "id": "CoXUIzsQG_p-",
        "outputId": "92203ad2-67c9-4538-ece9-1230452e1e3f",
        "colab": {
          "base_uri": "https://localhost:8080/",
          "height": 405
        }
      },
      "source": [
        "plt.figure(figsize=(12,6))\n",
        "\n",
        "plt.legend([\"Garoto\",\"Clássico\",\"Chicken\",\"Supremo\"], loc=0, borderaxespad=1)"
      ],
      "execution_count": null,
      "outputs": [
        {
          "output_type": "execute_result",
          "data": {
            "text/plain": [
              "<matplotlib.legend.Legend at 0x7f21ee61df28>"
            ]
          },
          "metadata": {
            "tags": []
          },
          "execution_count": 127
        },
        {
          "output_type": "display_data",
          "data": {
            "image/png": "[encoded data removed]",
            "text/plain": [
              "<Figure size 864x432 with 1 Axes>"
            ]
          },
          "metadata": {
            "tags": []
          }
        }
      ]
    },
    {
      "cell_type": "code",
      "metadata": {
        "id": "wMaJ8uyauYwi"
      },
      "source": [
        ""
      ],
      "execution_count": null,
      "outputs": []
    }
  ]
}