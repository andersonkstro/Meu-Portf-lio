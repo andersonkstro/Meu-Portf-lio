{
  "nbformat": 4,
  "nbformat_minor": 0,
  "metadata": {
    "colab": {
      "name": "Cópia de Untitled0.ipynb",
      "provenance": [],
      "collapsed_sections": [],
      "include_colab_link": true
    },
    "kernelspec": {
      "name": "python3",
      "display_name": "Python 3"
    }
  },
  "cells": [
    {
      "cell_type": "markdown",
      "metadata": {
        "id": "view-in-github",
        "colab_type": "text"
      },
      "source": [
        "<a href=\"https://colab.research.google.com/github/andersonkstro/Meu-Portfolio/blob/master/ProjetoHamburgueria.ipynb\" target=\"_parent\"><img src=\"https://colab.research.google.com/assets/colab-badge.svg\" alt=\"Open In Colab\"/></a>"
      ]
    },
    {
      "cell_type": "markdown",
      "metadata": {
        "id": "UjLoK72nJQqt"
      },
      "source": [
        "Dataset da Hamburgueria2047 do município de Marabá-PA.\n",
        "\n",
        "Vamos analisar as vendas por dias da semana, meses do ano e suas categorias.\n",
        "\n",
        "---\n",
        "\n"
      ]
    },
    {
      "cell_type": "code",
      "metadata": {
        "id": "l2kbLRfLB6RD"
      },
      "source": [
        "import pandas as pd\n",
        "import matplotlib.pyplot as plt\n",
        "%matplotlib inline\n",
        "import numpy as np\n",
        "import seaborn as sns\n",
        "from datetime import datetime, timedelta\n",
        "from datetime import date\n",
        "import datetime as dt\n",
        "\n",
        "sns.set_style()"
      ],
      "execution_count": null,
      "outputs": []
    },
    {
      "cell_type": "code",
      "metadata": {
        "id": "vuSlrySZeYgG",
        "outputId": "c1163c7a-d1e6-44ed-9fa7-8cd76a1b4c50",
        "colab": {
          "base_uri": "https://localhost:8080/"
        }
      },
      "source": [
        "from google.colab import drive\n",
        "drive.mount('/content/drive')"
      ],
      "execution_count": null,
      "outputs": [
        {
          "output_type": "stream",
          "name": "stdout",
          "text": [
            "Mounted at /content/drive\n"
          ]
        }
      ]
    },
    {
      "cell_type": "markdown",
      "metadata": {
        "id": "iXgnKfhrEDDj"
      },
      "source": [
        "# Análise exploratória"
      ]
    },
    {
      "cell_type": "code",
      "metadata": {
        "id": "EhSkWuwuCH6v"
      },
      "source": [
        "# Importando o dataset\n",
        "\n",
        "df = pd.read_excel('/content/Cópia de Historico_Itens_Vendidos de 01-01-18 à 31-12-18.xlsx')"
      ],
      "execution_count": null,
      "outputs": []
    },
    {
      "cell_type": "code",
      "metadata": {
        "id": "MwDBujxAChuO",
        "outputId": "e9886985-edea-4ff7-bbf1-c16fc4818947",
        "colab": {
          "base_uri": "https://localhost:8080/",
          "height": 354
        }
      },
      "source": [
        "# Verificando as primeiras linhas do dataset\n",
        "df.head()"
      ],
      "execution_count": null,
      "outputs": [
        {
          "output_type": "execute_result",
          "data": {
            "text/plain": [
              "           Data/Hora Item  Qtd.  Valor Un. Item  Valor. Tot. Item  \\\n",
              "0 2018-03-05 19:03:29.296     1            17.0              17.0   \n",
              "1 2018-03-05 19:06:18.572     1            22.0              22.0   \n",
              "2 2018-03-05 19:06:24.578     1             3.0               3.0   \n",
              "3 2018-03-05 19:10:04.523     1            15.0              15.0   \n",
              "4 2018-03-05 19:10:04.523     1             1.5               1.5   \n",
              "\n",
              "  Tipo de Item        Nome Prod.   Tipo Prod.     Cat. Prod.  Valor Prod.  \\\n",
              "0      Produto        207 +BACON      Produto   Hambúrgueres         17.0   \n",
              "1      Produto         207 PRIME      Produto   Hambúrgueres         22.0   \n",
              "2      Produto    COCA COLA LATA      Produto  Refrigerantes          4.0   \n",
              "3      Produto      207 CLÁSSICO      Produto   Hambúrgueres         15.0   \n",
              "4  Complemento  QUEIJO ADICIONAL  Complemento    Complemento          1.5   \n",
              "\n",
              "   Cod. Ped.  Núm. Mesa/Com.           Data Ab. Ped.          Data Fec. Ped.  \\\n",
              "0     6187.0             NaN 2018-03-05 19:02:22.138 2018-03-05 19:58:54.006   \n",
              "1     6188.0             NaN 2018-03-05 19:06:00.273 2018-03-05 19:59:16.501   \n",
              "2     6188.0             NaN 2018-03-05 19:06:00.273 2018-03-05 19:59:16.501   \n",
              "3     6189.0             NaN 2018-03-05 19:09:11.997 2018-03-05 19:58:35.722   \n",
              "4     6189.0             NaN 2018-03-05 19:09:11.997 2018-03-05 19:58:35.722   \n",
              "\n",
              "      Tipo Ped.        Stat. Ped.  \n",
              "0  Delivery      Finalizado Pago   \n",
              "1  Delivery      Finalizado Pago   \n",
              "2  Delivery      Finalizado Pago   \n",
              "3  Delivery      Finalizado Pago   \n",
              "4  Delivery      Finalizado Pago   "
            ],
            "text/html": [
              "\n",
              "  <div id=\"df-8231e7dc-d607-46d3-9e7b-45de1b8f2a9c\">\n",
              "    <div class=\"colab-df-container\">\n",
              "      <div>\n",
              "<style scoped>\n",
              "    .dataframe tbody tr th:only-of-type {\n",
              "        vertical-align: middle;\n",
              "    }\n",
              "\n",
              "    .dataframe tbody tr th {\n",
              "        vertical-align: top;\n",
              "    }\n",
              "\n",
              "    .dataframe thead th {\n",
              "        text-align: right;\n",
              "    }\n",
              "</style>\n",
              "<table border=\"1\" class=\"dataframe\">\n",
              "  <thead>\n",
              "    <tr style=\"text-align: right;\">\n",
              "      <th></th>\n",
              "      <th>Data/Hora Item</th>\n",
              "      <th>Qtd.</th>\n",
              "      <th>Valor Un. Item</th>\n",
              "      <th>Valor. Tot. Item</th>\n",
              "      <th>Tipo de Item</th>\n",
              "      <th>Nome Prod.</th>\n",
              "      <th>Tipo Prod.</th>\n",
              "      <th>Cat. Prod.</th>\n",
              "      <th>Valor Prod.</th>\n",
              "      <th>Cod. Ped.</th>\n",
              "      <th>Núm. Mesa/Com.</th>\n",
              "      <th>Data Ab. Ped.</th>\n",
              "      <th>Data Fec. Ped.</th>\n",
              "      <th>Tipo Ped.</th>\n",
              "      <th>Stat. Ped.</th>\n",
              "    </tr>\n",
              "  </thead>\n",
              "  <tbody>\n",
              "    <tr>\n",
              "      <th>0</th>\n",
              "      <td>2018-03-05 19:03:29.296</td>\n",
              "      <td>1</td>\n",
              "      <td>17.0</td>\n",
              "      <td>17.0</td>\n",
              "      <td>Produto</td>\n",
              "      <td>207 +BACON</td>\n",
              "      <td>Produto</td>\n",
              "      <td>Hambúrgueres</td>\n",
              "      <td>17.0</td>\n",
              "      <td>6187.0</td>\n",
              "      <td>NaN</td>\n",
              "      <td>2018-03-05 19:02:22.138</td>\n",
              "      <td>2018-03-05 19:58:54.006</td>\n",
              "      <td>Delivery</td>\n",
              "      <td>Finalizado Pago</td>\n",
              "    </tr>\n",
              "    <tr>\n",
              "      <th>1</th>\n",
              "      <td>2018-03-05 19:06:18.572</td>\n",
              "      <td>1</td>\n",
              "      <td>22.0</td>\n",
              "      <td>22.0</td>\n",
              "      <td>Produto</td>\n",
              "      <td>207 PRIME</td>\n",
              "      <td>Produto</td>\n",
              "      <td>Hambúrgueres</td>\n",
              "      <td>22.0</td>\n",
              "      <td>6188.0</td>\n",
              "      <td>NaN</td>\n",
              "      <td>2018-03-05 19:06:00.273</td>\n",
              "      <td>2018-03-05 19:59:16.501</td>\n",
              "      <td>Delivery</td>\n",
              "      <td>Finalizado Pago</td>\n",
              "    </tr>\n",
              "    <tr>\n",
              "      <th>2</th>\n",
              "      <td>2018-03-05 19:06:24.578</td>\n",
              "      <td>1</td>\n",
              "      <td>3.0</td>\n",
              "      <td>3.0</td>\n",
              "      <td>Produto</td>\n",
              "      <td>COCA COLA LATA</td>\n",
              "      <td>Produto</td>\n",
              "      <td>Refrigerantes</td>\n",
              "      <td>4.0</td>\n",
              "      <td>6188.0</td>\n",
              "      <td>NaN</td>\n",
              "      <td>2018-03-05 19:06:00.273</td>\n",
              "      <td>2018-03-05 19:59:16.501</td>\n",
              "      <td>Delivery</td>\n",
              "      <td>Finalizado Pago</td>\n",
              "    </tr>\n",
              "    <tr>\n",
              "      <th>3</th>\n",
              "      <td>2018-03-05 19:10:04.523</td>\n",
              "      <td>1</td>\n",
              "      <td>15.0</td>\n",
              "      <td>15.0</td>\n",
              "      <td>Produto</td>\n",
              "      <td>207 CLÁSSICO</td>\n",
              "      <td>Produto</td>\n",
              "      <td>Hambúrgueres</td>\n",
              "      <td>15.0</td>\n",
              "      <td>6189.0</td>\n",
              "      <td>NaN</td>\n",
              "      <td>2018-03-05 19:09:11.997</td>\n",
              "      <td>2018-03-05 19:58:35.722</td>\n",
              "      <td>Delivery</td>\n",
              "      <td>Finalizado Pago</td>\n",
              "    </tr>\n",
              "    <tr>\n",
              "      <th>4</th>\n",
              "      <td>2018-03-05 19:10:04.523</td>\n",
              "      <td>1</td>\n",
              "      <td>1.5</td>\n",
              "      <td>1.5</td>\n",
              "      <td>Complemento</td>\n",
              "      <td>QUEIJO ADICIONAL</td>\n",
              "      <td>Complemento</td>\n",
              "      <td>Complemento</td>\n",
              "      <td>1.5</td>\n",
              "      <td>6189.0</td>\n",
              "      <td>NaN</td>\n",
              "      <td>2018-03-05 19:09:11.997</td>\n",
              "      <td>2018-03-05 19:58:35.722</td>\n",
              "      <td>Delivery</td>\n",
              "      <td>Finalizado Pago</td>\n",
              "    </tr>\n",
              "  </tbody>\n",
              "</table>\n",
              "</div>\n",
              "      <button class=\"colab-df-convert\" onclick=\"convertToInteractive('df-8231e7dc-d607-46d3-9e7b-45de1b8f2a9c')\"\n",
              "              title=\"Convert this dataframe to an interactive table.\"\n",
              "              style=\"display:none;\">\n",
              "        \n",
              "  <svg xmlns=\"http://www.w3.org/2000/svg\" height=\"24px\"viewBox=\"0 0 24 24\"\n",
              "       width=\"24px\">\n",
              "    <path d=\"M0 0h24v24H0V0z\" fill=\"none\"/>\n",
              "    <path d=\"M18.56 5.44l.94 2.06.94-2.06 2.06-.94-2.06-.94-.94-2.06-.94 2.06-2.06.94zm-11 1L8.5 8.5l.94-2.06 2.06-.94-2.06-.94L8.5 2.5l-.94 2.06-2.06.94zm10 10l.94 2.06.94-2.06 2.06-.94-2.06-.94-.94-2.06-.94 2.06-2.06.94z\"/><path d=\"M17.41 7.96l-1.37-1.37c-.4-.4-.92-.59-1.43-.59-.52 0-1.04.2-1.43.59L10.3 9.45l-7.72 7.72c-.78.78-.78 2.05 0 2.83L4 21.41c.39.39.9.59 1.41.59.51 0 1.02-.2 1.41-.59l7.78-7.78 2.81-2.81c.8-.78.8-2.07 0-2.86zM5.41 20L4 18.59l7.72-7.72 1.47 1.35L5.41 20z\"/>\n",
              "  </svg>\n",
              "      </button>\n",
              "      \n",
              "  <style>\n",
              "    .colab-df-container {\n",
              "      display:flex;\n",
              "      flex-wrap:wrap;\n",
              "      gap: 12px;\n",
              "    }\n",
              "\n",
              "    .colab-df-convert {\n",
              "      background-color: #E8F0FE;\n",
              "      border: none;\n",
              "      border-radius: 50%;\n",
              "      cursor: pointer;\n",
              "      display: none;\n",
              "      fill: #1967D2;\n",
              "      height: 32px;\n",
              "      padding: 0 0 0 0;\n",
              "      width: 32px;\n",
              "    }\n",
              "\n",
              "    .colab-df-convert:hover {\n",
              "      background-color: #E2EBFA;\n",
              "      box-shadow: 0px 1px 2px rgba(60, 64, 67, 0.3), 0px 1px 3px 1px rgba(60, 64, 67, 0.15);\n",
              "      fill: #174EA6;\n",
              "    }\n",
              "\n",
              "    [theme=dark] .colab-df-convert {\n",
              "      background-color: #3B4455;\n",
              "      fill: #D2E3FC;\n",
              "    }\n",
              "\n",
              "    [theme=dark] .colab-df-convert:hover {\n",
              "      background-color: #434B5C;\n",
              "      box-shadow: 0px 1px 3px 1px rgba(0, 0, 0, 0.15);\n",
              "      filter: drop-shadow(0px 1px 2px rgba(0, 0, 0, 0.3));\n",
              "      fill: #FFFFFF;\n",
              "    }\n",
              "  </style>\n",
              "\n",
              "      <script>\n",
              "        const buttonEl =\n",
              "          document.querySelector('#df-8231e7dc-d607-46d3-9e7b-45de1b8f2a9c button.colab-df-convert');\n",
              "        buttonEl.style.display =\n",
              "          google.colab.kernel.accessAllowed ? 'block' : 'none';\n",
              "\n",
              "        async function convertToInteractive(key) {\n",
              "          const element = document.querySelector('#df-8231e7dc-d607-46d3-9e7b-45de1b8f2a9c');\n",
              "          const dataTable =\n",
              "            await google.colab.kernel.invokeFunction('convertToInteractive',\n",
              "                                                     [key], {});\n",
              "          if (!dataTable) return;\n",
              "\n",
              "          const docLinkHtml = 'Like what you see? Visit the ' +\n",
              "            '<a target=\"_blank\" href=https://colab.research.google.com/notebooks/data_table.ipynb>data table notebook</a>'\n",
              "            + ' to learn more about interactive tables.';\n",
              "          element.innerHTML = '';\n",
              "          dataTable['output_type'] = 'display_data';\n",
              "          await google.colab.output.renderOutput(dataTable, element);\n",
              "          const docLink = document.createElement('div');\n",
              "          docLink.innerHTML = docLinkHtml;\n",
              "          element.appendChild(docLink);\n",
              "        }\n",
              "      </script>\n",
              "    </div>\n",
              "  </div>\n",
              "  "
            ]
          },
          "metadata": {},
          "execution_count": 3
        }
      ]
    },
    {
      "cell_type": "code",
      "metadata": {
        "id": "lBGYpLNoEkG8",
        "outputId": "09e1db63-faa6-45fc-ba6b-05d5cfd53c6f",
        "colab": {
          "base_uri": "https://localhost:8080/"
        }
      },
      "source": [
        "# Informações adicionais do nosso conjunto de dados\n",
        "\n",
        "df.info()"
      ],
      "execution_count": null,
      "outputs": [
        {
          "output_type": "stream",
          "name": "stdout",
          "text": [
            "<class 'pandas.core.frame.DataFrame'>\n",
            "RangeIndex: 10533 entries, 0 to 10532\n",
            "Data columns (total 15 columns):\n",
            " #   Column            Non-Null Count  Dtype         \n",
            "---  ------            --------------  -----         \n",
            " 0   Data/Hora Item    10532 non-null  datetime64[ns]\n",
            " 1   Qtd.              10533 non-null  int64         \n",
            " 2   Valor Un. Item    10532 non-null  float64       \n",
            " 3   Valor. Tot. Item  10533 non-null  float64       \n",
            " 4   Tipo de Item      10532 non-null  object        \n",
            " 5   Nome Prod.        10532 non-null  object        \n",
            " 6   Tipo Prod.        10532 non-null  object        \n",
            " 7   Cat. Prod.        10532 non-null  object        \n",
            " 8   Valor Prod.       10532 non-null  float64       \n",
            " 9   Cod. Ped.         10532 non-null  float64       \n",
            " 10  Núm. Mesa/Com.    2267 non-null   float64       \n",
            " 11  Data Ab. Ped.     10532 non-null  datetime64[ns]\n",
            " 12  Data Fec. Ped.    10532 non-null  datetime64[ns]\n",
            " 13  Tipo Ped.         10532 non-null  object        \n",
            " 14  Stat. Ped.        10532 non-null  object        \n",
            "dtypes: datetime64[ns](3), float64(5), int64(1), object(6)\n",
            "memory usage: 1.2+ MB\n"
          ]
        }
      ]
    },
    {
      "cell_type": "code",
      "metadata": {
        "id": "10djxKL-EnEQ",
        "outputId": "4639b7e1-d42c-46b2-a28a-a6e849320eff",
        "colab": {
          "base_uri": "https://localhost:8080/"
        }
      },
      "source": [
        "# Verificando o tamanho do conjunto de dados\n",
        "df.shape"
      ],
      "execution_count": null,
      "outputs": [
        {
          "output_type": "execute_result",
          "data": {
            "text/plain": [
              "(10533, 15)"
            ]
          },
          "metadata": {},
          "execution_count": 5
        }
      ]
    },
    {
      "cell_type": "code",
      "metadata": {
        "id": "E86mdgq3EsUi",
        "outputId": "dee33912-72d4-4321-b676-1604de9f6d47",
        "colab": {
          "base_uri": "https://localhost:8080/"
        }
      },
      "source": [
        "# Valores nulos\n",
        "df.isnull().sum()"
      ],
      "execution_count": null,
      "outputs": [
        {
          "output_type": "execute_result",
          "data": {
            "text/plain": [
              "Data/Hora Item         1\n",
              "Qtd.                   0\n",
              "Valor Un. Item         1\n",
              "Valor. Tot. Item       0\n",
              "Tipo de Item           1\n",
              "Nome Prod.             1\n",
              "Tipo Prod.             1\n",
              "Cat. Prod.             1\n",
              "Valor Prod.            1\n",
              "Cod. Ped.              1\n",
              "Núm. Mesa/Com.      8266\n",
              "Data Ab. Ped.          1\n",
              "Data Fec. Ped.         1\n",
              "Tipo Ped.              1\n",
              "Stat. Ped.             1\n",
              "dtype: int64"
            ]
          },
          "metadata": {},
          "execution_count": 6
        }
      ]
    },
    {
      "cell_type": "code",
      "metadata": {
        "id": "WAut8o6p9EfN",
        "outputId": "52130c75-83c1-4564-9573-070779aed1d2",
        "colab": {
          "base_uri": "https://localhost:8080/"
        }
      },
      "source": [
        "# Percentual de valores nulos\n",
        "df.isnull().sum() / df.shape[0] * 100"
      ],
      "execution_count": null,
      "outputs": [
        {
          "output_type": "execute_result",
          "data": {
            "text/plain": [
              "Data/Hora Item       0.009494\n",
              "Qtd.                 0.000000\n",
              "Valor Un. Item       0.009494\n",
              "Valor. Tot. Item     0.000000\n",
              "Tipo de Item         0.009494\n",
              "Nome Prod.           0.009494\n",
              "Tipo Prod.           0.009494\n",
              "Cat. Prod.           0.009494\n",
              "Valor Prod.          0.009494\n",
              "Cod. Ped.            0.009494\n",
              "Núm. Mesa/Com.      78.477167\n",
              "Data Ab. Ped.        0.009494\n",
              "Data Fec. Ped.       0.009494\n",
              "Tipo Ped.            0.009494\n",
              "Stat. Ped.           0.009494\n",
              "dtype: float64"
            ]
          },
          "metadata": {},
          "execution_count": 6
        }
      ]
    },
    {
      "cell_type": "code",
      "metadata": {
        "id": "VnuKA1UbROiz",
        "outputId": "25eedd3d-8390-41a0-e31e-53cb0aacc106",
        "colab": {
          "base_uri": "https://localhost:8080/",
          "height": 300
        }
      },
      "source": [
        "# Observando dados estatísticos do nosso conjunto de dados\n",
        "df.describe()"
      ],
      "execution_count": null,
      "outputs": [
        {
          "output_type": "execute_result",
          "data": {
            "text/plain": [
              "               Qtd.  Valor Un. Item  Valor. Tot. Item   Valor Prod.  \\\n",
              "count  10533.000000    10532.000000      10533.000000  10532.000000   \n",
              "mean       2.179816       13.239271         29.048894     13.475978   \n",
              "std      111.847651        7.106302       1490.539012      6.910087   \n",
              "min        1.000000        1.000000          1.000000      1.000000   \n",
              "25%        1.000000        5.000000          5.500000      6.000000   \n",
              "50%        1.000000       15.000000         15.000000     16.000000   \n",
              "75%        1.000000       20.000000         20.000000     20.000000   \n",
              "max    11480.000000       30.000000     152986.000000     22.000000   \n",
              "\n",
              "          Cod. Ped.  Núm. Mesa/Com.  \n",
              "count  10532.000000     2267.000000  \n",
              "mean    8922.573111        7.341420  \n",
              "std     1503.848371       18.970337  \n",
              "min     6187.000000        1.000000  \n",
              "25%     7636.000000        1.000000  \n",
              "50%     8943.500000        2.000000  \n",
              "75%    10287.250000        7.000000  \n",
              "max    11369.000000      102.000000  "
            ],
            "text/html": [
              "\n",
              "  <div id=\"df-a008d288-68d7-4942-b1c1-51a17af68c9c\">\n",
              "    <div class=\"colab-df-container\">\n",
              "      <div>\n",
              "<style scoped>\n",
              "    .dataframe tbody tr th:only-of-type {\n",
              "        vertical-align: middle;\n",
              "    }\n",
              "\n",
              "    .dataframe tbody tr th {\n",
              "        vertical-align: top;\n",
              "    }\n",
              "\n",
              "    .dataframe thead th {\n",
              "        text-align: right;\n",
              "    }\n",
              "</style>\n",
              "<table border=\"1\" class=\"dataframe\">\n",
              "  <thead>\n",
              "    <tr style=\"text-align: right;\">\n",
              "      <th></th>\n",
              "      <th>Qtd.</th>\n",
              "      <th>Valor Un. Item</th>\n",
              "      <th>Valor. Tot. Item</th>\n",
              "      <th>Valor Prod.</th>\n",
              "      <th>Cod. Ped.</th>\n",
              "      <th>Núm. Mesa/Com.</th>\n",
              "    </tr>\n",
              "  </thead>\n",
              "  <tbody>\n",
              "    <tr>\n",
              "      <th>count</th>\n",
              "      <td>10533.000000</td>\n",
              "      <td>10532.000000</td>\n",
              "      <td>10533.000000</td>\n",
              "      <td>10532.000000</td>\n",
              "      <td>10532.000000</td>\n",
              "      <td>2267.000000</td>\n",
              "    </tr>\n",
              "    <tr>\n",
              "      <th>mean</th>\n",
              "      <td>2.179816</td>\n",
              "      <td>13.239271</td>\n",
              "      <td>29.048894</td>\n",
              "      <td>13.475978</td>\n",
              "      <td>8922.573111</td>\n",
              "      <td>7.341420</td>\n",
              "    </tr>\n",
              "    <tr>\n",
              "      <th>std</th>\n",
              "      <td>111.847651</td>\n",
              "      <td>7.106302</td>\n",
              "      <td>1490.539012</td>\n",
              "      <td>6.910087</td>\n",
              "      <td>1503.848371</td>\n",
              "      <td>18.970337</td>\n",
              "    </tr>\n",
              "    <tr>\n",
              "      <th>min</th>\n",
              "      <td>1.000000</td>\n",
              "      <td>1.000000</td>\n",
              "      <td>1.000000</td>\n",
              "      <td>1.000000</td>\n",
              "      <td>6187.000000</td>\n",
              "      <td>1.000000</td>\n",
              "    </tr>\n",
              "    <tr>\n",
              "      <th>25%</th>\n",
              "      <td>1.000000</td>\n",
              "      <td>5.000000</td>\n",
              "      <td>5.500000</td>\n",
              "      <td>6.000000</td>\n",
              "      <td>7636.000000</td>\n",
              "      <td>1.000000</td>\n",
              "    </tr>\n",
              "    <tr>\n",
              "      <th>50%</th>\n",
              "      <td>1.000000</td>\n",
              "      <td>15.000000</td>\n",
              "      <td>15.000000</td>\n",
              "      <td>16.000000</td>\n",
              "      <td>8943.500000</td>\n",
              "      <td>2.000000</td>\n",
              "    </tr>\n",
              "    <tr>\n",
              "      <th>75%</th>\n",
              "      <td>1.000000</td>\n",
              "      <td>20.000000</td>\n",
              "      <td>20.000000</td>\n",
              "      <td>20.000000</td>\n",
              "      <td>10287.250000</td>\n",
              "      <td>7.000000</td>\n",
              "    </tr>\n",
              "    <tr>\n",
              "      <th>max</th>\n",
              "      <td>11480.000000</td>\n",
              "      <td>30.000000</td>\n",
              "      <td>152986.000000</td>\n",
              "      <td>22.000000</td>\n",
              "      <td>11369.000000</td>\n",
              "      <td>102.000000</td>\n",
              "    </tr>\n",
              "  </tbody>\n",
              "</table>\n",
              "</div>\n",
              "      <button class=\"colab-df-convert\" onclick=\"convertToInteractive('df-a008d288-68d7-4942-b1c1-51a17af68c9c')\"\n",
              "              title=\"Convert this dataframe to an interactive table.\"\n",
              "              style=\"display:none;\">\n",
              "        \n",
              "  <svg xmlns=\"http://www.w3.org/2000/svg\" height=\"24px\"viewBox=\"0 0 24 24\"\n",
              "       width=\"24px\">\n",
              "    <path d=\"M0 0h24v24H0V0z\" fill=\"none\"/>\n",
              "    <path d=\"M18.56 5.44l.94 2.06.94-2.06 2.06-.94-2.06-.94-.94-2.06-.94 2.06-2.06.94zm-11 1L8.5 8.5l.94-2.06 2.06-.94-2.06-.94L8.5 2.5l-.94 2.06-2.06.94zm10 10l.94 2.06.94-2.06 2.06-.94-2.06-.94-.94-2.06-.94 2.06-2.06.94z\"/><path d=\"M17.41 7.96l-1.37-1.37c-.4-.4-.92-.59-1.43-.59-.52 0-1.04.2-1.43.59L10.3 9.45l-7.72 7.72c-.78.78-.78 2.05 0 2.83L4 21.41c.39.39.9.59 1.41.59.51 0 1.02-.2 1.41-.59l7.78-7.78 2.81-2.81c.8-.78.8-2.07 0-2.86zM5.41 20L4 18.59l7.72-7.72 1.47 1.35L5.41 20z\"/>\n",
              "  </svg>\n",
              "      </button>\n",
              "      \n",
              "  <style>\n",
              "    .colab-df-container {\n",
              "      display:flex;\n",
              "      flex-wrap:wrap;\n",
              "      gap: 12px;\n",
              "    }\n",
              "\n",
              "    .colab-df-convert {\n",
              "      background-color: #E8F0FE;\n",
              "      border: none;\n",
              "      border-radius: 50%;\n",
              "      cursor: pointer;\n",
              "      display: none;\n",
              "      fill: #1967D2;\n",
              "      height: 32px;\n",
              "      padding: 0 0 0 0;\n",
              "      width: 32px;\n",
              "    }\n",
              "\n",
              "    .colab-df-convert:hover {\n",
              "      background-color: #E2EBFA;\n",
              "      box-shadow: 0px 1px 2px rgba(60, 64, 67, 0.3), 0px 1px 3px 1px rgba(60, 64, 67, 0.15);\n",
              "      fill: #174EA6;\n",
              "    }\n",
              "\n",
              "    [theme=dark] .colab-df-convert {\n",
              "      background-color: #3B4455;\n",
              "      fill: #D2E3FC;\n",
              "    }\n",
              "\n",
              "    [theme=dark] .colab-df-convert:hover {\n",
              "      background-color: #434B5C;\n",
              "      box-shadow: 0px 1px 3px 1px rgba(0, 0, 0, 0.15);\n",
              "      filter: drop-shadow(0px 1px 2px rgba(0, 0, 0, 0.3));\n",
              "      fill: #FFFFFF;\n",
              "    }\n",
              "  </style>\n",
              "\n",
              "      <script>\n",
              "        const buttonEl =\n",
              "          document.querySelector('#df-a008d288-68d7-4942-b1c1-51a17af68c9c button.colab-df-convert');\n",
              "        buttonEl.style.display =\n",
              "          google.colab.kernel.accessAllowed ? 'block' : 'none';\n",
              "\n",
              "        async function convertToInteractive(key) {\n",
              "          const element = document.querySelector('#df-a008d288-68d7-4942-b1c1-51a17af68c9c');\n",
              "          const dataTable =\n",
              "            await google.colab.kernel.invokeFunction('convertToInteractive',\n",
              "                                                     [key], {});\n",
              "          if (!dataTable) return;\n",
              "\n",
              "          const docLinkHtml = 'Like what you see? Visit the ' +\n",
              "            '<a target=\"_blank\" href=https://colab.research.google.com/notebooks/data_table.ipynb>data table notebook</a>'\n",
              "            + ' to learn more about interactive tables.';\n",
              "          element.innerHTML = '';\n",
              "          dataTable['output_type'] = 'display_data';\n",
              "          await google.colab.output.renderOutput(dataTable, element);\n",
              "          const docLink = document.createElement('div');\n",
              "          docLink.innerHTML = docLinkHtml;\n",
              "          element.appendChild(docLink);\n",
              "        }\n",
              "      </script>\n",
              "    </div>\n",
              "  </div>\n",
              "  "
            ]
          },
          "metadata": {},
          "execution_count": 7
        }
      ]
    },
    {
      "cell_type": "code",
      "metadata": {
        "id": "SwGB43F5SAc1"
      },
      "source": [
        "# Removendo colunas com valores nulos\n",
        "\n",
        "df.drop([\"Cod. Ped.\"], axis=1, inplace=True)\n",
        "df.drop([\"Núm. Mesa/Com.\"], axis=1, inplace=True)"
      ],
      "execution_count": null,
      "outputs": []
    },
    {
      "cell_type": "code",
      "source": [
        "# Resultado\n",
        "df.isnull().sum()"
      ],
      "metadata": {
        "id": "USN6Qg82uFhX",
        "outputId": "8b48da60-4678-4294-ceb9-b860019b37b5",
        "colab": {
          "base_uri": "https://localhost:8080/"
        }
      },
      "execution_count": null,
      "outputs": [
        {
          "output_type": "execute_result",
          "data": {
            "text/plain": [
              "Data/Hora Item      1\n",
              "Qtd.                0\n",
              "Valor Un. Item      1\n",
              "Valor. Tot. Item    0\n",
              "Tipo de Item        1\n",
              "Nome Prod.          1\n",
              "Tipo Prod.          1\n",
              "Cat. Prod.          1\n",
              "Valor Prod.         1\n",
              "Data Ab. Ped.       1\n",
              "Data Fec. Ped.      1\n",
              "Tipo Ped.           1\n",
              "Stat. Ped.          1\n",
              "dtype: int64"
            ]
          },
          "metadata": {},
          "execution_count": 10
        }
      ]
    },
    {
      "cell_type": "code",
      "source": [
        "# últimos registros do nosso dataset\n",
        "\n",
        "df.tail(2)"
      ],
      "metadata": {
        "colab": {
          "base_uri": "https://localhost:8080/",
          "height": 191
        },
        "id": "B0apJpNNntlo",
        "outputId": "8640f7ee-17f0-4540-e312-45ae125b6a24"
      },
      "execution_count": null,
      "outputs": [
        {
          "output_type": "execute_result",
          "data": {
            "text/plain": [
              "               Data/Hora Item   Qtd.  Valor Un. Item  Valor. Tot. Item  \\\n",
              "10531 2018-12-30 22:47:23.911      1             6.5               6.5   \n",
              "10532                     NaT  11480             NaN          152986.0   \n",
              "\n",
              "      Tipo de Item      Nome Prod. Tipo Prod.     Cat. Prod.  Valor Prod.  \\\n",
              "10531      Produto  COCA COLA 1 LT    Produto  Refrigerantes          6.5   \n",
              "10532          NaN             NaN        NaN            NaN          NaN   \n",
              "\n",
              "                Data Ab. Ped.          Data Fec. Ped.     Tipo Ped.  \\\n",
              "10531 2018-12-30 22:30:08.793 2018-12-30 23:01:08.671  Mesa/Comanda   \n",
              "10532                     NaT                     NaT           NaN   \n",
              "\n",
              "             Stat. Ped.  \n",
              "10531  Finalizado Pago   \n",
              "10532               NaN  "
            ],
            "text/html": [
              "\n",
              "  <div id=\"df-fc2898b0-ba35-40b8-9fa3-14670a6d3a3e\">\n",
              "    <div class=\"colab-df-container\">\n",
              "      <div>\n",
              "<style scoped>\n",
              "    .dataframe tbody tr th:only-of-type {\n",
              "        vertical-align: middle;\n",
              "    }\n",
              "\n",
              "    .dataframe tbody tr th {\n",
              "        vertical-align: top;\n",
              "    }\n",
              "\n",
              "    .dataframe thead th {\n",
              "        text-align: right;\n",
              "    }\n",
              "</style>\n",
              "<table border=\"1\" class=\"dataframe\">\n",
              "  <thead>\n",
              "    <tr style=\"text-align: right;\">\n",
              "      <th></th>\n",
              "      <th>Data/Hora Item</th>\n",
              "      <th>Qtd.</th>\n",
              "      <th>Valor Un. Item</th>\n",
              "      <th>Valor. Tot. Item</th>\n",
              "      <th>Tipo de Item</th>\n",
              "      <th>Nome Prod.</th>\n",
              "      <th>Tipo Prod.</th>\n",
              "      <th>Cat. Prod.</th>\n",
              "      <th>Valor Prod.</th>\n",
              "      <th>Data Ab. Ped.</th>\n",
              "      <th>Data Fec. Ped.</th>\n",
              "      <th>Tipo Ped.</th>\n",
              "      <th>Stat. Ped.</th>\n",
              "    </tr>\n",
              "  </thead>\n",
              "  <tbody>\n",
              "    <tr>\n",
              "      <th>10531</th>\n",
              "      <td>2018-12-30 22:47:23.911</td>\n",
              "      <td>1</td>\n",
              "      <td>6.5</td>\n",
              "      <td>6.5</td>\n",
              "      <td>Produto</td>\n",
              "      <td>COCA COLA 1 LT</td>\n",
              "      <td>Produto</td>\n",
              "      <td>Refrigerantes</td>\n",
              "      <td>6.5</td>\n",
              "      <td>2018-12-30 22:30:08.793</td>\n",
              "      <td>2018-12-30 23:01:08.671</td>\n",
              "      <td>Mesa/Comanda</td>\n",
              "      <td>Finalizado Pago</td>\n",
              "    </tr>\n",
              "    <tr>\n",
              "      <th>10532</th>\n",
              "      <td>NaT</td>\n",
              "      <td>11480</td>\n",
              "      <td>NaN</td>\n",
              "      <td>152986.0</td>\n",
              "      <td>NaN</td>\n",
              "      <td>NaN</td>\n",
              "      <td>NaN</td>\n",
              "      <td>NaN</td>\n",
              "      <td>NaN</td>\n",
              "      <td>NaT</td>\n",
              "      <td>NaT</td>\n",
              "      <td>NaN</td>\n",
              "      <td>NaN</td>\n",
              "    </tr>\n",
              "  </tbody>\n",
              "</table>\n",
              "</div>\n",
              "      <button class=\"colab-df-convert\" onclick=\"convertToInteractive('df-fc2898b0-ba35-40b8-9fa3-14670a6d3a3e')\"\n",
              "              title=\"Convert this dataframe to an interactive table.\"\n",
              "              style=\"display:none;\">\n",
              "        \n",
              "  <svg xmlns=\"http://www.w3.org/2000/svg\" height=\"24px\"viewBox=\"0 0 24 24\"\n",
              "       width=\"24px\">\n",
              "    <path d=\"M0 0h24v24H0V0z\" fill=\"none\"/>\n",
              "    <path d=\"M18.56 5.44l.94 2.06.94-2.06 2.06-.94-2.06-.94-.94-2.06-.94 2.06-2.06.94zm-11 1L8.5 8.5l.94-2.06 2.06-.94-2.06-.94L8.5 2.5l-.94 2.06-2.06.94zm10 10l.94 2.06.94-2.06 2.06-.94-2.06-.94-.94-2.06-.94 2.06-2.06.94z\"/><path d=\"M17.41 7.96l-1.37-1.37c-.4-.4-.92-.59-1.43-.59-.52 0-1.04.2-1.43.59L10.3 9.45l-7.72 7.72c-.78.78-.78 2.05 0 2.83L4 21.41c.39.39.9.59 1.41.59.51 0 1.02-.2 1.41-.59l7.78-7.78 2.81-2.81c.8-.78.8-2.07 0-2.86zM5.41 20L4 18.59l7.72-7.72 1.47 1.35L5.41 20z\"/>\n",
              "  </svg>\n",
              "      </button>\n",
              "      \n",
              "  <style>\n",
              "    .colab-df-container {\n",
              "      display:flex;\n",
              "      flex-wrap:wrap;\n",
              "      gap: 12px;\n",
              "    }\n",
              "\n",
              "    .colab-df-convert {\n",
              "      background-color: #E8F0FE;\n",
              "      border: none;\n",
              "      border-radius: 50%;\n",
              "      cursor: pointer;\n",
              "      display: none;\n",
              "      fill: #1967D2;\n",
              "      height: 32px;\n",
              "      padding: 0 0 0 0;\n",
              "      width: 32px;\n",
              "    }\n",
              "\n",
              "    .colab-df-convert:hover {\n",
              "      background-color: #E2EBFA;\n",
              "      box-shadow: 0px 1px 2px rgba(60, 64, 67, 0.3), 0px 1px 3px 1px rgba(60, 64, 67, 0.15);\n",
              "      fill: #174EA6;\n",
              "    }\n",
              "\n",
              "    [theme=dark] .colab-df-convert {\n",
              "      background-color: #3B4455;\n",
              "      fill: #D2E3FC;\n",
              "    }\n",
              "\n",
              "    [theme=dark] .colab-df-convert:hover {\n",
              "      background-color: #434B5C;\n",
              "      box-shadow: 0px 1px 3px 1px rgba(0, 0, 0, 0.15);\n",
              "      filter: drop-shadow(0px 1px 2px rgba(0, 0, 0, 0.3));\n",
              "      fill: #FFFFFF;\n",
              "    }\n",
              "  </style>\n",
              "\n",
              "      <script>\n",
              "        const buttonEl =\n",
              "          document.querySelector('#df-fc2898b0-ba35-40b8-9fa3-14670a6d3a3e button.colab-df-convert');\n",
              "        buttonEl.style.display =\n",
              "          google.colab.kernel.accessAllowed ? 'block' : 'none';\n",
              "\n",
              "        async function convertToInteractive(key) {\n",
              "          const element = document.querySelector('#df-fc2898b0-ba35-40b8-9fa3-14670a6d3a3e');\n",
              "          const dataTable =\n",
              "            await google.colab.kernel.invokeFunction('convertToInteractive',\n",
              "                                                     [key], {});\n",
              "          if (!dataTable) return;\n",
              "\n",
              "          const docLinkHtml = 'Like what you see? Visit the ' +\n",
              "            '<a target=\"_blank\" href=https://colab.research.google.com/notebooks/data_table.ipynb>data table notebook</a>'\n",
              "            + ' to learn more about interactive tables.';\n",
              "          element.innerHTML = '';\n",
              "          dataTable['output_type'] = 'display_data';\n",
              "          await google.colab.output.renderOutput(dataTable, element);\n",
              "          const docLink = document.createElement('div');\n",
              "          docLink.innerHTML = docLinkHtml;\n",
              "          element.appendChild(docLink);\n",
              "        }\n",
              "      </script>\n",
              "    </div>\n",
              "  </div>\n",
              "  "
            ]
          },
          "metadata": {},
          "execution_count": 9
        }
      ]
    },
    {
      "cell_type": "code",
      "source": [
        "# removendo a última linha que contém valores em branco (NaN)\n",
        "\n",
        "df.drop([10532], axis=0, inplace=True)"
      ],
      "metadata": {
        "id": "rQ7MbY5xn0xi"
      },
      "execution_count": null,
      "outputs": []
    },
    {
      "cell_type": "code",
      "source": [
        "# Conferindo o resultado\n",
        "\n",
        "df.tail(2)"
      ],
      "metadata": {
        "colab": {
          "base_uri": "https://localhost:8080/",
          "height": 156
        },
        "id": "101Do3NyoFqu",
        "outputId": "d9b0c986-a39b-4a29-dd2c-6eba65370a7c"
      },
      "execution_count": null,
      "outputs": [
        {
          "output_type": "execute_result",
          "data": {
            "text/plain": [
              "                         Data  Qtd  ValorUnidade  TotalUnidade  \\\n",
              "10530 2018-12-30 22:41:59.290    1           2.5           2.5   \n",
              "10531 2018-12-30 22:47:23.911    1           6.5           6.5   \n",
              "\n",
              "                  Produto TipoProduto      Categoria  ValorProduto  \\\n",
              "10530  AGUA MINERAL 500ML     Produto  Refrigerantes           2.5   \n",
              "10531      COCA COLA 1 LT     Produto  Refrigerantes           6.5   \n",
              "\n",
              "                 HoraAbertPed             HoraFechPed    TipoPedido  \n",
              "10530 2018-12-30 22:34:25.351 2018-12-30 23:12:11.181  Mesa/Comanda  \n",
              "10531 2018-12-30 22:30:08.793 2018-12-30 23:01:08.671  Mesa/Comanda  "
            ],
            "text/html": [
              "\n",
              "  <div id=\"df-f103d0b9-47d0-40d1-8190-6a509c1c90cf\">\n",
              "    <div class=\"colab-df-container\">\n",
              "      <div>\n",
              "<style scoped>\n",
              "    .dataframe tbody tr th:only-of-type {\n",
              "        vertical-align: middle;\n",
              "    }\n",
              "\n",
              "    .dataframe tbody tr th {\n",
              "        vertical-align: top;\n",
              "    }\n",
              "\n",
              "    .dataframe thead th {\n",
              "        text-align: right;\n",
              "    }\n",
              "</style>\n",
              "<table border=\"1\" class=\"dataframe\">\n",
              "  <thead>\n",
              "    <tr style=\"text-align: right;\">\n",
              "      <th></th>\n",
              "      <th>Data</th>\n",
              "      <th>Qtd</th>\n",
              "      <th>ValorUnidade</th>\n",
              "      <th>TotalUnidade</th>\n",
              "      <th>Produto</th>\n",
              "      <th>TipoProduto</th>\n",
              "      <th>Categoria</th>\n",
              "      <th>ValorProduto</th>\n",
              "      <th>HoraAbertPed</th>\n",
              "      <th>HoraFechPed</th>\n",
              "      <th>TipoPedido</th>\n",
              "    </tr>\n",
              "  </thead>\n",
              "  <tbody>\n",
              "    <tr>\n",
              "      <th>10530</th>\n",
              "      <td>2018-12-30 22:41:59.290</td>\n",
              "      <td>1</td>\n",
              "      <td>2.5</td>\n",
              "      <td>2.5</td>\n",
              "      <td>AGUA MINERAL 500ML</td>\n",
              "      <td>Produto</td>\n",
              "      <td>Refrigerantes</td>\n",
              "      <td>2.5</td>\n",
              "      <td>2018-12-30 22:34:25.351</td>\n",
              "      <td>2018-12-30 23:12:11.181</td>\n",
              "      <td>Mesa/Comanda</td>\n",
              "    </tr>\n",
              "    <tr>\n",
              "      <th>10531</th>\n",
              "      <td>2018-12-30 22:47:23.911</td>\n",
              "      <td>1</td>\n",
              "      <td>6.5</td>\n",
              "      <td>6.5</td>\n",
              "      <td>COCA COLA 1 LT</td>\n",
              "      <td>Produto</td>\n",
              "      <td>Refrigerantes</td>\n",
              "      <td>6.5</td>\n",
              "      <td>2018-12-30 22:30:08.793</td>\n",
              "      <td>2018-12-30 23:01:08.671</td>\n",
              "      <td>Mesa/Comanda</td>\n",
              "    </tr>\n",
              "  </tbody>\n",
              "</table>\n",
              "</div>\n",
              "      <button class=\"colab-df-convert\" onclick=\"convertToInteractive('df-f103d0b9-47d0-40d1-8190-6a509c1c90cf')\"\n",
              "              title=\"Convert this dataframe to an interactive table.\"\n",
              "              style=\"display:none;\">\n",
              "        \n",
              "  <svg xmlns=\"http://www.w3.org/2000/svg\" height=\"24px\"viewBox=\"0 0 24 24\"\n",
              "       width=\"24px\">\n",
              "    <path d=\"M0 0h24v24H0V0z\" fill=\"none\"/>\n",
              "    <path d=\"M18.56 5.44l.94 2.06.94-2.06 2.06-.94-2.06-.94-.94-2.06-.94 2.06-2.06.94zm-11 1L8.5 8.5l.94-2.06 2.06-.94-2.06-.94L8.5 2.5l-.94 2.06-2.06.94zm10 10l.94 2.06.94-2.06 2.06-.94-2.06-.94-.94-2.06-.94 2.06-2.06.94z\"/><path d=\"M17.41 7.96l-1.37-1.37c-.4-.4-.92-.59-1.43-.59-.52 0-1.04.2-1.43.59L10.3 9.45l-7.72 7.72c-.78.78-.78 2.05 0 2.83L4 21.41c.39.39.9.59 1.41.59.51 0 1.02-.2 1.41-.59l7.78-7.78 2.81-2.81c.8-.78.8-2.07 0-2.86zM5.41 20L4 18.59l7.72-7.72 1.47 1.35L5.41 20z\"/>\n",
              "  </svg>\n",
              "      </button>\n",
              "      \n",
              "  <style>\n",
              "    .colab-df-container {\n",
              "      display:flex;\n",
              "      flex-wrap:wrap;\n",
              "      gap: 12px;\n",
              "    }\n",
              "\n",
              "    .colab-df-convert {\n",
              "      background-color: #E8F0FE;\n",
              "      border: none;\n",
              "      border-radius: 50%;\n",
              "      cursor: pointer;\n",
              "      display: none;\n",
              "      fill: #1967D2;\n",
              "      height: 32px;\n",
              "      padding: 0 0 0 0;\n",
              "      width: 32px;\n",
              "    }\n",
              "\n",
              "    .colab-df-convert:hover {\n",
              "      background-color: #E2EBFA;\n",
              "      box-shadow: 0px 1px 2px rgba(60, 64, 67, 0.3), 0px 1px 3px 1px rgba(60, 64, 67, 0.15);\n",
              "      fill: #174EA6;\n",
              "    }\n",
              "\n",
              "    [theme=dark] .colab-df-convert {\n",
              "      background-color: #3B4455;\n",
              "      fill: #D2E3FC;\n",
              "    }\n",
              "\n",
              "    [theme=dark] .colab-df-convert:hover {\n",
              "      background-color: #434B5C;\n",
              "      box-shadow: 0px 1px 3px 1px rgba(0, 0, 0, 0.15);\n",
              "      filter: drop-shadow(0px 1px 2px rgba(0, 0, 0, 0.3));\n",
              "      fill: #FFFFFF;\n",
              "    }\n",
              "  </style>\n",
              "\n",
              "      <script>\n",
              "        const buttonEl =\n",
              "          document.querySelector('#df-f103d0b9-47d0-40d1-8190-6a509c1c90cf button.colab-df-convert');\n",
              "        buttonEl.style.display =\n",
              "          google.colab.kernel.accessAllowed ? 'block' : 'none';\n",
              "\n",
              "        async function convertToInteractive(key) {\n",
              "          const element = document.querySelector('#df-f103d0b9-47d0-40d1-8190-6a509c1c90cf');\n",
              "          const dataTable =\n",
              "            await google.colab.kernel.invokeFunction('convertToInteractive',\n",
              "                                                     [key], {});\n",
              "          if (!dataTable) return;\n",
              "\n",
              "          const docLinkHtml = 'Like what you see? Visit the ' +\n",
              "            '<a target=\"_blank\" href=https://colab.research.google.com/notebooks/data_table.ipynb>data table notebook</a>'\n",
              "            + ' to learn more about interactive tables.';\n",
              "          element.innerHTML = '';\n",
              "          dataTable['output_type'] = 'display_data';\n",
              "          await google.colab.output.renderOutput(dataTable, element);\n",
              "          const docLink = document.createElement('div');\n",
              "          docLink.innerHTML = docLinkHtml;\n",
              "          element.appendChild(docLink);\n",
              "        }\n",
              "      </script>\n",
              "    </div>\n",
              "  </div>\n",
              "  "
            ]
          },
          "metadata": {},
          "execution_count": 20
        }
      ]
    },
    {
      "cell_type": "code",
      "source": [
        "# consultando novament os valores missing\n",
        "df.isnull().sum()"
      ],
      "metadata": {
        "colab": {
          "base_uri": "https://localhost:8080/"
        },
        "id": "4oKFvp2loKVi",
        "outputId": "4653d004-c822-4901-93bf-d6981dfb7bce"
      },
      "execution_count": null,
      "outputs": [
        {
          "output_type": "execute_result",
          "data": {
            "text/plain": [
              "Data/Hora Item      0\n",
              "Qtd.                0\n",
              "Valor Un. Item      0\n",
              "Valor. Tot. Item    0\n",
              "Tipo de Item        0\n",
              "Nome Prod.          0\n",
              "Tipo Prod.          0\n",
              "Cat. Prod.          0\n",
              "Valor Prod.         0\n",
              "Data Ab. Ped.       0\n",
              "Data Fec. Ped.      0\n",
              "Tipo Ped.           0\n",
              "Stat. Ped.          0\n",
              "dtype: int64"
            ]
          },
          "metadata": {},
          "execution_count": 11
        }
      ]
    },
    {
      "cell_type": "code",
      "source": [
        "# Colunas do nosso dataset\n",
        "\n",
        "df.columns"
      ],
      "metadata": {
        "colab": {
          "base_uri": "https://localhost:8080/"
        },
        "id": "PmPg-up7oWis",
        "outputId": "2c6eb062-3f8f-427f-bace-e88b458fc582"
      },
      "execution_count": null,
      "outputs": [
        {
          "output_type": "execute_result",
          "data": {
            "text/plain": [
              "Index(['Data/Hora Item', 'Qtd.', 'Valor Un. Item', 'Valor. Tot. Item',\n",
              "       'Tipo de Item', 'Nome Prod.', 'Tipo Prod.', 'Cat. Prod.', 'Valor Prod.',\n",
              "       'Data Ab. Ped.', 'Data Fec. Ped.', 'Tipo Ped.', 'Stat. Ped.'],\n",
              "      dtype='object')"
            ]
          },
          "metadata": {},
          "execution_count": 12
        }
      ]
    },
    {
      "cell_type": "code",
      "metadata": {
        "id": "KE7qAk1DTRmD"
      },
      "source": [
        "# criando um dicionário com novos nomes das colunas\n",
        "\n",
        "colunaNova = ['Data', 'Qtd', 'ValorUnidade', 'TotalUnidade',\n",
        "       'TipoItem', 'Produto', 'TipoProduto', 'Categoria', 'ValorProduto',\n",
        "       'HoraAbertPed', 'HoraFechPed', 'TipoPedido', 'StatuSPedido']\n",
        "\n",
        "# Aplicando ao dataset\n",
        "df.columns = colunaNova"
      ],
      "execution_count": null,
      "outputs": []
    },
    {
      "cell_type": "code",
      "metadata": {
        "id": "1gtn7X6yUIoU",
        "outputId": "3d42bb67-999f-4bbd-8802-f5468fd07c24",
        "colab": {
          "base_uri": "https://localhost:8080/",
          "height": 191
        }
      },
      "source": [
        "df.head(2)"
      ],
      "execution_count": null,
      "outputs": [
        {
          "output_type": "execute_result",
          "data": {
            "text/plain": [
              "                     Data  Qtd  ValorUnidade  TotalUnidade TipoItem  \\\n",
              "0 2018-03-05 19:03:29.296    1          17.0          17.0  Produto   \n",
              "1 2018-03-05 19:06:18.572    1          22.0          22.0  Produto   \n",
              "\n",
              "      Produto TipoProduto     Categoria  ValorProduto            HoraAbertPed  \\\n",
              "0  207 +BACON     Produto  Hambúrgueres          17.0 2018-03-05 19:02:22.138   \n",
              "1   207 PRIME     Produto  Hambúrgueres          22.0 2018-03-05 19:06:00.273   \n",
              "\n",
              "              HoraFechPed    TipoPedido      StatuSPedido  \n",
              "0 2018-03-05 19:58:54.006  Delivery      Finalizado Pago   \n",
              "1 2018-03-05 19:59:16.501  Delivery      Finalizado Pago   "
            ],
            "text/html": [
              "\n",
              "  <div id=\"df-c466187b-5c46-48bc-bb4e-09b362b5c479\">\n",
              "    <div class=\"colab-df-container\">\n",
              "      <div>\n",
              "<style scoped>\n",
              "    .dataframe tbody tr th:only-of-type {\n",
              "        vertical-align: middle;\n",
              "    }\n",
              "\n",
              "    .dataframe tbody tr th {\n",
              "        vertical-align: top;\n",
              "    }\n",
              "\n",
              "    .dataframe thead th {\n",
              "        text-align: right;\n",
              "    }\n",
              "</style>\n",
              "<table border=\"1\" class=\"dataframe\">\n",
              "  <thead>\n",
              "    <tr style=\"text-align: right;\">\n",
              "      <th></th>\n",
              "      <th>Data</th>\n",
              "      <th>Qtd</th>\n",
              "      <th>ValorUnidade</th>\n",
              "      <th>TotalUnidade</th>\n",
              "      <th>TipoItem</th>\n",
              "      <th>Produto</th>\n",
              "      <th>TipoProduto</th>\n",
              "      <th>Categoria</th>\n",
              "      <th>ValorProduto</th>\n",
              "      <th>HoraAbertPed</th>\n",
              "      <th>HoraFechPed</th>\n",
              "      <th>TipoPedido</th>\n",
              "      <th>StatuSPedido</th>\n",
              "    </tr>\n",
              "  </thead>\n",
              "  <tbody>\n",
              "    <tr>\n",
              "      <th>0</th>\n",
              "      <td>2018-03-05 19:03:29.296</td>\n",
              "      <td>1</td>\n",
              "      <td>17.0</td>\n",
              "      <td>17.0</td>\n",
              "      <td>Produto</td>\n",
              "      <td>207 +BACON</td>\n",
              "      <td>Produto</td>\n",
              "      <td>Hambúrgueres</td>\n",
              "      <td>17.0</td>\n",
              "      <td>2018-03-05 19:02:22.138</td>\n",
              "      <td>2018-03-05 19:58:54.006</td>\n",
              "      <td>Delivery</td>\n",
              "      <td>Finalizado Pago</td>\n",
              "    </tr>\n",
              "    <tr>\n",
              "      <th>1</th>\n",
              "      <td>2018-03-05 19:06:18.572</td>\n",
              "      <td>1</td>\n",
              "      <td>22.0</td>\n",
              "      <td>22.0</td>\n",
              "      <td>Produto</td>\n",
              "      <td>207 PRIME</td>\n",
              "      <td>Produto</td>\n",
              "      <td>Hambúrgueres</td>\n",
              "      <td>22.0</td>\n",
              "      <td>2018-03-05 19:06:00.273</td>\n",
              "      <td>2018-03-05 19:59:16.501</td>\n",
              "      <td>Delivery</td>\n",
              "      <td>Finalizado Pago</td>\n",
              "    </tr>\n",
              "  </tbody>\n",
              "</table>\n",
              "</div>\n",
              "      <button class=\"colab-df-convert\" onclick=\"convertToInteractive('df-c466187b-5c46-48bc-bb4e-09b362b5c479')\"\n",
              "              title=\"Convert this dataframe to an interactive table.\"\n",
              "              style=\"display:none;\">\n",
              "        \n",
              "  <svg xmlns=\"http://www.w3.org/2000/svg\" height=\"24px\"viewBox=\"0 0 24 24\"\n",
              "       width=\"24px\">\n",
              "    <path d=\"M0 0h24v24H0V0z\" fill=\"none\"/>\n",
              "    <path d=\"M18.56 5.44l.94 2.06.94-2.06 2.06-.94-2.06-.94-.94-2.06-.94 2.06-2.06.94zm-11 1L8.5 8.5l.94-2.06 2.06-.94-2.06-.94L8.5 2.5l-.94 2.06-2.06.94zm10 10l.94 2.06.94-2.06 2.06-.94-2.06-.94-.94-2.06-.94 2.06-2.06.94z\"/><path d=\"M17.41 7.96l-1.37-1.37c-.4-.4-.92-.59-1.43-.59-.52 0-1.04.2-1.43.59L10.3 9.45l-7.72 7.72c-.78.78-.78 2.05 0 2.83L4 21.41c.39.39.9.59 1.41.59.51 0 1.02-.2 1.41-.59l7.78-7.78 2.81-2.81c.8-.78.8-2.07 0-2.86zM5.41 20L4 18.59l7.72-7.72 1.47 1.35L5.41 20z\"/>\n",
              "  </svg>\n",
              "      </button>\n",
              "      \n",
              "  <style>\n",
              "    .colab-df-container {\n",
              "      display:flex;\n",
              "      flex-wrap:wrap;\n",
              "      gap: 12px;\n",
              "    }\n",
              "\n",
              "    .colab-df-convert {\n",
              "      background-color: #E8F0FE;\n",
              "      border: none;\n",
              "      border-radius: 50%;\n",
              "      cursor: pointer;\n",
              "      display: none;\n",
              "      fill: #1967D2;\n",
              "      height: 32px;\n",
              "      padding: 0 0 0 0;\n",
              "      width: 32px;\n",
              "    }\n",
              "\n",
              "    .colab-df-convert:hover {\n",
              "      background-color: #E2EBFA;\n",
              "      box-shadow: 0px 1px 2px rgba(60, 64, 67, 0.3), 0px 1px 3px 1px rgba(60, 64, 67, 0.15);\n",
              "      fill: #174EA6;\n",
              "    }\n",
              "\n",
              "    [theme=dark] .colab-df-convert {\n",
              "      background-color: #3B4455;\n",
              "      fill: #D2E3FC;\n",
              "    }\n",
              "\n",
              "    [theme=dark] .colab-df-convert:hover {\n",
              "      background-color: #434B5C;\n",
              "      box-shadow: 0px 1px 3px 1px rgba(0, 0, 0, 0.15);\n",
              "      filter: drop-shadow(0px 1px 2px rgba(0, 0, 0, 0.3));\n",
              "      fill: #FFFFFF;\n",
              "    }\n",
              "  </style>\n",
              "\n",
              "      <script>\n",
              "        const buttonEl =\n",
              "          document.querySelector('#df-c466187b-5c46-48bc-bb4e-09b362b5c479 button.colab-df-convert');\n",
              "        buttonEl.style.display =\n",
              "          google.colab.kernel.accessAllowed ? 'block' : 'none';\n",
              "\n",
              "        async function convertToInteractive(key) {\n",
              "          const element = document.querySelector('#df-c466187b-5c46-48bc-bb4e-09b362b5c479');\n",
              "          const dataTable =\n",
              "            await google.colab.kernel.invokeFunction('convertToInteractive',\n",
              "                                                     [key], {});\n",
              "          if (!dataTable) return;\n",
              "\n",
              "          const docLinkHtml = 'Like what you see? Visit the ' +\n",
              "            '<a target=\"_blank\" href=https://colab.research.google.com/notebooks/data_table.ipynb>data table notebook</a>'\n",
              "            + ' to learn more about interactive tables.';\n",
              "          element.innerHTML = '';\n",
              "          dataTable['output_type'] = 'display_data';\n",
              "          await google.colab.output.renderOutput(dataTable, element);\n",
              "          const docLink = document.createElement('div');\n",
              "          docLink.innerHTML = docLinkHtml;\n",
              "          element.appendChild(docLink);\n",
              "        }\n",
              "      </script>\n",
              "    </div>\n",
              "  </div>\n",
              "  "
            ]
          },
          "metadata": {},
          "execution_count": 17
        }
      ]
    },
    {
      "cell_type": "code",
      "metadata": {
        "id": "x5nJqRFdUMez"
      },
      "source": [
        "# removendo colunas que não serão usadas no projeto\n",
        "df.drop([\"TipoItem\"], axis=1, inplace=True)\n",
        "df.drop([\"StatuSPedido\"], axis=1, inplace=True)"
      ],
      "execution_count": null,
      "outputs": []
    },
    {
      "cell_type": "code",
      "source": [
        "# Novo Dataset\n",
        "df.head()"
      ],
      "metadata": {
        "id": "fD_t3xKwwC5I",
        "outputId": "72b2e590-e425-455a-d9a0-70770ac9f228",
        "colab": {
          "base_uri": "https://localhost:8080/",
          "height": 206
        }
      },
      "execution_count": null,
      "outputs": [
        {
          "output_type": "execute_result",
          "data": {
            "text/plain": [
              "                     Data  Qtd  ValorUnidade  TotalUnidade           Produto  \\\n",
              "0 2018-03-05 19:03:29.296    1          17.0          17.0        207 +BACON   \n",
              "1 2018-03-05 19:06:18.572    1          22.0          22.0         207 PRIME   \n",
              "2 2018-03-05 19:06:24.578    1           3.0           3.0    COCA COLA LATA   \n",
              "3 2018-03-05 19:10:04.523    1          15.0          15.0      207 CLÁSSICO   \n",
              "4 2018-03-05 19:10:04.523    1           1.5           1.5  QUEIJO ADICIONAL   \n",
              "\n",
              "   TipoProduto      Categoria  ValorProduto            HoraAbertPed  \\\n",
              "0      Produto   Hambúrgueres          17.0 2018-03-05 19:02:22.138   \n",
              "1      Produto   Hambúrgueres          22.0 2018-03-05 19:06:00.273   \n",
              "2      Produto  Refrigerantes           4.0 2018-03-05 19:06:00.273   \n",
              "3      Produto   Hambúrgueres          15.0 2018-03-05 19:09:11.997   \n",
              "4  Complemento    Complemento           1.5 2018-03-05 19:09:11.997   \n",
              "\n",
              "              HoraFechPed    TipoPedido  \n",
              "0 2018-03-05 19:58:54.006  Delivery      \n",
              "1 2018-03-05 19:59:16.501  Delivery      \n",
              "2 2018-03-05 19:59:16.501  Delivery      \n",
              "3 2018-03-05 19:58:35.722  Delivery      \n",
              "4 2018-03-05 19:58:35.722  Delivery      "
            ],
            "text/html": [
              "\n",
              "  <div id=\"df-0d91c0e3-7a77-4f09-9248-f4e0e2d32e06\">\n",
              "    <div class=\"colab-df-container\">\n",
              "      <div>\n",
              "<style scoped>\n",
              "    .dataframe tbody tr th:only-of-type {\n",
              "        vertical-align: middle;\n",
              "    }\n",
              "\n",
              "    .dataframe tbody tr th {\n",
              "        vertical-align: top;\n",
              "    }\n",
              "\n",
              "    .dataframe thead th {\n",
              "        text-align: right;\n",
              "    }\n",
              "</style>\n",
              "<table border=\"1\" class=\"dataframe\">\n",
              "  <thead>\n",
              "    <tr style=\"text-align: right;\">\n",
              "      <th></th>\n",
              "      <th>Data</th>\n",
              "      <th>Qtd</th>\n",
              "      <th>ValorUnidade</th>\n",
              "      <th>TotalUnidade</th>\n",
              "      <th>Produto</th>\n",
              "      <th>TipoProduto</th>\n",
              "      <th>Categoria</th>\n",
              "      <th>ValorProduto</th>\n",
              "      <th>HoraAbertPed</th>\n",
              "      <th>HoraFechPed</th>\n",
              "      <th>TipoPedido</th>\n",
              "    </tr>\n",
              "  </thead>\n",
              "  <tbody>\n",
              "    <tr>\n",
              "      <th>0</th>\n",
              "      <td>2018-03-05 19:03:29.296</td>\n",
              "      <td>1</td>\n",
              "      <td>17.0</td>\n",
              "      <td>17.0</td>\n",
              "      <td>207 +BACON</td>\n",
              "      <td>Produto</td>\n",
              "      <td>Hambúrgueres</td>\n",
              "      <td>17.0</td>\n",
              "      <td>2018-03-05 19:02:22.138</td>\n",
              "      <td>2018-03-05 19:58:54.006</td>\n",
              "      <td>Delivery</td>\n",
              "    </tr>\n",
              "    <tr>\n",
              "      <th>1</th>\n",
              "      <td>2018-03-05 19:06:18.572</td>\n",
              "      <td>1</td>\n",
              "      <td>22.0</td>\n",
              "      <td>22.0</td>\n",
              "      <td>207 PRIME</td>\n",
              "      <td>Produto</td>\n",
              "      <td>Hambúrgueres</td>\n",
              "      <td>22.0</td>\n",
              "      <td>2018-03-05 19:06:00.273</td>\n",
              "      <td>2018-03-05 19:59:16.501</td>\n",
              "      <td>Delivery</td>\n",
              "    </tr>\n",
              "    <tr>\n",
              "      <th>2</th>\n",
              "      <td>2018-03-05 19:06:24.578</td>\n",
              "      <td>1</td>\n",
              "      <td>3.0</td>\n",
              "      <td>3.0</td>\n",
              "      <td>COCA COLA LATA</td>\n",
              "      <td>Produto</td>\n",
              "      <td>Refrigerantes</td>\n",
              "      <td>4.0</td>\n",
              "      <td>2018-03-05 19:06:00.273</td>\n",
              "      <td>2018-03-05 19:59:16.501</td>\n",
              "      <td>Delivery</td>\n",
              "    </tr>\n",
              "    <tr>\n",
              "      <th>3</th>\n",
              "      <td>2018-03-05 19:10:04.523</td>\n",
              "      <td>1</td>\n",
              "      <td>15.0</td>\n",
              "      <td>15.0</td>\n",
              "      <td>207 CLÁSSICO</td>\n",
              "      <td>Produto</td>\n",
              "      <td>Hambúrgueres</td>\n",
              "      <td>15.0</td>\n",
              "      <td>2018-03-05 19:09:11.997</td>\n",
              "      <td>2018-03-05 19:58:35.722</td>\n",
              "      <td>Delivery</td>\n",
              "    </tr>\n",
              "    <tr>\n",
              "      <th>4</th>\n",
              "      <td>2018-03-05 19:10:04.523</td>\n",
              "      <td>1</td>\n",
              "      <td>1.5</td>\n",
              "      <td>1.5</td>\n",
              "      <td>QUEIJO ADICIONAL</td>\n",
              "      <td>Complemento</td>\n",
              "      <td>Complemento</td>\n",
              "      <td>1.5</td>\n",
              "      <td>2018-03-05 19:09:11.997</td>\n",
              "      <td>2018-03-05 19:58:35.722</td>\n",
              "      <td>Delivery</td>\n",
              "    </tr>\n",
              "  </tbody>\n",
              "</table>\n",
              "</div>\n",
              "      <button class=\"colab-df-convert\" onclick=\"convertToInteractive('df-0d91c0e3-7a77-4f09-9248-f4e0e2d32e06')\"\n",
              "              title=\"Convert this dataframe to an interactive table.\"\n",
              "              style=\"display:none;\">\n",
              "        \n",
              "  <svg xmlns=\"http://www.w3.org/2000/svg\" height=\"24px\"viewBox=\"0 0 24 24\"\n",
              "       width=\"24px\">\n",
              "    <path d=\"M0 0h24v24H0V0z\" fill=\"none\"/>\n",
              "    <path d=\"M18.56 5.44l.94 2.06.94-2.06 2.06-.94-2.06-.94-.94-2.06-.94 2.06-2.06.94zm-11 1L8.5 8.5l.94-2.06 2.06-.94-2.06-.94L8.5 2.5l-.94 2.06-2.06.94zm10 10l.94 2.06.94-2.06 2.06-.94-2.06-.94-.94-2.06-.94 2.06-2.06.94z\"/><path d=\"M17.41 7.96l-1.37-1.37c-.4-.4-.92-.59-1.43-.59-.52 0-1.04.2-1.43.59L10.3 9.45l-7.72 7.72c-.78.78-.78 2.05 0 2.83L4 21.41c.39.39.9.59 1.41.59.51 0 1.02-.2 1.41-.59l7.78-7.78 2.81-2.81c.8-.78.8-2.07 0-2.86zM5.41 20L4 18.59l7.72-7.72 1.47 1.35L5.41 20z\"/>\n",
              "  </svg>\n",
              "      </button>\n",
              "      \n",
              "  <style>\n",
              "    .colab-df-container {\n",
              "      display:flex;\n",
              "      flex-wrap:wrap;\n",
              "      gap: 12px;\n",
              "    }\n",
              "\n",
              "    .colab-df-convert {\n",
              "      background-color: #E8F0FE;\n",
              "      border: none;\n",
              "      border-radius: 50%;\n",
              "      cursor: pointer;\n",
              "      display: none;\n",
              "      fill: #1967D2;\n",
              "      height: 32px;\n",
              "      padding: 0 0 0 0;\n",
              "      width: 32px;\n",
              "    }\n",
              "\n",
              "    .colab-df-convert:hover {\n",
              "      background-color: #E2EBFA;\n",
              "      box-shadow: 0px 1px 2px rgba(60, 64, 67, 0.3), 0px 1px 3px 1px rgba(60, 64, 67, 0.15);\n",
              "      fill: #174EA6;\n",
              "    }\n",
              "\n",
              "    [theme=dark] .colab-df-convert {\n",
              "      background-color: #3B4455;\n",
              "      fill: #D2E3FC;\n",
              "    }\n",
              "\n",
              "    [theme=dark] .colab-df-convert:hover {\n",
              "      background-color: #434B5C;\n",
              "      box-shadow: 0px 1px 3px 1px rgba(0, 0, 0, 0.15);\n",
              "      filter: drop-shadow(0px 1px 2px rgba(0, 0, 0, 0.3));\n",
              "      fill: #FFFFFF;\n",
              "    }\n",
              "  </style>\n",
              "\n",
              "      <script>\n",
              "        const buttonEl =\n",
              "          document.querySelector('#df-0d91c0e3-7a77-4f09-9248-f4e0e2d32e06 button.colab-df-convert');\n",
              "        buttonEl.style.display =\n",
              "          google.colab.kernel.accessAllowed ? 'block' : 'none';\n",
              "\n",
              "        async function convertToInteractive(key) {\n",
              "          const element = document.querySelector('#df-0d91c0e3-7a77-4f09-9248-f4e0e2d32e06');\n",
              "          const dataTable =\n",
              "            await google.colab.kernel.invokeFunction('convertToInteractive',\n",
              "                                                     [key], {});\n",
              "          if (!dataTable) return;\n",
              "\n",
              "          const docLinkHtml = 'Like what you see? Visit the ' +\n",
              "            '<a target=\"_blank\" href=https://colab.research.google.com/notebooks/data_table.ipynb>data table notebook</a>'\n",
              "            + ' to learn more about interactive tables.';\n",
              "          element.innerHTML = '';\n",
              "          dataTable['output_type'] = 'display_data';\n",
              "          await google.colab.output.renderOutput(dataTable, element);\n",
              "          const docLink = document.createElement('div');\n",
              "          docLink.innerHTML = docLinkHtml;\n",
              "          element.appendChild(docLink);\n",
              "        }\n",
              "      </script>\n",
              "    </div>\n",
              "  </div>\n",
              "  "
            ]
          },
          "metadata": {},
          "execution_count": 19
        }
      ]
    },
    {
      "cell_type": "markdown",
      "metadata": {
        "id": "dU63LvIROES_"
      },
      "source": [
        "**Verificar os valores nulos novamente do nosso conjunto de dados.**\n",
        "\n",
        "---\n",
        "\n",
        "\n",
        "\n",
        "---\n",
        "\n"
      ]
    },
    {
      "cell_type": "markdown",
      "metadata": {
        "id": "N01Q4R7YOUPy"
      },
      "source": [
        "## Feature engineering\n",
        "\n",
        "---\n",
        "\n",
        "\n",
        "\n",
        "---\n",
        "\n",
        "\n",
        "\n",
        "---\n",
        "\n"
      ]
    },
    {
      "cell_type": "code",
      "metadata": {
        "id": "GLH_ToyAWotd"
      },
      "source": [
        "# convertendo a coluna Data para o formato Datetime\n",
        "\n",
        "df[\"Data\"] = pd.to_datetime(df[\"Data\"])"
      ],
      "execution_count": null,
      "outputs": []
    },
    {
      "cell_type": "code",
      "source": [
        "# Resultado\n",
        "\n",
        "df['Data']"
      ],
      "metadata": {
        "id": "mMAj68eJdety",
        "outputId": "521a48ef-5863-4d2d-8645-c44e0f4f37af",
        "colab": {
          "base_uri": "https://localhost:8080/"
        }
      },
      "execution_count": null,
      "outputs": [
        {
          "output_type": "execute_result",
          "data": {
            "text/plain": [
              "0       2018-03-05 19:03:29.296\n",
              "1       2018-03-05 19:06:18.572\n",
              "2       2018-03-05 19:06:24.578\n",
              "3       2018-03-05 19:10:04.523\n",
              "4       2018-03-05 19:10:04.523\n",
              "                  ...          \n",
              "10527   2018-12-30 22:37:38.913\n",
              "10528   2018-12-30 22:37:39.490\n",
              "10529   2018-12-30 22:41:57.277\n",
              "10530   2018-12-30 22:41:59.290\n",
              "10531   2018-12-30 22:47:23.911\n",
              "Name: Data, Length: 10532, dtype: datetime64[ns]"
            ]
          },
          "metadata": {},
          "execution_count": 21
        }
      ]
    },
    {
      "cell_type": "code",
      "metadata": {
        "id": "5Gv1kuKSn0uC"
      },
      "source": [
        "# Vamos extrair através da função lambda novas variáveis como as horasm minutos e segundos\n",
        "# e assim criado novas colunas para nosso dataset\n",
        "\n",
        "df[\"HoraAbertura\"] = df[\"HoraAbertPed\"].apply(lambda x:dt.time(x.hour, x.minute, x.second))\n",
        "df[\"HoraFechamento\"] = df[\"HoraFechPed\"].apply(lambda x:dt.time(x.hour, x.minute, x.second))"
      ],
      "execution_count": null,
      "outputs": []
    },
    {
      "cell_type": "code",
      "metadata": {
        "id": "Y2vbF2pea_SH"
      },
      "source": [
        "# Extraindo e criando colunas de Dias da Semana, Mês e Hora.\n",
        "\n",
        "df[\"DiaSemana\"] = df[\"Data\"].apply(lambda x: x.dayofweek)\n",
        "df[\"Mes\"] = df[\"Data\"].apply(lambda x: x.month)\n",
        "df[\"Hora\"] = df[\"Data\"].apply(lambda x: dt.time(x.hour))"
      ],
      "execution_count": null,
      "outputs": []
    },
    {
      "cell_type": "code",
      "metadata": {
        "id": "Fp6xfw-xaIlK"
      },
      "source": [
        "# Criando um dicionário com os nomes dos dias da semana\n",
        "\n",
        "dias = {0:\"Seg\",1:\"Ter\",2:\"Qua\",3:\"Qui\",4:\"Sex\",5:\"Sab\",6:\"Dom\"}\n",
        "\n",
        "#Criando um dicionário com as inicais dos meses do ano.\n",
        "meses = {1:\"Jan\",2:\"Fev\",3:\"Mar\",4:\"Abr\",5:\"Mai\",6:\"Jun\",7:\"Jul\",8:'Ago',9:\"Set\",10:\"Out\",11:\"Nov\",12:\"Dez\"}\n",
        "\n",
        "# Atribuindo os nomes para a coluna DiaSemana\n",
        "\n",
        "df[\"DiaSemana\"] = df[\"DiaSemana\"].map(dias)\n",
        "\n",
        "# Atribuindo os nomes para os meses.\n",
        "\n",
        "df[\"Mes\"] = df[\"Mes\"].map(meses)"
      ],
      "execution_count": null,
      "outputs": []
    },
    {
      "cell_type": "code",
      "metadata": {
        "id": "-ucRnd2mo7cH",
        "outputId": "f11deda4-228f-45ef-e67c-f08e473776fc",
        "colab": {
          "base_uri": "https://localhost:8080/",
          "height": 374
        }
      },
      "source": [
        "# Nosso dataset com as novas variaveis\n",
        "df.head()"
      ],
      "execution_count": null,
      "outputs": [
        {
          "output_type": "execute_result",
          "data": {
            "text/plain": [
              "                     Data  Qtd  ValorUnidade  TotalUnidade           Produto  \\\n",
              "0 2018-03-05 19:03:29.296    1          17.0          17.0        207 +BACON   \n",
              "1 2018-03-05 19:06:18.572    1          22.0          22.0         207 PRIME   \n",
              "2 2018-03-05 19:06:24.578    1           3.0           3.0    COCA COLA LATA   \n",
              "3 2018-03-05 19:10:04.523    1          15.0          15.0      207 CLÁSSICO   \n",
              "4 2018-03-05 19:10:04.523    1           1.5           1.5  QUEIJO ADICIONAL   \n",
              "\n",
              "   TipoProduto      Categoria  ValorProduto            HoraAbertPed  \\\n",
              "0      Produto   Hambúrgueres          17.0 2018-03-05 19:02:22.138   \n",
              "1      Produto   Hambúrgueres          22.0 2018-03-05 19:06:00.273   \n",
              "2      Produto  Refrigerantes           4.0 2018-03-05 19:06:00.273   \n",
              "3      Produto   Hambúrgueres          15.0 2018-03-05 19:09:11.997   \n",
              "4  Complemento    Complemento           1.5 2018-03-05 19:09:11.997   \n",
              "\n",
              "              HoraFechPed    TipoPedido HoraAbertura HoraFechamento DiaSemana  \\\n",
              "0 2018-03-05 19:58:54.006  Delivery         19:02:22       19:58:54       Seg   \n",
              "1 2018-03-05 19:59:16.501  Delivery         19:06:00       19:59:16       Seg   \n",
              "2 2018-03-05 19:59:16.501  Delivery         19:06:00       19:59:16       Seg   \n",
              "3 2018-03-05 19:58:35.722  Delivery         19:09:11       19:58:35       Seg   \n",
              "4 2018-03-05 19:58:35.722  Delivery         19:09:11       19:58:35       Seg   \n",
              "\n",
              "   Mes      Hora  \n",
              "0  Mar  19:00:00  \n",
              "1  Mar  19:00:00  \n",
              "2  Mar  19:00:00  \n",
              "3  Mar  19:00:00  \n",
              "4  Mar  19:00:00  "
            ],
            "text/html": [
              "\n",
              "  <div id=\"df-6a8cb7ff-62e5-4613-b8eb-15e3cccf7411\">\n",
              "    <div class=\"colab-df-container\">\n",
              "      <div>\n",
              "<style scoped>\n",
              "    .dataframe tbody tr th:only-of-type {\n",
              "        vertical-align: middle;\n",
              "    }\n",
              "\n",
              "    .dataframe tbody tr th {\n",
              "        vertical-align: top;\n",
              "    }\n",
              "\n",
              "    .dataframe thead th {\n",
              "        text-align: right;\n",
              "    }\n",
              "</style>\n",
              "<table border=\"1\" class=\"dataframe\">\n",
              "  <thead>\n",
              "    <tr style=\"text-align: right;\">\n",
              "      <th></th>\n",
              "      <th>Data</th>\n",
              "      <th>Qtd</th>\n",
              "      <th>ValorUnidade</th>\n",
              "      <th>TotalUnidade</th>\n",
              "      <th>Produto</th>\n",
              "      <th>TipoProduto</th>\n",
              "      <th>Categoria</th>\n",
              "      <th>ValorProduto</th>\n",
              "      <th>HoraAbertPed</th>\n",
              "      <th>HoraFechPed</th>\n",
              "      <th>TipoPedido</th>\n",
              "      <th>HoraAbertura</th>\n",
              "      <th>HoraFechamento</th>\n",
              "      <th>DiaSemana</th>\n",
              "      <th>Mes</th>\n",
              "      <th>Hora</th>\n",
              "    </tr>\n",
              "  </thead>\n",
              "  <tbody>\n",
              "    <tr>\n",
              "      <th>0</th>\n",
              "      <td>2018-03-05 19:03:29.296</td>\n",
              "      <td>1</td>\n",
              "      <td>17.0</td>\n",
              "      <td>17.0</td>\n",
              "      <td>207 +BACON</td>\n",
              "      <td>Produto</td>\n",
              "      <td>Hambúrgueres</td>\n",
              "      <td>17.0</td>\n",
              "      <td>2018-03-05 19:02:22.138</td>\n",
              "      <td>2018-03-05 19:58:54.006</td>\n",
              "      <td>Delivery</td>\n",
              "      <td>19:02:22</td>\n",
              "      <td>19:58:54</td>\n",
              "      <td>Seg</td>\n",
              "      <td>Mar</td>\n",
              "      <td>19:00:00</td>\n",
              "    </tr>\n",
              "    <tr>\n",
              "      <th>1</th>\n",
              "      <td>2018-03-05 19:06:18.572</td>\n",
              "      <td>1</td>\n",
              "      <td>22.0</td>\n",
              "      <td>22.0</td>\n",
              "      <td>207 PRIME</td>\n",
              "      <td>Produto</td>\n",
              "      <td>Hambúrgueres</td>\n",
              "      <td>22.0</td>\n",
              "      <td>2018-03-05 19:06:00.273</td>\n",
              "      <td>2018-03-05 19:59:16.501</td>\n",
              "      <td>Delivery</td>\n",
              "      <td>19:06:00</td>\n",
              "      <td>19:59:16</td>\n",
              "      <td>Seg</td>\n",
              "      <td>Mar</td>\n",
              "      <td>19:00:00</td>\n",
              "    </tr>\n",
              "    <tr>\n",
              "      <th>2</th>\n",
              "      <td>2018-03-05 19:06:24.578</td>\n",
              "      <td>1</td>\n",
              "      <td>3.0</td>\n",
              "      <td>3.0</td>\n",
              "      <td>COCA COLA LATA</td>\n",
              "      <td>Produto</td>\n",
              "      <td>Refrigerantes</td>\n",
              "      <td>4.0</td>\n",
              "      <td>2018-03-05 19:06:00.273</td>\n",
              "      <td>2018-03-05 19:59:16.501</td>\n",
              "      <td>Delivery</td>\n",
              "      <td>19:06:00</td>\n",
              "      <td>19:59:16</td>\n",
              "      <td>Seg</td>\n",
              "      <td>Mar</td>\n",
              "      <td>19:00:00</td>\n",
              "    </tr>\n",
              "    <tr>\n",
              "      <th>3</th>\n",
              "      <td>2018-03-05 19:10:04.523</td>\n",
              "      <td>1</td>\n",
              "      <td>15.0</td>\n",
              "      <td>15.0</td>\n",
              "      <td>207 CLÁSSICO</td>\n",
              "      <td>Produto</td>\n",
              "      <td>Hambúrgueres</td>\n",
              "      <td>15.0</td>\n",
              "      <td>2018-03-05 19:09:11.997</td>\n",
              "      <td>2018-03-05 19:58:35.722</td>\n",
              "      <td>Delivery</td>\n",
              "      <td>19:09:11</td>\n",
              "      <td>19:58:35</td>\n",
              "      <td>Seg</td>\n",
              "      <td>Mar</td>\n",
              "      <td>19:00:00</td>\n",
              "    </tr>\n",
              "    <tr>\n",
              "      <th>4</th>\n",
              "      <td>2018-03-05 19:10:04.523</td>\n",
              "      <td>1</td>\n",
              "      <td>1.5</td>\n",
              "      <td>1.5</td>\n",
              "      <td>QUEIJO ADICIONAL</td>\n",
              "      <td>Complemento</td>\n",
              "      <td>Complemento</td>\n",
              "      <td>1.5</td>\n",
              "      <td>2018-03-05 19:09:11.997</td>\n",
              "      <td>2018-03-05 19:58:35.722</td>\n",
              "      <td>Delivery</td>\n",
              "      <td>19:09:11</td>\n",
              "      <td>19:58:35</td>\n",
              "      <td>Seg</td>\n",
              "      <td>Mar</td>\n",
              "      <td>19:00:00</td>\n",
              "    </tr>\n",
              "  </tbody>\n",
              "</table>\n",
              "</div>\n",
              "      <button class=\"colab-df-convert\" onclick=\"convertToInteractive('df-6a8cb7ff-62e5-4613-b8eb-15e3cccf7411')\"\n",
              "              title=\"Convert this dataframe to an interactive table.\"\n",
              "              style=\"display:none;\">\n",
              "        \n",
              "  <svg xmlns=\"http://www.w3.org/2000/svg\" height=\"24px\"viewBox=\"0 0 24 24\"\n",
              "       width=\"24px\">\n",
              "    <path d=\"M0 0h24v24H0V0z\" fill=\"none\"/>\n",
              "    <path d=\"M18.56 5.44l.94 2.06.94-2.06 2.06-.94-2.06-.94-.94-2.06-.94 2.06-2.06.94zm-11 1L8.5 8.5l.94-2.06 2.06-.94-2.06-.94L8.5 2.5l-.94 2.06-2.06.94zm10 10l.94 2.06.94-2.06 2.06-.94-2.06-.94-.94-2.06-.94 2.06-2.06.94z\"/><path d=\"M17.41 7.96l-1.37-1.37c-.4-.4-.92-.59-1.43-.59-.52 0-1.04.2-1.43.59L10.3 9.45l-7.72 7.72c-.78.78-.78 2.05 0 2.83L4 21.41c.39.39.9.59 1.41.59.51 0 1.02-.2 1.41-.59l7.78-7.78 2.81-2.81c.8-.78.8-2.07 0-2.86zM5.41 20L4 18.59l7.72-7.72 1.47 1.35L5.41 20z\"/>\n",
              "  </svg>\n",
              "      </button>\n",
              "      \n",
              "  <style>\n",
              "    .colab-df-container {\n",
              "      display:flex;\n",
              "      flex-wrap:wrap;\n",
              "      gap: 12px;\n",
              "    }\n",
              "\n",
              "    .colab-df-convert {\n",
              "      background-color: #E8F0FE;\n",
              "      border: none;\n",
              "      border-radius: 50%;\n",
              "      cursor: pointer;\n",
              "      display: none;\n",
              "      fill: #1967D2;\n",
              "      height: 32px;\n",
              "      padding: 0 0 0 0;\n",
              "      width: 32px;\n",
              "    }\n",
              "\n",
              "    .colab-df-convert:hover {\n",
              "      background-color: #E2EBFA;\n",
              "      box-shadow: 0px 1px 2px rgba(60, 64, 67, 0.3), 0px 1px 3px 1px rgba(60, 64, 67, 0.15);\n",
              "      fill: #174EA6;\n",
              "    }\n",
              "\n",
              "    [theme=dark] .colab-df-convert {\n",
              "      background-color: #3B4455;\n",
              "      fill: #D2E3FC;\n",
              "    }\n",
              "\n",
              "    [theme=dark] .colab-df-convert:hover {\n",
              "      background-color: #434B5C;\n",
              "      box-shadow: 0px 1px 3px 1px rgba(0, 0, 0, 0.15);\n",
              "      filter: drop-shadow(0px 1px 2px rgba(0, 0, 0, 0.3));\n",
              "      fill: #FFFFFF;\n",
              "    }\n",
              "  </style>\n",
              "\n",
              "      <script>\n",
              "        const buttonEl =\n",
              "          document.querySelector('#df-6a8cb7ff-62e5-4613-b8eb-15e3cccf7411 button.colab-df-convert');\n",
              "        buttonEl.style.display =\n",
              "          google.colab.kernel.accessAllowed ? 'block' : 'none';\n",
              "\n",
              "        async function convertToInteractive(key) {\n",
              "          const element = document.querySelector('#df-6a8cb7ff-62e5-4613-b8eb-15e3cccf7411');\n",
              "          const dataTable =\n",
              "            await google.colab.kernel.invokeFunction('convertToInteractive',\n",
              "                                                     [key], {});\n",
              "          if (!dataTable) return;\n",
              "\n",
              "          const docLinkHtml = 'Like what you see? Visit the ' +\n",
              "            '<a target=\"_blank\" href=https://colab.research.google.com/notebooks/data_table.ipynb>data table notebook</a>'\n",
              "            + ' to learn more about interactive tables.';\n",
              "          element.innerHTML = '';\n",
              "          dataTable['output_type'] = 'display_data';\n",
              "          await google.colab.output.renderOutput(dataTable, element);\n",
              "          const docLink = document.createElement('div');\n",
              "          docLink.innerHTML = docLinkHtml;\n",
              "          element.appendChild(docLink);\n",
              "        }\n",
              "      </script>\n",
              "    </div>\n",
              "  </div>\n",
              "  "
            ]
          },
          "metadata": {},
          "execution_count": 25
        }
      ]
    },
    {
      "cell_type": "markdown",
      "metadata": {
        "id": "qNhkWLxKREYm"
      },
      "source": [
        "# Plotando gráficos\n",
        "\n",
        "\n",
        "\n",
        "---\n",
        "\n",
        "\n",
        "\n",
        "---\n",
        "\n"
      ]
    },
    {
      "cell_type": "code",
      "metadata": {
        "id": "djX1BpiL_NCS",
        "outputId": "bd404257-b5e8-4d80-8a11-46bcf1730459",
        "colab": {
          "base_uri": "https://localhost:8080/",
          "height": 743
        }
      },
      "source": [
        "# Pairplot\n",
        "sns.pairplot(df)"
      ],
      "execution_count": null,
      "outputs": [
        {
          "output_type": "execute_result",
          "data": {
            "text/plain": [
              "<seaborn.axisgrid.PairGrid at 0x7fb5b0481990>"
            ]
          },
          "metadata": {},
          "execution_count": 26
        },
        {
          "output_type": "display_data",
          "data": {
            "text/plain": [
              "<Figure size 720x720 with 20 Axes>"
            ],
            "image/png": "[encoded data removed]"
          },
          "metadata": {
            "needs_background": "light"
          }
        }
      ]
    },
    {
      "cell_type": "markdown",
      "metadata": {
        "id": "OaApaHNmRS4S"
      },
      "source": [
        "## **Visulização dos dados.**"
      ]
    },
    {
      "cell_type": "code",
      "metadata": {
        "id": "dzqxAsI_hm2M",
        "outputId": "79d641f2-0707-4eb3-8c08-cc996db5ae8b",
        "colab": {
          "base_uri": "https://localhost:8080/",
          "height": 421
        }
      },
      "source": [
        "# Gráfico de barras com pedidos por horários\n",
        "\n",
        "plt.figure(figsize=(12,6))\n",
        "sns.countplot(x = \"Hora\", data=df, palette=None)\n",
        "plt.title(\"Pedidos por Horario\")"
      ],
      "execution_count": null,
      "outputs": [
        {
          "output_type": "execute_result",
          "data": {
            "text/plain": [
              "Text(0.5, 1.0, 'Pedidos por Horario')"
            ]
          },
          "metadata": {},
          "execution_count": 27
        },
        {
          "output_type": "display_data",
          "data": {
            "text/plain": [
              "<Figure size 864x432 with 1 Axes>"
            ],
            "image/png": "[encoded data removed]"
          },
          "metadata": {
            "needs_background": "light"
          }
        }
      ]
    },
    {
      "cell_type": "markdown",
      "metadata": {
        "id": "6LW0uMOjsZCv"
      },
      "source": [
        "Maior fluxo de pedidos entre 19:00 até as 21:00"
      ]
    },
    {
      "cell_type": "code",
      "metadata": {
        "id": "arZ1inABhyCD",
        "outputId": "017f7aca-2058-4108-812c-af00d6c42b50",
        "colab": {
          "base_uri": "https://localhost:8080/",
          "height": 421
        }
      },
      "source": [
        "plt.figure(figsize=(12,6))\n",
        "sns.countplot(x=\"Mes\", data=df, palette=None, order=None, hue_order='Mes')\n",
        "plt.title(\"Vendas por Mês\")\n",
        "plt.xlabel(\"Mês\")\n",
        "plt.ylabel(\"Quantidade\")"
      ],
      "execution_count": null,
      "outputs": [
        {
          "output_type": "execute_result",
          "data": {
            "text/plain": [
              "Text(0, 0.5, 'Quantidade')"
            ]
          },
          "metadata": {},
          "execution_count": 28
        },
        {
          "output_type": "display_data",
          "data": {
            "text/plain": [
              "<Figure size 864x432 with 1 Axes>"
            ],
            "image/png": "[encoded data removed]"
          },
          "metadata": {
            "needs_background": "light"
          }
        }
      ]
    },
    {
      "cell_type": "markdown",
      "metadata": {
        "id": "_bp7e87Ctd8k"
      },
      "source": [
        "O gráfico pmostra que a maior concentração de pedidos está no mês de Dezembro. Em Abril houve um volume diferente em relação aos demais e Novembro disparou.\n"
      ]
    },
    {
      "cell_type": "code",
      "metadata": {
        "id": "k1eJZHSfnLCr",
        "outputId": "78f1b174-cc72-416d-f4d1-1d6368f28b94",
        "colab": {
          "base_uri": "https://localhost:8080/",
          "height": 421
        }
      },
      "source": [
        "plt.figure(figsize=(12,6))\n",
        "sns.countplot(x= \"DiaSemana\", data=df, palette=None, hue_order=\"DiaSemana\")\n",
        "plt.title(\"Por dia de Semana\")\n",
        "plt.xlabel(\"Dia da Semana\")\n",
        "plt.ylabel(\"Quantidade\")"
      ],
      "execution_count": null,
      "outputs": [
        {
          "output_type": "execute_result",
          "data": {
            "text/plain": [
              "Text(0, 0.5, 'Quantidade')"
            ]
          },
          "metadata": {},
          "execution_count": 29
        },
        {
          "output_type": "display_data",
          "data": {
            "text/plain": [
              "<Figure size 864x432 with 1 Axes>"
            ],
            "image/png": "[encoded data removed]"
          },
          "metadata": {
            "needs_background": "light"
          }
        }
      ]
    },
    {
      "cell_type": "markdown",
      "metadata": {
        "id": "xmec7DDKDzr9"
      },
      "source": [
        "**Domingo é o dia da semana com maior fluxo de pedidos(vendas)\n",
        "\n",
        "---\n",
        "\n"
      ]
    },
    {
      "cell_type": "code",
      "metadata": {
        "id": "i8hVaDOuEXZh",
        "outputId": "b6a26126-7211-4648-8b78-04a39d0a3fdd",
        "colab": {
          "base_uri": "https://localhost:8080/"
        }
      },
      "source": [
        "df['TipoPedido'].value_counts() / 100\n"
      ],
      "execution_count": null,
      "outputs": [
        {
          "output_type": "execute_result",
          "data": {
            "text/plain": [
              "Delivery        81.77\n",
              "Mesa/Comanda    22.67\n",
              "Balcão           0.80\n",
              "Caixa            0.08\n",
              "Name: TipoPedido, dtype: float64"
            ]
          },
          "metadata": {},
          "execution_count": 30
        }
      ]
    },
    {
      "cell_type": "code",
      "metadata": {
        "id": "xZRLC3Eev-qt",
        "outputId": "c971ca22-0b03-4e73-a1cc-0dea3fed4f08",
        "colab": {
          "base_uri": "https://localhost:8080/",
          "height": 422
        }
      },
      "source": [
        "plt.figure(figsize=(12,6))\n",
        "sns.countplot(x=\"Categoria\", data=df, palette=None)\n",
        "plt.title(\"Por Categoria\")\n",
        "plt.xlabel(\"Categoria\")\n",
        "plt.ylabel(\"Quantidade\")"
      ],
      "execution_count": null,
      "outputs": [
        {
          "output_type": "execute_result",
          "data": {
            "text/plain": [
              "Text(0, 0.5, 'Quantidade')"
            ]
          },
          "metadata": {},
          "execution_count": 31
        },
        {
          "output_type": "display_data",
          "data": {
            "text/plain": [
              "<Figure size 864x432 with 1 Axes>"
            ],
            "image/png": "[encoded data removed]"
          },
          "metadata": {
            "needs_background": "light"
          }
        }
      ]
    },
    {
      "cell_type": "code",
      "metadata": {
        "id": "Mu8LUUJV9yNX",
        "outputId": "b04651dd-1bfc-43cf-f654-776961efb7fb",
        "colab": {
          "base_uri": "https://localhost:8080/",
          "height": 405
        }
      },
      "source": [
        "plt.figure(figsize=(12,6))\n",
        "df[df['Produto']=='207 +BACON'].groupby('DiaSemana').count()['Categoria'].plot()\n",
        "df[df['Produto']=='207 PRIME'].groupby('DiaSemana').count()['Categoria'].plot()\n",
        "df[df['Produto']=='207 MAXX'].groupby('DiaSemana').count()['Categoria'].plot()\n",
        "plt.legend([\"Bacon\", \"Prime\", \"Maxx\"], loc = 0, borderaxespad=1)"
      ],
      "execution_count": null,
      "outputs": [
        {
          "output_type": "execute_result",
          "data": {
            "text/plain": [
              "<matplotlib.legend.Legend at 0x7fb5a9707410>"
            ]
          },
          "metadata": {},
          "execution_count": 43
        },
        {
          "output_type": "display_data",
          "data": {
            "text/plain": [
              "<Figure size 864x432 with 1 Axes>"
            ],
            "image/png": "[encoded data removed]"
          },
          "metadata": {
            "needs_background": "light"
          }
        }
      ]
    },
    {
      "cell_type": "code",
      "source": [
        "df.dtypes"
      ],
      "metadata": {
        "colab": {
          "base_uri": "https://localhost:8080/"
        },
        "id": "K9ZV0H7MqwmP",
        "outputId": "00b8954b-04fb-4b5f-b274-8edced7eecc3"
      },
      "execution_count": null,
      "outputs": [
        {
          "output_type": "execute_result",
          "data": {
            "text/plain": [
              "Data              datetime64[ns]\n",
              "Qtd                        int64\n",
              "ValorUnidade             float64\n",
              "TotalUnidade             float64\n",
              "Produto                   object\n",
              "TipoProduto               object\n",
              "Categoria                 object\n",
              "ValorProduto             float64\n",
              "HoraAbertPed      datetime64[ns]\n",
              "HoraFechPed       datetime64[ns]\n",
              "TipoPedido                object\n",
              "HoraAbertura              object\n",
              "HoraFechamento            object\n",
              "DiaSemana                 object\n",
              "Mes                       object\n",
              "Hora                      object\n",
              "dtype: object"
            ]
          },
          "metadata": {},
          "execution_count": 56
        }
      ]
    },
    {
      "cell_type": "markdown",
      "metadata": {
        "id": "CafVTGVwDAOH"
      },
      "source": [
        "**Ranking dos Hamburgueres.** \n",
        "\n",
        "---\n",
        "\n",
        "\n",
        "\n",
        "---\n",
        "\n"
      ]
    },
    {
      "cell_type": "code",
      "metadata": {
        "id": "x4H7vC6lFcHl",
        "outputId": "d458730a-cf38-495b-fbfc-83e6a5865d11",
        "colab": {
          "base_uri": "https://localhost:8080/",
          "height": 405
        }
      },
      "source": [
        "plt.figure(figsize=(12,6))\n",
        "df[df['Produto']=='COCA COLA LATA'].groupby('DiaSemana').count()['Categoria'].plot()\n",
        "df[df['Produto']==\"GUARANÁ ANTÁRTICA LATA\"].groupby(\"DiaSemana\").count()[\"Categoria\"].plot()\n",
        "df[df['Produto']==\"COCA COLA 600ML\"].groupby(\"DiaSemana\").count()[\"Categoria\"].plot()\n",
        "plt.legend([\"Coca Cola Lata\", \"Guaraná Lata\",\"Coca 600ml\"], loc = 0, borderaxespad=1)"
      ],
      "execution_count": null,
      "outputs": [
        {
          "output_type": "execute_result",
          "data": {
            "text/plain": [
              "<matplotlib.legend.Legend at 0x7f26815a0a90>"
            ]
          },
          "metadata": {
            "tags": []
          },
          "execution_count": 51
        },
        {
          "output_type": "display_data",
          "data": {
            "image/png": "[encoded data removed]",
            "text/plain": [
              "<Figure size 864x432 with 1 Axes>"
            ]
          },
          "metadata": {
            "tags": []
          }
        }
      ]
    },
    {
      "cell_type": "markdown",
      "metadata": {
        "id": "gkGYpDl1G3Wn"
      },
      "source": [
        "**Ranking dos refrigerantes.**\n",
        "\n",
        "---\n",
        "\n"
      ]
    },
    {
      "cell_type": "code",
      "metadata": {
        "id": "CoXUIzsQG_p-",
        "outputId": "92203ad2-67c9-4538-ece9-1230452e1e3f",
        "colab": {
          "base_uri": "https://localhost:8080/",
          "height": 405
        }
      },
      "source": [
        "plt.figure(figsize=(12,6))\n",
        "\n",
        "plt.legend([\"Garoto\",\"Clássico\",\"Chicken\",\"Supremo\"], loc=0, borderaxespad=1)"
      ],
      "execution_count": null,
      "outputs": [
        {
          "output_type": "execute_result",
          "data": {
            "text/plain": [
              "<matplotlib.legend.Legend at 0x7f21ee61df28>"
            ]
          },
          "metadata": {
            "tags": []
          },
          "execution_count": 127
        },
        {
          "output_type": "display_data",
          "data": {
            "image/png": "[encoded data removed]",
            "text/plain": [
              "<Figure size 864x432 with 1 Axes>"
            ]
          },
          "metadata": {
            "tags": []
          }
        }
      ]
    },
    {
      "cell_type": "code",
      "source": [
        ""
      ],
      "metadata": {
        "id": "peWXewcB1dWf"
      },
      "execution_count": null,
      "outputs": []
    }
  ]
}